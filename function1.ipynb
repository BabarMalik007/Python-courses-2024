{
 "cells": [
  {
   "cell_type": "markdown",
   "id": "65dc9fe8-6caf-4b10-a3ba-8c07eae0ccca",
   "metadata": {},
   "source": [
    "# Function\n",
    "   - build in\n",
    "   - user define"
   ]
  },
  {
   "cell_type": "code",
   "execution_count": 2,
   "id": "735b4291-6054-452a-9520-848e64191854",
   "metadata": {},
   "outputs": [
    {
     "name": "stdout",
     "output_type": "stream",
     "text": [
      "hello\n"
     ]
    }
   ],
   "source": [
    "print(\"hello\")"
   ]
  },
  {
   "cell_type": "code",
   "execution_count": 3,
   "id": "b5f52530-f53f-483c-b69f-09549d7b5111",
   "metadata": {},
   "outputs": [
    {
     "data": {
      "text/plain": [
       "5"
      ]
     },
     "execution_count": 3,
     "metadata": {},
     "output_type": "execute_result"
    }
   ],
   "source": [
    "len(\"hello\")"
   ]
  },
  {
   "cell_type": "code",
   "execution_count": null,
   "id": "57f92559-7d6b-408b-b240-2e80b811bdfa",
   "metadata": {},
   "outputs": [],
   "source": [
    "what is a function?\n",
    "  Advantage : Food reuseablity\n",
    "\n",
    "              code simplicity/ readablity\n",
    "              bug resolving"
   ]
  },
  {
   "cell_type": "markdown",
   "id": "5d9b234d-f002-4fc6-a039-94bbc07da4a1",
   "metadata": {},
   "source": [
    "# Function define\n",
    "# Function call\n",
    "# Result"
   ]
  },
  {
   "cell_type": "markdown",
   "id": "ba279941-9f73-4b69-8518-ccfd30607d24",
   "metadata": {},
   "source": [
    "# define a function"
   ]
  },
  {
   "cell_type": "code",
   "execution_count": 5,
   "id": "2b771ec8-aea9-48dc-87c6-c447013ffce9",
   "metadata": {},
   "outputs": [],
   "source": [
    "def function_name():\n",
    "    #    function_body\n",
    "    #   function_body\n",
    "    #    function_body\n",
    "    #    function_body\n",
    "    #    function_body\n",
    "    print (\"I am body of my function\")"
   ]
  },
  {
   "cell_type": "markdown",
   "id": "db53ee21-452d-416e-81d5-be65a727250e",
   "metadata": {},
   "source": [
    "# calling a function"
   ]
  },
  {
   "cell_type": "code",
   "execution_count": 6,
   "id": "20df8619-a327-405d-adda-37153fa12903",
   "metadata": {},
   "outputs": [
    {
     "name": "stdout",
     "output_type": "stream",
     "text": [
      "I am body of my function\n"
     ]
    }
   ],
   "source": [
    "function_name()"
   ]
  },
  {
   "cell_type": "code",
   "execution_count": 7,
   "id": "173635da-01e8-4d3a-ab4d-e47e87a9fa14",
   "metadata": {},
   "outputs": [
    {
     "name": "stdout",
     "output_type": "stream",
     "text": [
      "I am body of my function\n",
      "I am body of my function\n",
      "I am body of my function\n",
      "I am body of my function\n",
      "I am body of my function\n",
      "I am body of my function\n",
      "I am body of my function\n"
     ]
    }
   ],
   "source": [
    "function_name()\n",
    "function_name()\n",
    "function_name()\n",
    "function_name()\n",
    "function_name()\n",
    "function_name()\n",
    "function_name()"
   ]
  },
  {
   "cell_type": "code",
   "execution_count": 8,
   "id": "af89fb2d-3398-482f-8b76-33ffba929704",
   "metadata": {},
   "outputs": [],
   "source": [
    "# parameter less function\n",
    "def greetuser():\n",
    "    print(\"Welcome\")"
   ]
  },
  {
   "cell_type": "code",
   "execution_count": 9,
   "id": "89f91946-f04d-4c5e-9ecf-fecfcb75e962",
   "metadata": {},
   "outputs": [
    {
     "name": "stdout",
     "output_type": "stream",
     "text": [
      "Welcome\n"
     ]
    }
   ],
   "source": [
    "greetuser()"
   ]
  },
  {
   "cell_type": "markdown",
   "id": "567354c8-7ea5-4ee8-946b-ed7d25401412",
   "metadata": {},
   "source": [
    "parammeters & Arguments\n",
    "   - parameters are expexted values given from user\n",
    "   - Arguments are values that user supplies to function"
   ]
  },
  {
   "cell_type": "code",
   "execution_count": 16,
   "id": "b1448752-fbef-4c70-814e-10f0f335d8f6",
   "metadata": {},
   "outputs": [],
   "source": [
    "# parameterized function\n",
    "\n",
    "\n",
    "def greetuser(username): # parameter\n",
    "#    name = username.upper()\n",
    "    print(f\"Welcome {username}\") # {name}"
   ]
  },
  {
   "cell_type": "code",
   "execution_count": 11,
   "id": "27f81515-0110-47a1-8258-5037457a13ee",
   "metadata": {},
   "outputs": [
    {
     "ename": "TypeError",
     "evalue": "greetuser() missing 1 required positional argument: 'username'",
     "output_type": "error",
     "traceback": [
      "\u001b[1;31m---------------------------------------------------------------------------\u001b[0m",
      "\u001b[1;31mTypeError\u001b[0m                                 Traceback (most recent call last)",
      "Cell \u001b[1;32mIn[11], line 1\u001b[0m\n\u001b[1;32m----> 1\u001b[0m greetuser()\n",
      "\u001b[1;31mTypeError\u001b[0m: greetuser() missing 1 required positional argument: 'username'"
     ]
    }
   ],
   "source": [
    "greetuser()"
   ]
  },
  {
   "cell_type": "code",
   "execution_count": 17,
   "id": "d16ad6fb-4066-46c1-9174-717c26b81e53",
   "metadata": {},
   "outputs": [
    {
     "name": "stdout",
     "output_type": "stream",
     "text": [
      "Welcome MR , BEAN\n"
     ]
    }
   ],
   "source": [
    "greetuser(\"Mr , Bean\")"
   ]
  },
  {
   "cell_type": "code",
   "execution_count": 29,
   "id": "eff00e79-9b3a-4ba5-b64e-bb1aec569006",
   "metadata": {},
   "outputs": [],
   "source": [
    "def bio_data(name, age , gender , nationality, email , contact):\n",
    "    print(f\"\"\"\n",
    "                     BIO DATA\n",
    "             _________________________\n",
    "              Name of student : {name}    \n",
    "              Age of students: {age}\n",
    "              Gender : {gender}\n",
    "              Nationality : {nationality}\n",
    "              Email : {email}\n",
    "              Contact : {contact}\n",
    "              _________________________\n",
    "    \"\"\")"
   ]
  },
  {
   "cell_type": "code",
   "execution_count": 30,
   "id": "7b2336f2-8502-4d23-b5e5-1c4c2ab4ae3e",
   "metadata": {},
   "outputs": [
    {
     "name": "stdout",
     "output_type": "stream",
     "text": [
      "\n",
      "                     BIO DATA\n",
      "             _________________________\n",
      "              Name of student : ALI    \n",
      "              Age of students: 22\n",
      "              Gender : Male\n",
      "              Nationality : Pakistani\n",
      "              Email : ali@gmail.com\n",
      "              Contact : 123456788\n",
      "              _________________________\n",
      "    \n"
     ]
    }
   ],
   "source": [
    "# positional arguments are assigned according to  position in the parameter\n",
    "bio_data(\"ALI\", 22 , 'Male' , \"Pakistani\", \"ali@gmail.com\", 123456788)"
   ]
  },
  {
   "cell_type": "code",
   "execution_count": 34,
   "id": "f796b357-ffd3-4b52-ad85-0047d088eb3d",
   "metadata": {},
   "outputs": [],
   "source": [
    "def fulname(fname,lname, age):\n",
    "    print(f\"{fname} {lname}\")\n",
    "    print(f\"age is {age}\")"
   ]
  },
  {
   "cell_type": "code",
   "execution_count": 35,
   "id": "6d69dabe-2936-4215-a6c8-0a94fa556a0a",
   "metadata": {},
   "outputs": [
    {
     "name": "stdout",
     "output_type": "stream",
     "text": [
      "hussain 23\n",
      "age is nasir\n"
     ]
    }
   ],
   "source": [
    "fulname(\"hussain\" ,23, \"nasir\")"
   ]
  },
  {
   "cell_type": "code",
   "execution_count": 37,
   "id": "be2af135-d90e-4403-bed9-65f463b80c91",
   "metadata": {},
   "outputs": [
    {
     "name": "stdout",
     "output_type": "stream",
     "text": [
      "Nasir hussain\n",
      "age is 23\n"
     ]
    }
   ],
   "source": [
    "# keywords arguments\n",
    "fulname(age=23, lname=\"hussain\", fname=\"Nasir\")"
   ]
  },
  {
   "cell_type": "code",
   "execution_count": 38,
   "id": "353c15ab-8669-4233-b0c4-1623fa3b1935",
   "metadata": {},
   "outputs": [],
   "source": [
    "def areaoftriangle(l,b):\n",
    "    area = 0.5 * l * b\n",
    "    print (f\"Area of triangle is {area} sq.cm\")"
   ]
  },
  {
   "cell_type": "code",
   "execution_count": 39,
   "id": "965dac1e-268e-4175-a08b-dabdf4e999a6",
   "metadata": {},
   "outputs": [
    {
     "name": "stdout",
     "output_type": "stream",
     "text": [
      "Area of triangle is 4.0 sq.cm\n"
     ]
    }
   ],
   "source": [
    "areaoftriangle(2,4)"
   ]
  },
  {
   "cell_type": "code",
   "execution_count": 40,
   "id": "5a93a9e2-efad-40ce-ab14-5ff72c9c5e0e",
   "metadata": {},
   "outputs": [
    {
     "name": "stdout",
     "output_type": "stream",
     "text": [
      "Area of triangle is 517.5 sq.cm\n"
     ]
    }
   ],
   "source": [
    "areaoftriangle(23,45)"
   ]
  },
  {
   "cell_type": "code",
   "execution_count": 50,
   "id": "5ee30283-2bf8-4aaf-acaf-c4faaf8cfee9",
   "metadata": {},
   "outputs": [],
   "source": [
    "def textcalc(income):\n",
    "    tax_amount = 0\n",
    "    if income >= 1000000:\n",
    "        tax_per= 20\n",
    "        tax_amount = income * .20\n",
    "        print (f\"tax amount is {tax_amount}\")\n",
    "    elif income >= 500000:\n",
    "        tax_per= 10\n",
    "        tax_amount = income * .10\n",
    "        print (f\"tax amount is {tax_amount}\")\n",
    "    elif income >= 250000:\n",
    "        tax_per= 5\n",
    "        tax_amount = income * .05\n",
    "        print (f\"tax amount is {tax_amount}\")\n",
    "    else:\n",
    "        tax_amount= income * 0\n",
    "        print (f\"tax amount is {tax_amount}\")"
   ]
  },
  {
   "cell_type": "code",
   "execution_count": 51,
   "id": "6b75c5a7-a8c8-426f-9ba4-9957f90e32d3",
   "metadata": {},
   "outputs": [
    {
     "name": "stdout",
     "output_type": "stream",
     "text": [
      "tax amount is 400000.0\n"
     ]
    }
   ],
   "source": [
    "textcalc(2000000)"
   ]
  },
  {
   "cell_type": "code",
   "execution_count": 52,
   "id": "345db79b-d361-417f-8a38-d678a328ad81",
   "metadata": {},
   "outputs": [
    {
     "name": "stdout",
     "output_type": "stream",
     "text": [
      "tax amount is 200000.0\n"
     ]
    }
   ],
   "source": [
    "textcalc(1000000)"
   ]
  },
  {
   "cell_type": "code",
   "execution_count": 53,
   "id": "05f00700-3284-4134-9e26-d00a9d2d7038",
   "metadata": {},
   "outputs": [
    {
     "name": "stdout",
     "output_type": "stream",
     "text": [
      "tax amount is 60000.0\n"
     ]
    }
   ],
   "source": [
    "textcalc(600000)"
   ]
  },
  {
   "cell_type": "code",
   "execution_count": 58,
   "id": "b51476a3-8c2d-4752-928e-115ed2090779",
   "metadata": {},
   "outputs": [],
   "source": [
    "def taxtcalc(income):\n",
    "    tax_amount = 0\n",
    "    if income >= 1000000:\n",
    "        tax_amount = income * .20\n",
    "        print (f\"tax amount is {tax_amount}\")\n",
    "    elif income >= 500000:\n",
    "        tax_amount = income * .10\n",
    "        print (f\"tax amount is {tax_amount}\")\n",
    "    elif income >= 250000:\n",
    "        tax_amount = income * .05\n",
    "        print (f\"tax amount is {tax_amount}\")\n",
    "    else:\n",
    "        tax_amount= income * 0\n",
    "        print (f\"tax amount is {tax_amount}\")"
   ]
  },
  {
   "cell_type": "code",
   "execution_count": 57,
   "id": "b652e1a3-9d48-4e6d-b5e5-aa919e75ea1f",
   "metadata": {},
   "outputs": [],
   "source": [
    "def grossSalary(salary,tax):\n",
    "    gross = salary - tax\n",
    "    print (f\"gross salary is {gross}\")"
   ]
  },
  {
   "cell_type": "code",
   "execution_count": 60,
   "id": "8194fac0-3c73-4d58-a0f4-291a72bd27b1",
   "metadata": {},
   "outputs": [
    {
     "name": "stdout",
     "output_type": "stream",
     "text": [
      "tax amount is 70000.0\n"
     ]
    },
    {
     "ename": "TypeError",
     "evalue": "unsupported operand type(s) for -: 'int' and 'NoneType'",
     "output_type": "error",
     "traceback": [
      "\u001b[1;31m---------------------------------------------------------------------------\u001b[0m",
      "\u001b[1;31mTypeError\u001b[0m                                 Traceback (most recent call last)",
      "Cell \u001b[1;32mIn[60], line 1\u001b[0m\n\u001b[1;32m----> 1\u001b[0m grossSalary(\u001b[38;5;241m700000\u001b[39m,taxtcalc(\u001b[38;5;241m700000\u001b[39m))\n",
      "Cell \u001b[1;32mIn[57], line 2\u001b[0m, in \u001b[0;36mgrossSalary\u001b[1;34m(salary, tax)\u001b[0m\n\u001b[0;32m      1\u001b[0m \u001b[38;5;28;01mdef\u001b[39;00m \u001b[38;5;21mgrossSalary\u001b[39m(salary,tax):\n\u001b[1;32m----> 2\u001b[0m     gross \u001b[38;5;241m=\u001b[39m salary \u001b[38;5;241m-\u001b[39m tax\n\u001b[0;32m      3\u001b[0m     \u001b[38;5;28mprint\u001b[39m (\u001b[38;5;124mf\u001b[39m\u001b[38;5;124m\"\u001b[39m\u001b[38;5;124mgross salary is \u001b[39m\u001b[38;5;132;01m{\u001b[39;00mgross\u001b[38;5;132;01m}\u001b[39;00m\u001b[38;5;124m\"\u001b[39m)\n",
      "\u001b[1;31mTypeError\u001b[0m: unsupported operand type(s) for -: 'int' and 'NoneType'"
     ]
    }
   ],
   "source": [
    "grossSalary(700000,taxtcalc(700000))"
   ]
  },
  {
   "cell_type": "code",
   "execution_count": 67,
   "id": "b676e136-7a43-455d-bd41-3fe87f336a25",
   "metadata": {},
   "outputs": [],
   "source": [
    "def abc():\n",
    "    print(\"i am abc\")\n",
    "    return abc"
   ]
  },
  {
   "cell_type": "code",
   "execution_count": 66,
   "id": "6272283b-6f04-44fe-a065-2f060f4c3fa4",
   "metadata": {},
   "outputs": [
    {
     "name": "stdout",
     "output_type": "stream",
     "text": [
      "i am abc\n",
      "i am abc\n",
      "i am abc\n",
      "i am abc\n",
      "i am abc\n",
      "i am abc\n",
      "i am abc\n",
      "i am abc\n",
      "i am abc\n",
      "i am abc\n",
      "i am abc\n",
      "i am abc\n",
      "i am abc\n",
      "i am abc\n",
      "i am abc\n",
      "i am abc\n",
      "i am abc\n",
      "i am abc\n",
      "i am abc\n",
      "i am abc\n",
      "i am abc\n",
      "i am abc\n",
      "i am abc\n",
      "i am abc\n",
      "i am abc\n",
      "i am abc\n",
      "i am abc\n",
      "i am abc\n",
      "i am abc\n",
      "i am abc\n",
      "i am abc\n",
      "i am abc\n",
      "i am abc\n",
      "i am abc\n",
      "i am abc\n",
      "i am abc\n",
      "i am abc\n",
      "i am abc\n",
      "i am abc\n",
      "i am abc\n",
      "i am abc\n",
      "i am abc\n",
      "i am abc\n",
      "i am abc\n",
      "i am abc\n",
      "i am abc\n",
      "i am abc\n",
      "i am abc\n",
      "i am abc\n",
      "i am abc\n",
      "i am abc\n",
      "i am abc\n",
      "i am abc\n",
      "i am abc\n",
      "i am abc\n",
      "i am abc\n",
      "i am abc\n",
      "i am abc\n",
      "i am abc\n",
      "i am abc\n",
      "i am abc\n",
      "i am abc\n",
      "i am abc\n",
      "i am abc\n",
      "i am abc\n",
      "i am abc\n",
      "i am abc\n",
      "i am abc\n",
      "i am abc\n",
      "i am abc\n",
      "i am abc\n",
      "i am abc\n",
      "i am abc\n",
      "i am abc\n",
      "i am abc\n",
      "i am abc\n",
      "i am abc\n",
      "i am abc\n",
      "i am abc\n",
      "i am abc\n",
      "i am abc\n",
      "i am abc\n",
      "i am abc\n",
      "i am abc\n",
      "i am abc\n",
      "i am abc\n",
      "i am abc\n",
      "i am abc\n",
      "i am abc\n",
      "i am abc\n",
      "i am abc\n",
      "i am abc\n",
      "i am abc\n",
      "i am abc\n",
      "i am abc\n",
      "i am abc\n",
      "i am abc\n",
      "i am abc\n",
      "i am abc\n",
      "i am abc\n",
      "i am abc\n",
      "i am abc\n",
      "i am abc\n",
      "i am abc\n",
      "i am abc\n",
      "i am abc\n",
      "i am abc\n",
      "i am abc\n",
      "i am abc\n",
      "i am abc\n",
      "i am abc\n",
      "i am abc\n",
      "i am abc\n",
      "i am abc\n",
      "i am abc\n",
      "i am abc\n",
      "i am abc\n",
      "i am abc\n",
      "i am abc\n",
      "i am abc\n",
      "i am abc\n",
      "i am abc\n",
      "i am abc\n",
      "i am abc\n",
      "i am abc\n",
      "i am abc\n",
      "i am abc\n",
      "i am abc\n",
      "i am abc\n",
      "i am abc\n",
      "i am abc\n",
      "i am abc\n",
      "i am abc\n",
      "i am abc\n",
      "i am abc\n",
      "i am abc\n",
      "i am abc\n",
      "i am abc\n",
      "i am abc\n",
      "i am abc\n",
      "i am abc\n",
      "i am abc\n",
      "i am abc\n",
      "i am abc\n",
      "i am abc\n",
      "i am abc\n",
      "i am abc\n",
      "i am abc\n",
      "i am abc\n",
      "i am abc\n",
      "i am abc\n",
      "i am abc\n",
      "i am abc\n",
      "i am abc\n",
      "i am abc\n",
      "i am abc\n",
      "i am abc\n",
      "i am abc\n",
      "i am abc\n",
      "i am abc\n",
      "i am abc\n",
      "i am abc\n",
      "i am abc\n",
      "i am abc\n",
      "i am abc\n",
      "i am abc\n",
      "i am abc\n",
      "i am abc\n",
      "i am abc\n",
      "i am abc\n",
      "i am abc\n",
      "i am abc\n",
      "i am abc\n",
      "i am abc\n",
      "i am abc\n",
      "i am abc\n",
      "i am abc\n",
      "i am abc\n",
      "i am abc\n",
      "i am abc\n",
      "i am abc\n",
      "i am abc\n",
      "i am abc\n",
      "i am abc\n",
      "i am abc\n",
      "i am abc\n",
      "i am abc\n",
      "i am abc\n",
      "i am abc\n",
      "i am abc\n",
      "i am abc\n",
      "i am abc\n",
      "i am abc\n",
      "i am abc\n",
      "i am abc\n",
      "i am abc\n",
      "i am abc\n",
      "i am abc\n",
      "i am abc\n",
      "i am abc\n",
      "i am abc\n",
      "i am abc\n",
      "i am abc\n",
      "i am abc\n",
      "i am abc\n",
      "i am abc\n",
      "i am abc\n",
      "i am abc\n",
      "i am abc\n",
      "i am abc\n",
      "i am abc\n",
      "i am abc\n",
      "i am abc\n",
      "i am abc\n",
      "i am abc\n",
      "i am abc\n",
      "i am abc\n",
      "i am abc\n",
      "i am abc\n",
      "i am abc\n",
      "i am abc\n",
      "i am abc\n",
      "i am abc\n",
      "i am abc\n",
      "i am abc\n",
      "i am abc\n",
      "i am abc\n",
      "i am abc\n",
      "i am abc\n",
      "i am abc\n",
      "i am abc\n",
      "i am abc\n",
      "i am abc\n",
      "i am abc\n",
      "i am abc\n",
      "i am abc\n",
      "i am abc\n",
      "i am abc\n",
      "i am abc\n",
      "i am abc\n",
      "i am abc\n",
      "i am abc\n",
      "i am abc\n",
      "i am abc\n",
      "i am abc\n",
      "i am abc\n",
      "i am abc\n",
      "i am abc\n",
      "i am abc\n",
      "i am abc\n",
      "i am abc\n",
      "i am abc\n",
      "i am abc\n",
      "i am abc\n",
      "i am abc\n",
      "i am abc\n",
      "i am abc\n",
      "i am abc\n",
      "i am abc\n",
      "i am abc\n",
      "i am abc\n",
      "i am abc\n",
      "i am abc\n",
      "i am abc\n",
      "i am abc\n",
      "i am abc\n",
      "i am abc\n",
      "i am abc\n",
      "i am abc\n",
      "i am abc\n",
      "i am abc\n",
      "i am abc\n",
      "i am abc\n",
      "i am abc\n",
      "i am abc\n",
      "i am abc\n",
      "i am abc\n",
      "i am abc\n",
      "i am abc\n",
      "i am abc\n",
      "i am abc\n",
      "i am abc\n",
      "i am abc\n",
      "i am abc\n",
      "i am abc\n",
      "i am abc\n",
      "i am abc\n",
      "i am abc\n",
      "i am abc\n",
      "i am abc\n",
      "i am abc\n",
      "i am abc\n",
      "i am abc\n",
      "i am abc\n",
      "i am abc\n",
      "i am abc\n",
      "i am abc\n",
      "i am abc\n",
      "i am abc\n",
      "i am abc\n",
      "i am abc\n",
      "i am abc\n",
      "i am abc\n",
      "i am abc\n",
      "i am abc\n",
      "i am abc\n",
      "i am abc\n",
      "i am abc\n",
      "i am abc\n",
      "i am abc\n",
      "i am abc\n",
      "i am abc\n",
      "i am abc\n",
      "i am abc\n",
      "i am abc\n",
      "i am abc\n",
      "i am abc\n",
      "i am abc\n",
      "i am abc\n",
      "i am abc\n",
      "i am abc\n",
      "i am abc\n",
      "i am abc\n",
      "i am abc\n",
      "i am abc\n",
      "i am abc\n",
      "i am abc\n",
      "i am abc\n",
      "i am abc\n",
      "i am abc\n",
      "i am abc\n",
      "i am abc\n",
      "i am abc\n",
      "i am abc\n",
      "i am abc\n",
      "i am abc\n",
      "i am abc\n",
      "i am abc\n",
      "i am abc\n",
      "i am abc\n",
      "i am abc\n",
      "i am abc\n",
      "i am abc\n",
      "i am abc\n",
      "i am abc\n",
      "i am abc\n",
      "i am abc\n",
      "i am abc\n",
      "i am abc\n",
      "i am abc\n",
      "i am abc\n",
      "i am abc\n",
      "i am abc\n",
      "i am abc\n",
      "i am abc\n",
      "i am abc\n",
      "i am abc\n",
      "i am abc\n",
      "i am abc\n",
      "i am abc\n",
      "i am abc\n",
      "i am abc\n",
      "i am abc\n",
      "i am abc\n",
      "i am abc\n",
      "i am abc\n",
      "i am abc\n",
      "i am abc\n",
      "i am abc\n",
      "i am abc\n",
      "i am abc\n",
      "i am abc\n",
      "i am abc\n",
      "i am abc\n",
      "i am abc\n",
      "i am abc\n",
      "i am abc\n",
      "i am abc\n",
      "i am abc\n",
      "i am abc\n",
      "i am abc\n",
      "i am abc\n",
      "i am abc\n",
      "i am abc\n",
      "i am abc\n",
      "i am abc\n",
      "i am abc\n",
      "i am abc\n",
      "i am abc\n",
      "i am abc\n",
      "i am abc\n",
      "i am abc\n",
      "i am abc\n",
      "i am abc\n",
      "i am abc\n",
      "i am abc\n",
      "i am abc\n",
      "i am abc\n",
      "i am abc\n",
      "i am abc\n",
      "i am abc\n",
      "i am abc\n",
      "i am abc\n",
      "i am abc\n",
      "i am abc\n",
      "i am abc\n",
      "i am abc\n",
      "i am abc\n",
      "i am abc\n",
      "i am abc\n",
      "i am abc\n",
      "i am abc\n",
      "i am abc\n",
      "i am abc\n",
      "i am abc\n",
      "i am abc\n",
      "i am abc\n",
      "i am abc\n",
      "i am abc\n",
      "i am abc\n",
      "i am abc\n",
      "i am abc\n",
      "i am abc\n",
      "i am abc\n",
      "i am abc\n",
      "i am abc\n",
      "i am abc\n",
      "i am abc\n",
      "i am abc\n",
      "i am abc\n",
      "i am abc\n",
      "i am abc\n",
      "i am abc\n",
      "i am abc\n",
      "i am abc\n",
      "i am abc\n",
      "i am abc\n",
      "i am abc\n",
      "i am abc\n",
      "i am abc\n",
      "i am abc\n",
      "i am abc\n",
      "i am abc\n",
      "i am abc\n",
      "i am abc\n",
      "i am abc\n",
      "i am abc\n",
      "i am abc\n",
      "i am abc\n",
      "i am abc\n",
      "i am abc\n",
      "i am abc\n",
      "i am abc\n",
      "i am abc\n",
      "i am abc\n",
      "i am abc\n",
      "i am abc\n",
      "i am abc\n",
      "i am abc\n",
      "i am abc\n",
      "i am abc\n",
      "i am abc\n",
      "i am abc\n",
      "i am abc\n",
      "i am abc\n",
      "i am abc\n",
      "i am abc\n",
      "i am abc\n",
      "i am abc\n",
      "i am abc\n",
      "i am abc\n",
      "i am abc\n",
      "i am abc\n",
      "i am abc\n",
      "i am abc\n",
      "i am abc\n",
      "i am abc\n",
      "i am abc\n",
      "i am abc\n",
      "i am abc\n",
      "i am abc\n",
      "i am abc\n",
      "i am abc\n",
      "i am abc\n",
      "i am abc\n",
      "i am abc\n",
      "i am abc\n",
      "i am abc\n",
      "i am abc\n",
      "i am abc\n",
      "i am abc\n",
      "i am abc\n",
      "i am abc\n",
      "i am abc\n",
      "i am abc\n",
      "i am abc\n",
      "i am abc\n",
      "i am abc\n",
      "i am abc\n",
      "i am abc\n",
      "i am abc\n",
      "i am abc\n",
      "i am abc\n",
      "i am abc\n",
      "i am abc\n",
      "i am abc\n",
      "i am abc\n",
      "i am abc\n",
      "i am abc\n",
      "i am abc\n",
      "i am abc\n",
      "i am abc\n",
      "i am abc\n",
      "i am abc\n",
      "i am abc\n",
      "i am abc\n",
      "i am abc\n",
      "i am abc\n",
      "i am abc\n",
      "i am abc\n",
      "i am abc\n",
      "i am abc\n",
      "i am abc\n",
      "i am abc\n",
      "i am abc\n",
      "i am abc\n",
      "i am abc\n",
      "i am abc\n",
      "i am abc\n",
      "i am abc\n",
      "i am abc\n",
      "i am abc\n",
      "i am abc\n",
      "i am abc\n",
      "i am abc\n",
      "i am abc\n",
      "i am abc\n",
      "i am abc\n",
      "i am abc\n",
      "i am abc\n",
      "i am abc\n",
      "i am abc\n",
      "i am abc\n",
      "i am abc\n",
      "i am abc\n",
      "i am abc\n",
      "i am abc\n",
      "i am abc\n",
      "i am abc\n",
      "i am abc\n",
      "i am abc\n",
      "i am abc\n",
      "i am abc\n",
      "i am abc\n",
      "i am abc\n",
      "i am abc\n",
      "i am abc\n",
      "i am abc\n",
      "i am abc\n",
      "i am abc\n",
      "i am abc\n",
      "i am abc\n",
      "i am abc\n",
      "i am abc\n",
      "i am abc\n",
      "i am abc\n",
      "i am abc\n",
      "i am abc\n",
      "i am abc\n",
      "i am abc\n",
      "i am abc\n",
      "i am abc\n",
      "i am abc\n",
      "i am abc\n",
      "i am abc\n",
      "i am abc\n",
      "i am abc\n",
      "i am abc\n",
      "i am abc\n",
      "i am abc\n",
      "i am abc\n",
      "i am abc\n",
      "i am abc\n",
      "i am abc\n",
      "i am abc\n",
      "i am abc\n",
      "i am abc\n",
      "i am abc\n",
      "i am abc\n",
      "i am abc\n",
      "i am abc\n",
      "i am abc\n",
      "i am abc\n",
      "i am abc\n",
      "i am abc\n",
      "i am abc\n",
      "i am abc\n",
      "i am abc\n",
      "i am abc\n",
      "i am abc\n",
      "i am abc\n",
      "i am abc\n",
      "i am abc\n",
      "i am abc\n",
      "i am abc\n",
      "i am abc\n",
      "i am abc\n",
      "i am abc\n",
      "i am abc\n",
      "i am abc\n",
      "i am abc\n",
      "i am abc\n",
      "i am abc\n",
      "i am abc\n",
      "i am abc\n",
      "i am abc\n",
      "i am abc\n",
      "i am abc\n",
      "i am abc\n",
      "i am abc\n",
      "i am abc\n",
      "i am abc\n",
      "i am abc\n",
      "i am abc\n",
      "i am abc\n",
      "i am abc\n",
      "i am abc\n",
      "i am abc\n",
      "i am abc\n",
      "i am abc\n",
      "i am abc\n",
      "i am abc\n",
      "i am abc\n",
      "i am abc\n",
      "i am abc\n",
      "i am abc\n",
      "i am abc\n",
      "i am abc\n",
      "i am abc\n",
      "i am abc\n",
      "i am abc\n",
      "i am abc\n",
      "i am abc\n",
      "i am abc\n",
      "i am abc\n",
      "i am abc\n",
      "i am abc\n",
      "i am abc\n",
      "i am abc\n",
      "i am abc\n",
      "i am abc\n",
      "i am abc\n",
      "i am abc\n",
      "i am abc\n",
      "i am abc\n",
      "i am abc\n",
      "i am abc\n",
      "i am abc\n",
      "i am abc\n",
      "i am abc\n",
      "i am abc\n",
      "i am abc\n",
      "i am abc\n",
      "i am abc\n",
      "i am abc\n",
      "i am abc\n",
      "i am abc\n",
      "i am abc\n",
      "i am abc\n",
      "i am abc\n",
      "i am abc\n",
      "i am abc\n",
      "i am abc\n",
      "i am abc\n",
      "i am abc\n",
      "i am abc\n",
      "i am abc\n",
      "i am abc\n",
      "i am abc\n",
      "i am abc\n",
      "i am abc\n",
      "i am abc\n",
      "i am abc\n",
      "i am abc\n",
      "i am abc\n",
      "i am abc\n",
      "i am abc\n",
      "i am abc\n",
      "i am abc\n",
      "i am abc\n",
      "i am abc\n",
      "i am abc\n",
      "i am abc\n",
      "i am abc\n",
      "i am abc\n",
      "i am abc\n",
      "i am abc\n",
      "i am abc\n",
      "i am abc\n",
      "i am abc\n",
      "i am abc\n",
      "i am abc\n",
      "i am abc\n",
      "i am abc\n",
      "i am abc\n",
      "i am abc\n",
      "i am abc\n",
      "i am abc\n",
      "i am abc\n",
      "i am abc\n",
      "i am abc\n",
      "i am abc\n",
      "i am abc\n",
      "i am abc\n",
      "i am abc\n",
      "i am abc\n",
      "i am abc\n",
      "i am abc\n",
      "i am abc\n",
      "i am abc\n",
      "i am abc\n",
      "i am abc\n",
      "i am abc\n",
      "i am abc\n",
      "i am abc\n",
      "i am abc\n",
      "i am abc\n",
      "i am abc\n",
      "i am abc\n",
      "i am abc\n",
      "i am abc\n",
      "i am abc\n",
      "i am abc\n",
      "i am abc\n",
      "i am abc\n",
      "i am abc\n",
      "i am abc\n",
      "i am abc\n",
      "i am abc\n",
      "i am abc\n",
      "i am abc\n",
      "i am abc\n",
      "i am abc\n",
      "i am abc\n",
      "i am abc\n",
      "i am abc\n",
      "i am abc\n",
      "i am abc\n",
      "i am abc\n",
      "i am abc\n",
      "i am abc\n",
      "i am abc\n",
      "i am abc\n",
      "i am abc\n",
      "i am abc\n",
      "i am abc\n",
      "i am abc\n",
      "i am abc\n",
      "i am abc\n",
      "i am abc\n",
      "i am abc\n",
      "i am abc\n",
      "i am abc\n",
      "i am abc\n",
      "i am abc\n",
      "i am abc\n",
      "i am abc\n",
      "i am abc\n",
      "i am abc\n",
      "i am abc\n",
      "i am abc\n",
      "i am abc\n",
      "i am abc\n",
      "i am abc\n",
      "i am abc\n",
      "i am abc\n",
      "i am abc\n",
      "i am abc\n",
      "i am abc\n",
      "i am abc\n",
      "i am abc\n",
      "i am abc\n",
      "i am abc\n",
      "i am abc\n",
      "i am abc\n",
      "i am abc\n",
      "i am abc\n",
      "i am abc\n",
      "i am abc\n",
      "i am abc\n",
      "i am abc\n",
      "i am abc\n",
      "i am abc\n",
      "i am abc\n",
      "i am abc\n",
      "i am abc\n",
      "i am abc\n",
      "i am abc\n",
      "i am abc\n",
      "i am abc\n",
      "i am abc\n",
      "i am abc\n",
      "i am abc\n",
      "i am abc\n",
      "i am abc\n",
      "i am abc\n",
      "i am abc\n",
      "i am abc\n",
      "i am abc\n",
      "i am abc\n",
      "i am abc\n",
      "i am abc\n",
      "i am abc\n",
      "i am abc\n",
      "i am abc\n",
      "i am abc\n",
      "i am abc\n",
      "i am abc\n",
      "i am abc\n",
      "i am abc\n",
      "i am abc\n",
      "i am abc\n",
      "i am abc\n",
      "i am abc\n",
      "i am abc\n",
      "i am abc\n",
      "i am abc\n",
      "i am abc\n",
      "i am abc\n",
      "i am abc\n",
      "i am abc\n",
      "i am abc\n",
      "i am abc\n",
      "i am abc\n",
      "i am abc\n",
      "i am abc\n",
      "i am abc\n",
      "i am abc\n",
      "i am abc\n",
      "i am abc\n",
      "i am abc\n",
      "i am abc\n",
      "i am abc\n",
      "i am abc\n",
      "i am abc\n",
      "i am abc\n",
      "i am abc\n",
      "i am abc\n",
      "i am abc\n",
      "i am abc\n",
      "i am abc\n",
      "i am abc\n",
      "i am abc\n",
      "i am abc\n",
      "i am abc\n",
      "i am abc\n",
      "i am abc\n",
      "i am abc\n",
      "i am abc\n",
      "i am abc\n",
      "i am abc\n",
      "i am abc\n",
      "i am abc\n",
      "i am abc\n",
      "i am abc\n",
      "i am abc\n",
      "i am abc\n",
      "i am abc\n",
      "i am abc\n",
      "i am abc\n",
      "i am abc\n",
      "i am abc\n",
      "i am abc\n",
      "i am abc\n",
      "i am abc\n",
      "i am abc\n",
      "i am abc\n",
      "i am abc\n",
      "i am abc\n",
      "i am abc\n",
      "i am abc\n",
      "i am abc\n",
      "i am abc\n",
      "i am abc\n",
      "i am abc\n",
      "i am abc\n",
      "i am abc\n",
      "i am abc\n",
      "i am abc\n",
      "i am abc\n",
      "i am abc\n",
      "i am abc\n",
      "i am abc\n",
      "i am abc\n",
      "i am abc\n",
      "i am abc\n",
      "i am abc\n",
      "i am abc\n",
      "i am abc\n",
      "i am abc\n",
      "i am abc\n",
      "i am abc\n",
      "i am abc\n",
      "i am abc\n",
      "i am abc\n",
      "i am abc\n",
      "i am abc\n",
      "i am abc\n",
      "i am abc\n",
      "i am abc\n",
      "i am abc\n",
      "i am abc\n",
      "i am abc\n",
      "i am abc\n",
      "i am abc\n",
      "i am abc\n",
      "i am abc\n",
      "i am abc\n",
      "i am abc\n",
      "i am abc\n",
      "i am abc\n",
      "i am abc\n",
      "i am abc\n",
      "i am abc\n",
      "i am abc\n",
      "i am abc\n",
      "i am abc\n",
      "i am abc\n",
      "i am abc\n",
      "i am abc\n",
      "i am abc\n",
      "i am abc\n",
      "i am abc\n",
      "i am abc\n",
      "i am abc\n",
      "i am abc\n",
      "i am abc\n",
      "i am abc\n",
      "i am abc\n",
      "i am abc\n",
      "i am abc\n",
      "i am abc\n",
      "i am abc\n",
      "i am abc\n",
      "i am abc\n",
      "i am abc\n",
      "i am abc\n",
      "i am abc\n",
      "i am abc\n",
      "i am abc\n",
      "i am abc\n",
      "i am abc\n",
      "i am abc\n",
      "i am abc\n",
      "i am abc\n",
      "i am abc\n",
      "i am abc\n",
      "i am abc\n",
      "i am abc\n",
      "i am abc\n",
      "i am abc\n",
      "i am abc\n",
      "i am abc\n",
      "i am abc\n",
      "i am abc\n",
      "i am abc\n",
      "i am abc\n",
      "i am abc\n",
      "i am abc\n",
      "i am abc\n",
      "i am abc\n",
      "i am abc\n",
      "i am abc\n",
      "i am abc\n",
      "i am abc\n",
      "i am abc\n",
      "i am abc\n",
      "i am abc\n",
      "i am abc\n",
      "i am abc\n",
      "i am abc\n",
      "i am abc\n",
      "i am abc\n",
      "i am abc\n",
      "i am abc\n",
      "i am abc\n",
      "i am abc\n",
      "i am abc\n",
      "i am abc\n",
      "i am abc\n",
      "i am abc\n",
      "i am abc\n",
      "i am abc\n",
      "i am abc\n",
      "i am abc\n",
      "i am abc\n",
      "i am abc\n",
      "i am abc\n",
      "i am abc\n",
      "i am abc\n",
      "i am abc\n",
      "i am abc\n",
      "i am abc\n",
      "i am abc\n",
      "i am abc\n",
      "i am abc\n",
      "i am abc\n",
      "i am abc\n",
      "i am abc\n",
      "i am abc\n",
      "i am abc\n",
      "i am abc\n",
      "i am abc\n",
      "i am abc\n",
      "i am abc\n",
      "i am abc\n",
      "i am abc\n",
      "i am abc\n",
      "i am abc\n",
      "i am abc\n",
      "i am abc\n",
      "i am abc\n",
      "i am abc\n",
      "i am abc\n",
      "i am abc\n",
      "i am abc\n",
      "i am abc\n",
      "i am abc\n",
      "i am abc\n",
      "i am abc\n",
      "i am abc\n",
      "i am abc\n",
      "i am abc\n",
      "i am abc\n",
      "i am abc\n",
      "i am abc\n",
      "i am abc\n",
      "i am abc\n",
      "i am abc\n",
      "i am abc\n",
      "i am abc\n",
      "i am abc\n",
      "i am abc\n",
      "i am abc\n",
      "i am abc\n",
      "i am abc\n",
      "i am abc\n",
      "i am abc\n",
      "i am abc\n",
      "i am abc\n",
      "i am abc\n",
      "i am abc\n",
      "i am abc\n",
      "i am abc\n",
      "i am abc\n",
      "i am abc\n",
      "i am abc\n",
      "i am abc\n",
      "i am abc\n",
      "i am abc\n",
      "i am abc\n",
      "i am abc\n",
      "i am abc\n",
      "i am abc\n",
      "i am abc\n",
      "i am abc\n",
      "i am abc\n",
      "i am abc\n",
      "i am abc\n",
      "i am abc\n",
      "i am abc\n",
      "i am abc\n",
      "i am abc\n",
      "i am abc\n",
      "i am abc\n",
      "i am abc\n",
      "i am abc\n",
      "i am abc\n",
      "i am abc\n",
      "i am abc\n",
      "i am abc\n",
      "i am abc\n",
      "i am abc\n",
      "i am abc\n",
      "i am abc\n",
      "i am abc\n",
      "i am abc\n",
      "i am abc\n",
      "i am abc\n",
      "i am abc\n",
      "i am abc\n",
      "i am abc\n",
      "i am abc\n",
      "i am abc\n",
      "i am abc\n",
      "i am abc\n",
      "i am abc\n",
      "i am abc\n",
      "i am abc\n",
      "i am abc\n",
      "i am abc\n",
      "i am abc\n",
      "i am abc\n",
      "i am abc\n",
      "i am abc\n",
      "i am abc\n",
      "i am abc\n",
      "i am abc\n",
      "i am abc\n",
      "i am abc\n",
      "i am abc\n",
      "i am abc\n",
      "i am abc\n",
      "i am abc\n",
      "i am abc\n",
      "i am abc\n",
      "i am abc\n",
      "i am abc\n",
      "i am abc\n",
      "i am abc\n",
      "i am abc\n",
      "i am abc\n",
      "i am abc\n",
      "i am abc\n",
      "i am abc\n",
      "i am abc\n",
      "i am abc\n",
      "i am abc\n",
      "i am abc\n",
      "i am abc\n",
      "i am abc\n",
      "i am abc\n",
      "i am abc\n",
      "i am abc\n",
      "i am abc\n",
      "i am abc\n",
      "i am abc\n",
      "i am abc\n",
      "i am abc\n",
      "i am abc\n",
      "i am abc\n",
      "i am abc\n",
      "i am abc\n",
      "i am abc\n",
      "i am abc\n",
      "i am abc\n",
      "i am abc\n",
      "i am abc\n",
      "i am abc\n",
      "i am abc\n",
      "i am abc\n",
      "i am abc\n",
      "i am abc\n",
      "i am abc\n",
      "i am abc\n",
      "i am abc\n",
      "i am abc\n",
      "i am abc\n",
      "i am abc\n",
      "i am abc\n",
      "i am abc\n",
      "i am abc\n",
      "i am abc\n",
      "i am abc\n",
      "i am abc\n",
      "i am abc\n",
      "i am abc\n",
      "i am abc\n",
      "i am abc\n",
      "i am abc\n",
      "i am abc\n",
      "i am abc\n",
      "i am abc\n",
      "i am abc\n",
      "i am abc\n",
      "i am abc\n",
      "i am abc\n",
      "i am abc\n",
      "i am abc\n",
      "i am abc\n",
      "i am abc\n",
      "i am abc\n",
      "i am abc\n",
      "i am abc\n",
      "i am abc\n",
      "i am abc\n",
      "i am abc\n",
      "i am abc\n",
      "i am abc\n",
      "i am abc\n",
      "i am abc\n",
      "i am abc\n",
      "i am abc\n",
      "i am abc\n",
      "i am abc\n",
      "i am abc\n",
      "i am abc\n",
      "i am abc\n",
      "i am abc\n",
      "i am abc\n",
      "i am abc\n",
      "i am abc\n",
      "i am abc\n",
      "i am abc\n",
      "i am abc\n",
      "i am abc\n",
      "i am abc\n",
      "i am abc\n",
      "i am abc\n",
      "i am abc\n",
      "i am abc\n",
      "i am abc\n",
      "i am abc\n",
      "i am abc\n",
      "i am abc\n",
      "i am abc\n",
      "i am abc\n",
      "i am abc\n",
      "i am abc\n",
      "i am abc\n",
      "i am abc\n",
      "i am abc\n",
      "i am abc\n",
      "i am abc\n",
      "i am abc\n",
      "i am abc\n",
      "i am abc\n",
      "i am abc\n",
      "i am abc\n",
      "i am abc\n",
      "i am abc\n",
      "i am abc\n",
      "i am abc\n",
      "i am abc\n",
      "i am abc\n",
      "i am abc\n",
      "i am abc\n",
      "i am abc\n",
      "i am abc\n",
      "i am abc\n",
      "i am abc\n",
      "i am abc\n",
      "i am abc\n",
      "i am abc\n",
      "i am abc\n",
      "i am abc\n",
      "i am abc\n",
      "i am abc\n",
      "i am abc\n",
      "i am abc\n",
      "i am abc\n",
      "i am abc\n",
      "i am abc\n",
      "i am abc\n",
      "i am abc\n",
      "i am abc\n",
      "i am abc\n",
      "i am abc\n",
      "i am abc\n",
      "i am abc\n",
      "i am abc\n",
      "i am abc\n",
      "i am abc\n",
      "i am abc\n",
      "i am abc\n",
      "i am abc\n",
      "i am abc\n",
      "i am abc\n",
      "i am abc\n",
      "i am abc\n",
      "i am abc\n",
      "i am abc\n",
      "i am abc\n",
      "i am abc\n",
      "i am abc\n",
      "i am abc\n",
      "i am abc\n",
      "i am abc\n",
      "i am abc\n",
      "i am abc\n",
      "i am abc\n",
      "i am abc\n",
      "i am abc\n",
      "i am abc\n",
      "i am abc\n",
      "i am abc\n",
      "i am abc\n",
      "i am abc\n",
      "i am abc\n",
      "i am abc\n",
      "i am abc\n",
      "i am abc\n",
      "i am abc\n",
      "i am abc\n",
      "i am abc\n",
      "i am abc\n",
      "i am abc\n",
      "i am abc\n",
      "i am abc\n",
      "i am abc\n",
      "i am abc\n",
      "i am abc\n",
      "i am abc\n",
      "i am abc\n",
      "i am abc\n",
      "i am abc\n",
      "i am abc\n",
      "i am abc\n",
      "i am abc\n",
      "i am abc\n",
      "i am abc\n",
      "i am abc\n",
      "i am abc\n",
      "i am abc\n",
      "i am abc\n",
      "i am abc\n",
      "i am abc\n",
      "i am abc\n",
      "i am abc\n",
      "i am abc\n",
      "i am abc\n",
      "i am abc\n",
      "i am abc\n",
      "i am abc\n",
      "i am abc\n",
      "i am abc\n",
      "i am abc\n",
      "i am abc\n",
      "i am abc\n",
      "i am abc\n",
      "i am abc\n",
      "i am abc\n",
      "i am abc\n",
      "i am abc\n",
      "i am abc\n",
      "i am abc\n",
      "i am abc\n",
      "i am abc\n",
      "i am abc\n",
      "i am abc\n",
      "i am abc\n",
      "i am abc\n",
      "i am abc\n",
      "i am abc\n",
      "i am abc\n",
      "i am abc\n",
      "i am abc\n",
      "i am abc\n",
      "i am abc\n",
      "i am abc\n",
      "i am abc\n",
      "i am abc\n",
      "i am abc\n",
      "i am abc\n",
      "i am abc\n",
      "i am abc\n",
      "i am abc\n",
      "i am abc\n",
      "i am abc\n",
      "i am abc\n",
      "i am abc\n",
      "i am abc\n",
      "i am abc\n",
      "i am abc\n",
      "i am abc\n",
      "i am abc\n",
      "i am abc\n",
      "i am abc\n",
      "i am abc\n",
      "i am abc\n",
      "i am abc\n",
      "i am abc\n",
      "i am abc\n",
      "i am abc\n",
      "i am abc\n",
      "i am abc\n",
      "i am abc\n",
      "i am abc\n",
      "i am abc\n",
      "i am abc\n",
      "i am abc\n",
      "i am abc\n",
      "i am abc\n",
      "i am abc\n",
      "i am abc\n",
      "i am abc\n",
      "i am abc\n",
      "i am abc\n",
      "i am abc\n",
      "i am abc\n",
      "i am abc\n",
      "i am abc\n",
      "i am abc\n",
      "i am abc\n",
      "i am abc\n",
      "i am abc\n",
      "i am abc\n",
      "i am abc\n",
      "i am abc\n",
      "i am abc\n",
      "i am abc\n",
      "i am abc\n",
      "i am abc\n",
      "i am abc\n",
      "i am abc\n",
      "i am abc\n",
      "i am abc\n",
      "i am abc\n",
      "i am abc\n",
      "i am abc\n",
      "i am abc\n",
      "i am abc\n",
      "i am abc\n",
      "i am abc\n",
      "i am abc\n",
      "i am abc\n",
      "i am abc\n",
      "i am abc\n",
      "i am abc\n",
      "i am abc\n",
      "i am abc\n",
      "i am abc\n",
      "i am abc\n",
      "i am abc\n",
      "i am abc\n",
      "i am abc\n",
      "i am abc\n",
      "i am abc\n",
      "i am abc\n",
      "i am abc\n",
      "i am abc\n",
      "i am abc\n",
      "i am abc\n",
      "i am abc\n",
      "i am abc\n",
      "i am abc\n",
      "i am abc\n",
      "i am abc\n",
      "i am abc\n",
      "i am abc\n",
      "i am abc\n",
      "i am abc\n",
      "i am abc\n",
      "i am abc\n",
      "i am abc\n",
      "i am abc\n",
      "i am abc\n",
      "i am abc\n",
      "i am abc\n",
      "i am abc\n",
      "i am abc\n",
      "i am abc\n",
      "i am abc\n",
      "i am abc\n",
      "i am abc\n",
      "i am abc\n",
      "i am abc\n",
      "i am abc\n",
      "i am abc\n",
      "i am abc\n",
      "i am abc\n",
      "i am abc\n",
      "i am abc\n",
      "i am abc\n",
      "i am abc\n",
      "i am abc\n",
      "i am abc\n",
      "i am abc\n",
      "i am abc\n",
      "i am abc\n",
      "i am abc\n",
      "i am abc\n",
      "i am abc\n",
      "i am abc\n",
      "i am abc\n",
      "i am abc\n",
      "i am abc\n",
      "i am abc\n",
      "i am abc\n",
      "i am abc\n",
      "i am abc\n",
      "i am abc\n",
      "i am abc\n",
      "i am abc\n",
      "i am abc\n",
      "i am abc\n",
      "i am abc\n",
      "i am abc\n",
      "i am abc\n",
      "i am abc\n",
      "i am abc\n",
      "i am abc\n",
      "i am abc\n",
      "i am abc\n",
      "i am abc\n",
      "i am abc\n",
      "i am abc\n",
      "i am abc\n",
      "i am abc\n",
      "i am abc\n",
      "i am abc\n",
      "i am abc\n",
      "i am abc\n",
      "i am abc\n",
      "i am abc\n",
      "i am abc\n",
      "i am abc\n",
      "i am abc\n",
      "i am abc\n",
      "i am abc\n",
      "i am abc\n",
      "i am abc\n",
      "i am abc\n",
      "i am abc\n",
      "i am abc\n",
      "i am abc\n",
      "i am abc\n",
      "i am abc\n",
      "i am abc\n",
      "i am abc\n",
      "i am abc\n",
      "i am abc\n",
      "i am abc\n",
      "i am abc\n",
      "i am abc\n",
      "i am abc\n",
      "i am abc\n",
      "i am abc\n",
      "i am abc\n",
      "i am abc\n",
      "i am abc\n",
      "i am abc\n",
      "i am abc\n",
      "i am abc\n",
      "i am abc\n",
      "i am abc\n",
      "i am abc\n",
      "i am abc\n",
      "i am abc\n",
      "i am abc\n",
      "i am abc\n",
      "i am abc\n",
      "i am abc\n",
      "i am abc\n",
      "i am abc\n",
      "i am abc\n",
      "i am abc\n",
      "i am abc\n",
      "i am abc\n",
      "i am abc\n",
      "i am abc\n",
      "i am abc\n",
      "i am abc\n",
      "i am abc\n",
      "i am abc\n",
      "i am abc\n",
      "i am abc\n",
      "i am abc\n",
      "i am abc\n",
      "i am abc\n",
      "i am abc\n",
      "i am abc\n",
      "i am abc\n",
      "i am abc\n",
      "i am abc\n",
      "i am abc\n",
      "i am abc\n",
      "i am abc\n",
      "i am abc\n",
      "i am abc\n",
      "i am abc\n",
      "i am abc\n",
      "i am abc\n",
      "i am abc\n",
      "i am abc\n",
      "i am abc\n",
      "i am abc\n",
      "i am abc\n",
      "i am abc\n",
      "i am abc\n",
      "i am abc\n",
      "i am abc\n",
      "i am abc\n",
      "i am abc\n",
      "i am abc\n",
      "i am abc\n",
      "i am abc\n",
      "i am abc\n",
      "i am abc\n",
      "i am abc\n",
      "i am abc\n",
      "i am abc\n",
      "i am abc\n",
      "i am abc\n",
      "i am abc\n",
      "i am abc\n",
      "i am abc\n",
      "i am abc\n",
      "i am abc\n",
      "i am abc\n",
      "i am abc\n",
      "i am abc\n",
      "i am abc\n",
      "i am abc\n",
      "i am abc\n",
      "i am abc\n",
      "i am abc\n",
      "i am abc\n",
      "i am abc\n",
      "i am abc\n",
      "i am abc\n",
      "i am abc\n",
      "i am abc\n",
      "i am abc\n",
      "i am abc\n",
      "i am abc\n",
      "i am abc\n",
      "i am abc\n",
      "i am abc\n",
      "i am abc\n",
      "i am abc\n",
      "i am abc\n",
      "i am abc\n",
      "i am abc\n",
      "i am abc\n",
      "i am abc\n",
      "i am abc\n",
      "i am abc\n",
      "i am abc\n",
      "i am abc\n",
      "i am abc\n",
      "i am abc\n",
      "i am abc\n",
      "i am abc\n",
      "i am abc\n",
      "i am abc\n",
      "i am abc\n",
      "i am abc\n",
      "i am abc\n",
      "i am abc\n",
      "i am abc\n",
      "i am abc\n",
      "i am abc\n",
      "i am abc\n",
      "i am abc\n",
      "i am abc\n",
      "i am abc\n",
      "i am abc\n",
      "i am abc\n",
      "i am abc\n",
      "i am abc\n",
      "i am abc\n",
      "i am abc\n",
      "i am abc\n",
      "i am abc\n",
      "i am abc\n",
      "i am abc\n",
      "i am abc\n",
      "i am abc\n",
      "i am abc\n",
      "i am abc\n",
      "i am abc\n",
      "i am abc\n",
      "i am abc\n",
      "i am abc\n",
      "i am abc\n",
      "i am abc\n",
      "i am abc\n",
      "i am abc\n",
      "i am abc\n",
      "i am abc\n",
      "i am abc\n",
      "i am abc\n",
      "i am abc\n",
      "i am abc\n",
      "i am abc\n",
      "i am abc\n",
      "i am abc\n",
      "i am abc\n",
      "i am abc\n",
      "i am abc\n",
      "i am abc\n",
      "i am abc\n",
      "i am abc\n",
      "i am abc\n",
      "i am abc\n",
      "i am abc\n",
      "i am abc\n",
      "i am abc\n",
      "i am abc\n",
      "i am abc\n",
      "i am abc\n",
      "i am abc\n",
      "i am abc\n",
      "i am abc\n",
      "i am abc\n",
      "i am abc\n",
      "i am abc\n",
      "i am abc\n",
      "i am abc\n",
      "i am abc\n",
      "i am abc\n",
      "i am abc\n",
      "i am abc\n",
      "i am abc\n",
      "i am abc\n",
      "i am abc\n",
      "i am abc\n",
      "i am abc\n",
      "i am abc\n",
      "i am abc\n",
      "i am abc\n",
      "i am abc\n",
      "i am abc\n",
      "i am abc\n",
      "i am abc\n",
      "i am abc\n",
      "i am abc\n",
      "i am abc\n",
      "i am abc\n",
      "i am abc\n",
      "i am abc\n",
      "i am abc\n",
      "i am abc\n",
      "i am abc\n",
      "i am abc\n",
      "i am abc\n",
      "i am abc\n",
      "i am abc\n",
      "i am abc\n",
      "i am abc\n",
      "i am abc\n",
      "i am abc\n",
      "i am abc\n",
      "i am abc\n",
      "i am abc\n",
      "i am abc\n",
      "i am abc\n",
      "i am abc\n",
      "i am abc\n",
      "i am abc\n",
      "i am abc\n",
      "i am abc\n",
      "i am abc\n",
      "i am abc\n",
      "i am abc\n",
      "i am abc\n",
      "i am abc\n",
      "i am abc\n",
      "i am abc\n",
      "i am abc\n",
      "i am abc\n",
      "i am abc\n",
      "i am abc\n",
      "i am abc\n",
      "i am abc\n",
      "i am abc\n",
      "i am abc\n",
      "i am abc\n",
      "i am abc\n",
      "i am abc\n",
      "i am abc\n",
      "i am abc\n",
      "i am abc\n",
      "i am abc\n",
      "i am abc\n",
      "i am abc\n",
      "i am abc\n",
      "i am abc\n",
      "i am abc\n",
      "i am abc\n",
      "i am abc\n",
      "i am abc\n",
      "i am abc\n",
      "i am abc\n",
      "i am abc\n",
      "i am abc\n",
      "i am abc\n",
      "i am abc\n",
      "i am abc\n",
      "i am abc\n",
      "i am abc\n",
      "i am abc\n",
      "i am abc\n",
      "i am abc\n",
      "i am abc\n",
      "i am abc\n",
      "i am abc\n",
      "i am abc\n",
      "i am abc\n",
      "i am abc\n",
      "i am abc\n",
      "i am abc\n",
      "i am abc\n",
      "i am abc\n",
      "i am abc\n",
      "i am abc\n",
      "i am abc\n",
      "i am abc\n",
      "i am abc\n",
      "i am abc\n",
      "i am abc\n",
      "i am abc\n",
      "i am abc\n",
      "i am abc\n",
      "i am abc\n",
      "i am abc\n",
      "i am abc\n",
      "i am abc\n",
      "i am abc\n",
      "i am abc\n",
      "i am abc\n",
      "i am abc\n",
      "i am abc\n",
      "i am abc\n",
      "i am abc\n",
      "i am abc\n",
      "i am abc\n",
      "i am abc\n",
      "i am abc\n",
      "i am abc\n",
      "i am abc\n",
      "i am abc\n",
      "i am abc\n",
      "i am abc\n",
      "i am abc\n",
      "i am abc\n",
      "i am abc\n",
      "i am abc\n",
      "i am abc\n",
      "i am abc\n",
      "i am abc\n",
      "i am abc\n",
      "i am abc\n",
      "i am abc\n",
      "i am abc\n",
      "i am abc\n",
      "i am abc\n",
      "i am abc\n",
      "i am abc\n",
      "i am abc\n",
      "i am abc\n",
      "i am abc\n",
      "i am abc\n",
      "i am abc\n",
      "i am abc\n",
      "i am abc\n",
      "i am abc\n",
      "i am abc\n",
      "i am abc\n",
      "i am abc\n",
      "i am abc\n",
      "i am abc\n",
      "i am abc\n",
      "i am abc\n",
      "i am abc\n",
      "i am abc\n",
      "i am abc\n",
      "i am abc\n",
      "i am abc\n",
      "i am abc\n",
      "i am abc\n",
      "i am abc\n",
      "i am abc\n",
      "i am abc\n",
      "i am abc\n",
      "i am abc\n",
      "i am abc\n",
      "i am abc\n",
      "i am abc\n",
      "i am abc\n",
      "i am abc\n",
      "i am abc\n",
      "i am abc\n",
      "i am abc\n",
      "i am abc\n",
      "i am abc\n",
      "i am abc\n",
      "i am abc\n",
      "i am abc\n",
      "i am abc\n",
      "i am abc\n",
      "i am abc\n",
      "i am abc\n",
      "i am abc\n",
      "i am abc\n",
      "i am abc\n",
      "i am abc\n",
      "i am abc\n",
      "i am abc\n",
      "i am abc\n",
      "i am abc\n",
      "i am abc\n",
      "i am abc\n",
      "i am abc\n",
      "i am abc\n",
      "i am abc\n",
      "i am abc\n",
      "i am abc\n",
      "i am abc\n",
      "i am abc\n",
      "i am abc\n",
      "i am abc\n",
      "i am abc\n",
      "i am abc\n",
      "i am abc\n",
      "i am abc\n",
      "i am abc\n",
      "i am abc\n",
      "i am abc\n",
      "i am abc\n",
      "i am abc\n",
      "i am abc\n",
      "i am abc\n",
      "i am abc\n",
      "i am abc\n",
      "i am abc\n",
      "i am abc\n",
      "i am abc\n",
      "i am abc\n",
      "i am abc\n",
      "i am abc\n",
      "i am abc\n",
      "i am abc\n",
      "i am abc\n",
      "i am abc\n",
      "i am abc\n",
      "i am abc\n",
      "i am abc\n",
      "i am abc\n",
      "i am abc\n",
      "i am abc\n",
      "i am abc\n",
      "i am abc\n",
      "i am abc\n",
      "i am abc\n",
      "i am abc\n",
      "i am abc\n",
      "i am abc\n",
      "i am abc\n",
      "i am abc\n",
      "i am abc\n",
      "i am abc\n",
      "i am abc\n",
      "i am abc\n",
      "i am abc\n",
      "i am abc\n",
      "i am abc\n",
      "i am abc\n",
      "i am abc\n",
      "i am abc\n",
      "i am abc\n",
      "i am abc\n",
      "i am abc\n",
      "i am abc\n",
      "i am abc\n",
      "i am abc\n",
      "i am abc\n",
      "i am abc\n",
      "i am abc\n",
      "i am abc\n",
      "i am abc\n",
      "i am abc\n",
      "i am abc\n",
      "i am abc\n",
      "i am abc\n",
      "i am abc\n",
      "i am abc\n",
      "i am abc\n",
      "i am abc\n",
      "i am abc\n",
      "i am abc\n",
      "i am abc\n",
      "i am abc\n",
      "i am abc\n",
      "i am abc\n",
      "i am abc\n",
      "i am abc\n",
      "i am abc\n",
      "i am abc\n",
      "i am abc\n",
      "i am abc\n",
      "i am abc\n",
      "i am abc\n",
      "i am abc\n",
      "i am abc\n",
      "i am abc\n",
      "i am abc\n",
      "i am abc\n",
      "i am abc\n",
      "i am abc\n",
      "i am abc\n",
      "i am abc\n",
      "i am abc\n",
      "i am abc\n",
      "i am abc\n",
      "i am abc\n",
      "i am abc\n",
      "i am abc\n",
      "i am abc\n",
      "i am abc\n",
      "i am abc\n",
      "i am abc\n",
      "i am abc\n",
      "i am abc\n",
      "i am abc\n",
      "i am abc\n",
      "i am abc\n",
      "i am abc\n",
      "i am abc\n",
      "i am abc\n",
      "i am abc\n",
      "i am abc\n",
      "i am abc\n",
      "i am abc\n",
      "i am abc\n",
      "i am abc\n",
      "i am abc\n",
      "i am abc\n",
      "i am abc\n",
      "i am abc\n",
      "i am abc\n",
      "i am abc\n",
      "i am abc\n",
      "i am abc\n",
      "i am abc\n",
      "i am abc\n",
      "i am abc\n",
      "i am abc\n",
      "i am abc\n",
      "i am abc\n",
      "i am abc\n",
      "i am abc\n",
      "i am abc\n",
      "i am abc\n",
      "i am abc\n",
      "i am abc\n",
      "i am abc\n",
      "i am abc\n",
      "i am abc\n",
      "i am abc\n",
      "i am abc\n",
      "i am abc\n",
      "i am abc\n",
      "i am abc\n",
      "i am abc\n",
      "i am abc\n",
      "i am abc\n",
      "i am abc\n",
      "i am abc\n",
      "i am abc\n",
      "i am abc\n",
      "i am abc\n",
      "i am abc\n",
      "i am abc\n",
      "i am abc\n",
      "i am abc\n",
      "i am abc\n",
      "i am abc\n",
      "i am abc\n",
      "i am abc\n",
      "i am abc\n",
      "i am abc\n",
      "i am abc\n",
      "i am abc\n",
      "i am abc\n",
      "i am abc\n",
      "i am abc\n",
      "i am abc\n",
      "i am abc\n",
      "i am abc\n",
      "i am abc\n",
      "i am abc\n",
      "i am abc\n",
      "i am abc\n",
      "i am abc\n",
      "i am abc\n",
      "i am abc\n",
      "i am abc\n",
      "i am abc\n",
      "i am abc\n",
      "i am abc\n",
      "i am abc\n",
      "i am abc\n",
      "i am abc\n",
      "i am abc\n",
      "i am abc\n",
      "i am abc\n",
      "i am abc\n",
      "i am abc\n",
      "i am abc\n",
      "i am abc\n",
      "i am abc\n",
      "i am abc\n",
      "i am abc\n",
      "i am abc\n",
      "i am abc\n",
      "i am abc\n",
      "i am abc\n",
      "i am abc\n",
      "i am abc\n",
      "i am abc\n",
      "i am abc\n",
      "i am abc\n",
      "i am abc\n",
      "i am abc\n",
      "i am abc\n",
      "i am abc\n",
      "i am abc\n",
      "i am abc\n",
      "i am abc\n",
      "i am abc\n",
      "i am abc\n",
      "i am abc\n",
      "i am abc\n",
      "i am abc\n",
      "i am abc\n",
      "i am abc\n",
      "i am abc\n",
      "i am abc\n",
      "i am abc\n",
      "i am abc\n",
      "i am abc\n",
      "i am abc\n",
      "i am abc\n",
      "i am abc\n",
      "i am abc\n",
      "i am abc\n",
      "i am abc\n",
      "i am abc\n",
      "i am abc\n",
      "i am abc\n",
      "i am abc\n",
      "i am abc\n",
      "i am abc\n",
      "i am abc\n",
      "i am abc\n",
      "i am abc\n",
      "i am abc\n",
      "i am abc\n",
      "i am abc\n",
      "i am abc\n",
      "i am abc\n",
      "i am abc\n",
      "i am abc\n",
      "i am abc\n",
      "i am abc\n",
      "i am abc\n",
      "i am abc\n",
      "i am abc\n",
      "i am abc\n",
      "i am abc\n",
      "i am abc\n",
      "i am abc\n",
      "i am abc\n",
      "i am abc\n",
      "i am abc\n",
      "i am abc\n",
      "i am abc\n",
      "i am abc\n",
      "i am abc\n",
      "i am abc\n",
      "i am abc\n",
      "i am abc\n",
      "i am abc\n",
      "i am abc\n",
      "i am abc\n",
      "i am abc\n",
      "i am abc\n",
      "i am abc\n",
      "i am abc\n",
      "i am abc\n",
      "i am abc\n",
      "i am abc\n",
      "i am abc\n",
      "i am abc\n",
      "i am abc\n",
      "i am abc\n",
      "i am abc\n",
      "i am abc\n",
      "i am abc\n",
      "i am abc\n",
      "i am abc\n",
      "i am abc\n",
      "i am abc\n",
      "i am abc\n",
      "i am abc\n",
      "i am abc\n",
      "i am abc\n",
      "i am abc\n",
      "i am abc\n",
      "i am abc\n",
      "i am abc\n",
      "i am abc\n",
      "i am abc\n",
      "i am abc\n",
      "i am abc\n",
      "i am abc\n",
      "i am abc\n",
      "i am abc\n",
      "i am abc\n",
      "i am abc\n",
      "i am abc\n",
      "i am abc\n",
      "i am abc\n",
      "i am abc\n",
      "i am abc\n",
      "i am abc\n",
      "i am abc\n",
      "i am abc\n",
      "i am abc\n",
      "i am abc\n",
      "i am abc\n",
      "i am abc\n",
      "i am abc\n",
      "i am abc\n",
      "i am abc\n",
      "i am abc\n",
      "i am abc\n",
      "i am abc\n",
      "i am abc\n",
      "i am abc\n",
      "i am abc\n",
      "i am abc\n",
      "i am abc\n",
      "i am abc\n",
      "i am abc\n",
      "i am abc\n",
      "i am abc\n",
      "i am abc\n",
      "i am abc\n",
      "i am abc\n",
      "i am abc\n",
      "i am abc\n",
      "i am abc\n",
      "i am abc\n",
      "i am abc\n",
      "i am abc\n",
      "i am abc\n",
      "i am abc\n",
      "i am abc\n",
      "i am abc\n",
      "i am abc\n",
      "i am abc\n",
      "i am abc\n",
      "i am abc\n",
      "i am abc\n",
      "i am abc\n",
      "i am abc\n",
      "i am abc\n",
      "i am abc\n",
      "i am abc\n",
      "i am abc\n",
      "i am abc\n",
      "i am abc\n",
      "i am abc\n",
      "i am abc\n",
      "i am abc\n",
      "i am abc\n",
      "i am abc\n",
      "i am abc\n",
      "i am abc\n",
      "i am abc\n",
      "i am abc\n",
      "i am abc\n",
      "i am abc\n",
      "i am abc\n",
      "i am abc\n",
      "i am abc\n",
      "i am abc\n",
      "i am abc\n",
      "i am abc\n",
      "i am abc\n",
      "i am abc\n",
      "i am abc\n",
      "i am abc\n",
      "i am abc\n",
      "i am abc\n",
      "i am abc\n",
      "i am abc\n",
      "i am abc\n",
      "i am abc\n",
      "i am abc\n",
      "i am abc\n",
      "i am abc\n",
      "i am abc\n",
      "i am abc\n",
      "i am abc\n",
      "i am abc\n",
      "i am abc\n",
      "i am abc\n",
      "i am abc\n",
      "i am abc\n",
      "i am abc\n",
      "i am abc\n",
      "i am abc\n",
      "i am abc\n",
      "i am abc\n",
      "i am abc\n",
      "i am abc\n",
      "i am abc\n",
      "i am abc\n",
      "i am abc\n",
      "i am abc\n",
      "i am abc\n",
      "i am abc\n",
      "i am abc\n",
      "i am abc\n",
      "i am abc\n",
      "i am abc\n",
      "i am abc\n",
      "i am abc\n",
      "i am abc\n",
      "i am abc\n",
      "i am abc\n",
      "i am abc\n",
      "i am abc\n",
      "i am abc\n",
      "i am abc\n",
      "i am abc\n",
      "i am abc\n",
      "i am abc\n",
      "i am abc\n",
      "i am abc\n",
      "i am abc\n",
      "i am abc\n",
      "i am abc\n",
      "i am abc\n",
      "i am abc\n",
      "i am abc\n",
      "i am abc\n",
      "i am abc\n",
      "i am abc\n",
      "i am abc\n",
      "i am abc\n",
      "i am abc\n",
      "i am abc\n",
      "i am abc\n",
      "i am abc\n",
      "i am abc\n",
      "i am abc\n",
      "i am abc\n",
      "i am abc\n",
      "i am abc\n",
      "i am abc\n",
      "i am abc\n",
      "i am abc\n",
      "i am abc\n",
      "i am abc\n",
      "i am abc\n",
      "i am abc\n",
      "i am abc\n",
      "i am abc\n",
      "i am abc\n",
      "i am abc\n",
      "i am abc\n",
      "i am abc\n",
      "i am abc\n",
      "i am abc\n",
      "i am abc\n",
      "i am abc\n",
      "i am abc\n",
      "i am abc\n",
      "i am abc\n",
      "i am abc\n",
      "i am abc\n",
      "i am abc\n",
      "i am abc\n",
      "i am abc\n",
      "i am abc\n",
      "i am abc\n",
      "i am abc\n",
      "i am abc\n",
      "i am abc\n",
      "i am abc\n",
      "i am abc\n",
      "i am abc\n",
      "i am abc\n",
      "i am abc\n",
      "i am abc\n",
      "i am abc\n",
      "i am abc\n",
      "i am abc\n",
      "i am abc\n",
      "i am abc\n",
      "i am abc\n",
      "i am abc\n",
      "i am abc\n",
      "i am abc\n",
      "i am abc\n",
      "i am abc\n",
      "i am abc\n",
      "i am abc\n",
      "i am abc\n",
      "i am abc\n",
      "i am abc\n",
      "i am abc\n",
      "i am abc\n",
      "i am abc\n",
      "i am abc\n",
      "i am abc\n",
      "i am abc\n",
      "i am abc\n",
      "i am abc\n",
      "i am abc\n",
      "i am abc\n",
      "i am abc\n",
      "i am abc\n",
      "i am abc\n",
      "i am abc\n",
      "i am abc\n",
      "i am abc\n",
      "i am abc\n",
      "i am abc\n",
      "i am abc\n",
      "i am abc\n",
      "i am abc\n",
      "i am abc\n",
      "i am abc\n",
      "i am abc\n",
      "i am abc\n",
      "i am abc\n",
      "i am abc\n",
      "i am abc\n",
      "i am abc\n",
      "i am abc\n",
      "i am abc\n",
      "i am abc\n",
      "i am abc\n",
      "i am abc\n",
      "i am abc\n",
      "i am abc\n",
      "i am abc\n",
      "i am abc\n",
      "i am abc\n",
      "i am abc\n",
      "i am abc\n",
      "i am abc\n",
      "i am abc\n",
      "i am abc\n",
      "i am abc\n",
      "i am abc\n",
      "i am abc\n",
      "i am abc\n",
      "i am abc\n",
      "i am abc\n",
      "i am abc\n",
      "i am abc\n",
      "i am abc\n",
      "i am abc\n",
      "i am abc\n",
      "i am abc\n",
      "i am abc\n",
      "i am abc\n",
      "i am abc\n",
      "i am abc\n",
      "i am abc\n",
      "i am abc\n",
      "i am abc\n",
      "i am abc\n",
      "i am abc\n",
      "i am abc\n",
      "i am abc\n",
      "i am abc\n",
      "i am abc\n",
      "i am abc\n",
      "i am abc\n",
      "i am abc\n",
      "i am abc\n",
      "i am abc\n",
      "i am abc\n",
      "i am abc\n",
      "i am abc\n",
      "i am abc\n",
      "i am abc\n",
      "i am abc\n",
      "i am abc\n",
      "i am abc\n",
      "i am abc\n",
      "i am abc\n",
      "i am abc\n",
      "i am abc\n",
      "i am abc\n",
      "i am abc\n",
      "i am abc\n",
      "i am abc\n",
      "i am abc\n",
      "i am abc\n",
      "i am abc\n",
      "i am abc\n",
      "i am abc\n",
      "i am abc\n",
      "i am abc\n",
      "i am abc\n",
      "i am abc\n",
      "i am abc\n",
      "i am abc\n",
      "i am abc\n",
      "i am abc\n",
      "i am abc\n",
      "i am abc\n",
      "i am abc\n",
      "i am abc\n",
      "i am abc\n",
      "i am abc\n",
      "i am abc\n",
      "i am abc\n",
      "i am abc\n",
      "i am abc\n",
      "i am abc\n",
      "i am abc\n",
      "i am abc\n",
      "i am abc\n",
      "i am abc\n",
      "i am abc\n",
      "i am abc\n",
      "i am abc\n",
      "i am abc\n",
      "i am abc\n",
      "i am abc\n",
      "i am abc\n",
      "i am abc\n",
      "i am abc\n",
      "i am abc\n",
      "i am abc\n",
      "i am abc\n",
      "i am abc\n",
      "i am abc\n",
      "i am abc\n",
      "i am abc\n",
      "i am abc\n",
      "i am abc\n",
      "i am abc\n",
      "i am abc\n",
      "i am abc\n",
      "i am abc\n",
      "i am abc\n",
      "i am abc\n",
      "i am abc\n",
      "i am abc\n",
      "i am abc\n",
      "i am abc\n",
      "i am abc\n",
      "i am abc\n",
      "i am abc\n",
      "i am abc\n",
      "i am abc\n",
      "i am abc\n",
      "i am abc\n",
      "i am abc\n",
      "i am abc\n",
      "i am abc\n",
      "i am abc\n",
      "i am abc\n",
      "i am abc\n",
      "i am abc\n",
      "i am abc\n",
      "i am abc\n",
      "i am abc\n",
      "i am abc\n",
      "i am abc\n",
      "i am abc\n",
      "i am abc\n",
      "i am abc\n",
      "i am abc\n",
      "i am abc\n",
      "i am abc\n",
      "i am abc\n",
      "i am abc\n",
      "i am abc\n",
      "i am abc\n",
      "i am abc\n",
      "i am abc\n",
      "i am abc\n",
      "i am abc\n",
      "i am abc\n",
      "i am abc\n",
      "i am abc\n",
      "i am abc\n",
      "i am abc\n",
      "i am abc\n",
      "i am abc\n",
      "i am abc\n",
      "i am abc\n",
      "i am abc\n",
      "i am abc\n",
      "i am abc\n",
      "i am abc\n",
      "i am abc\n",
      "i am abc\n",
      "i am abc\n",
      "i am abc\n",
      "i am abc\n",
      "i am abc\n",
      "i am abc\n",
      "i am abc\n",
      "i am abc\n",
      "i am abc\n",
      "i am abc\n",
      "i am abc\n",
      "i am abc\n",
      "i am abc\n",
      "i am abc\n",
      "i am abc\n",
      "i am abc\n",
      "i am abc\n",
      "i am abc\n",
      "i am abc\n",
      "i am abc\n",
      "i am abc\n",
      "i am abc\n",
      "i am abc\n",
      "i am abc\n",
      "i am abc\n",
      "i am abc\n",
      "i am abc\n",
      "i am abc\n",
      "i am abc\n",
      "i am abc\n",
      "i am abc\n",
      "i am abc\n",
      "i am abc\n",
      "i am abc\n",
      "i am abc\n",
      "i am abc\n",
      "i am abc\n",
      "i am abc\n",
      "i am abc\n",
      "i am abc\n",
      "i am abc\n",
      "i am abc\n",
      "i am abc\n",
      "i am abc\n",
      "i am abc\n",
      "i am abc\n",
      "i am abc\n",
      "i am abc\n",
      "i am abc\n",
      "i am abc\n",
      "i am abc\n",
      "i am abc\n",
      "i am abc\n",
      "i am abc\n",
      "i am abc\n",
      "i am abc\n",
      "i am abc\n",
      "i am abc\n",
      "i am abc\n",
      "i am abc\n",
      "i am abc\n",
      "i am abc\n",
      "i am abc\n",
      "i am abc\n",
      "i am abc\n",
      "i am abc\n",
      "i am abc\n",
      "i am abc\n",
      "i am abc\n",
      "i am abc\n",
      "i am abc\n",
      "i am abc\n",
      "i am abc\n",
      "i am abc\n",
      "i am abc\n",
      "i am abc\n",
      "i am abc\n",
      "i am abc\n",
      "i am abc\n",
      "i am abc\n",
      "i am abc\n",
      "i am abc\n",
      "i am abc\n",
      "i am abc\n",
      "i am abc\n",
      "i am abc\n",
      "i am abc\n",
      "i am abc\n",
      "i am abc\n",
      "i am abc\n",
      "i am abc\n",
      "i am abc\n",
      "i am abc\n",
      "i am abc\n",
      "i am abc\n",
      "i am abc\n",
      "i am abc\n",
      "i am abc\n",
      "i am abc\n",
      "i am abc\n",
      "i am abc\n",
      "i am abc\n",
      "i am abc\n",
      "i am abc\n",
      "i am abc\n",
      "i am abc\n",
      "i am abc\n",
      "i am abc\n",
      "i am abc\n",
      "i am abc\n",
      "i am abc\n",
      "i am abc\n",
      "i am abc\n",
      "i am abc\n",
      "i am abc\n",
      "i am abc\n",
      "i am abc\n",
      "i am abc\n",
      "i am abc\n",
      "i am abc\n",
      "i am abc\n",
      "i am abc\n",
      "i am abc\n",
      "i am abc\n",
      "i am abc\n",
      "i am abc\n",
      "i am abc\n",
      "i am abc\n",
      "i am abc\n",
      "i am abc\n",
      "i am abc\n",
      "i am abc\n",
      "i am abc\n",
      "i am abc\n",
      "i am abc\n",
      "i am abc\n",
      "i am abc\n",
      "i am abc\n",
      "i am abc\n",
      "i am abc\n",
      "i am abc\n",
      "i am abc\n",
      "i am abc\n",
      "i am abc\n",
      "i am abc\n",
      "i am abc\n",
      "i am abc\n",
      "i am abc\n",
      "i am abc\n",
      "i am abc\n",
      "i am abc\n",
      "i am abc\n",
      "i am abc\n",
      "i am abc\n",
      "i am abc\n",
      "i am abc\n",
      "i am abc\n",
      "i am abc\n",
      "i am abc\n",
      "i am abc\n",
      "i am abc\n",
      "i am abc\n",
      "i am abc\n",
      "i am abc\n",
      "i am abc\n",
      "i am abc\n",
      "i am abc\n",
      "i am abc\n",
      "i am abc\n",
      "i am abc\n",
      "i am abc\n",
      "i am abc\n",
      "i am abc\n",
      "i am abc\n",
      "i am abc\n",
      "i am abc\n",
      "i am abc\n",
      "i am abc\n",
      "i am abc\n",
      "i am abc\n",
      "i am abc\n",
      "i am abc\n",
      "i am abc\n",
      "i am abc\n",
      "i am abc\n",
      "i am abc\n",
      "i am abc\n",
      "i am abc\n",
      "i am abc\n",
      "i am abc\n",
      "i am abc\n",
      "i am abc\n",
      "i am abc\n",
      "i am abc\n",
      "i am abc\n",
      "i am abc\n",
      "i am abc\n",
      "i am abc\n",
      "i am abc\n",
      "i am abc\n",
      "i am abc\n",
      "i am abc\n",
      "i am abc\n",
      "i am abc\n",
      "i am abc\n",
      "i am abc\n",
      "i am abc\n",
      "i am abc\n",
      "i am abc\n",
      "i am abc\n",
      "i am abc\n",
      "i am abc\n",
      "i am abc\n",
      "i am abc\n",
      "i am abc\n",
      "i am abc\n",
      "i am abc\n",
      "i am abc\n",
      "i am abc\n",
      "i am abc\n",
      "i am abc\n",
      "i am abc\n",
      "i am abc\n",
      "i am abc\n",
      "i am abc\n",
      "i am abc\n",
      "i am abc\n",
      "i am abc\n",
      "i am abc\n",
      "i am abc\n",
      "i am abc\n",
      "i am abc\n",
      "i am abc\n",
      "i am abc\n",
      "i am abc\n",
      "i am abc\n",
      "i am abc\n",
      "i am abc\n",
      "i am abc\n",
      "i am abc\n",
      "i am abc\n",
      "i am abc\n",
      "i am abc\n",
      "i am abc\n",
      "i am abc\n",
      "i am abc\n",
      "i am abc\n",
      "i am abc\n",
      "i am abc\n",
      "i am abc\n",
      "i am abc\n",
      "i am abc\n",
      "i am abc\n",
      "i am abc\n",
      "i am abc\n",
      "i am abc\n",
      "i am abc\n",
      "i am abc\n",
      "i am abc\n",
      "i am abc\n",
      "i am abc\n",
      "i am abc\n",
      "i am abc\n",
      "i am abc\n",
      "i am abc\n",
      "i am abc\n",
      "i am abc\n",
      "i am abc\n",
      "i am abc\n",
      "i am abc\n",
      "i am abc\n",
      "i am abc\n",
      "i am abc\n",
      "i am abc\n",
      "i am abc\n",
      "i am abc\n",
      "i am abc\n",
      "i am abc\n",
      "i am abc\n",
      "i am abc\n",
      "i am abc\n",
      "i am abc\n",
      "i am abc\n",
      "i am abc\n",
      "i am abc\n",
      "i am abc\n",
      "i am abc\n",
      "i am abc\n",
      "i am abc\n",
      "i am abc\n",
      "i am abc\n",
      "i am abc\n",
      "i am abc\n",
      "i am abc\n",
      "i am abc\n",
      "i am abc\n",
      "i am abc\n",
      "i am abc\n",
      "i am abc\n",
      "i am abc\n",
      "i am abc\n",
      "i am abc\n",
      "i am abc\n",
      "i am abc\n",
      "i am abc\n",
      "i am abc\n",
      "i am abc\n",
      "i am abc\n",
      "i am abc\n",
      "i am abc\n",
      "i am abc\n",
      "i am abc\n",
      "i am abc\n",
      "i am abc\n",
      "i am abc\n",
      "i am abc\n",
      "i am abc\n",
      "i am abc\n",
      "i am abc\n",
      "i am abc\n",
      "i am abc\n",
      "i am abc\n",
      "i am abc\n",
      "i am abc\n",
      "i am abc\n",
      "i am abc\n",
      "i am abc\n",
      "i am abc\n",
      "i am abc\n",
      "i am abc\n",
      "i am abc\n",
      "i am abc\n",
      "i am abc\n",
      "i am abc\n",
      "i am abc\n",
      "i am abc\n",
      "i am abc\n",
      "i am abc\n",
      "i am abc\n",
      "i am abc\n",
      "i am abc\n",
      "i am abc\n",
      "i am abc\n",
      "i am abc\n",
      "i am abc\n",
      "i am abc\n",
      "i am abc\n",
      "i am abc\n",
      "i am abc\n",
      "i am abc\n",
      "i am abc\n",
      "i am abc\n",
      "i am abc\n",
      "i am abc\n",
      "i am abc\n",
      "i am abc\n",
      "i am abc\n",
      "i am abc\n",
      "i am abc\n",
      "i am abc\n",
      "i am abc\n",
      "i am abc\n",
      "i am abc\n",
      "i am abc\n",
      "i am abc\n",
      "i am abc\n",
      "i am abc\n",
      "i am abc\n",
      "i am abc\n",
      "i am abc\n",
      "i am abc\n",
      "i am abc\n",
      "i am abc\n",
      "i am abc\n",
      "i am abc\n",
      "i am abc\n",
      "i am abc\n",
      "i am abc\n",
      "i am abc\n",
      "i am abc\n",
      "i am abc\n"
     ]
    },
    {
     "ename": "RecursionError",
     "evalue": "maximum recursion depth exceeded while calling a Python object",
     "output_type": "error",
     "traceback": [
      "\u001b[1;31m---------------------------------------------------------------------------\u001b[0m",
      "\u001b[1;31mRecursionError\u001b[0m                            Traceback (most recent call last)",
      "Cell \u001b[1;32mIn[66], line 1\u001b[0m\n\u001b[1;32m----> 1\u001b[0m \u001b[38;5;28mprint\u001b[39m(abc())\n",
      "Cell \u001b[1;32mIn[65], line 3\u001b[0m, in \u001b[0;36mabc\u001b[1;34m()\u001b[0m\n\u001b[0;32m      1\u001b[0m \u001b[38;5;28;01mdef\u001b[39;00m \u001b[38;5;21mabc\u001b[39m():\n\u001b[0;32m      2\u001b[0m     \u001b[38;5;28mprint\u001b[39m(\u001b[38;5;124m\"\u001b[39m\u001b[38;5;124mi am abc\u001b[39m\u001b[38;5;124m\"\u001b[39m)\n\u001b[1;32m----> 3\u001b[0m     \u001b[38;5;28;01mreturn\u001b[39;00m abc()\n",
      "Cell \u001b[1;32mIn[65], line 3\u001b[0m, in \u001b[0;36mabc\u001b[1;34m()\u001b[0m\n\u001b[0;32m      1\u001b[0m \u001b[38;5;28;01mdef\u001b[39;00m \u001b[38;5;21mabc\u001b[39m():\n\u001b[0;32m      2\u001b[0m     \u001b[38;5;28mprint\u001b[39m(\u001b[38;5;124m\"\u001b[39m\u001b[38;5;124mi am abc\u001b[39m\u001b[38;5;124m\"\u001b[39m)\n\u001b[1;32m----> 3\u001b[0m     \u001b[38;5;28;01mreturn\u001b[39;00m abc()\n",
      "    \u001b[1;31m[... skipping similar frames: abc at line 3 (2967 times)]\u001b[0m\n",
      "Cell \u001b[1;32mIn[65], line 3\u001b[0m, in \u001b[0;36mabc\u001b[1;34m()\u001b[0m\n\u001b[0;32m      1\u001b[0m \u001b[38;5;28;01mdef\u001b[39;00m \u001b[38;5;21mabc\u001b[39m():\n\u001b[0;32m      2\u001b[0m     \u001b[38;5;28mprint\u001b[39m(\u001b[38;5;124m\"\u001b[39m\u001b[38;5;124mi am abc\u001b[39m\u001b[38;5;124m\"\u001b[39m)\n\u001b[1;32m----> 3\u001b[0m     \u001b[38;5;28;01mreturn\u001b[39;00m abc()\n",
      "Cell \u001b[1;32mIn[65], line 2\u001b[0m, in \u001b[0;36mabc\u001b[1;34m()\u001b[0m\n\u001b[0;32m      1\u001b[0m \u001b[38;5;28;01mdef\u001b[39;00m \u001b[38;5;21mabc\u001b[39m():\n\u001b[1;32m----> 2\u001b[0m     \u001b[38;5;28mprint\u001b[39m(\u001b[38;5;124m\"\u001b[39m\u001b[38;5;124mi am abc\u001b[39m\u001b[38;5;124m\"\u001b[39m)\n\u001b[0;32m      3\u001b[0m     \u001b[38;5;28;01mreturn\u001b[39;00m abc()\n",
      "File \u001b[1;32m~\\anaconda3\\Lib\\site-packages\\ipykernel\\iostream.py:649\u001b[0m, in \u001b[0;36mOutStream.write\u001b[1;34m(self, string)\u001b[0m\n\u001b[0;32m    646\u001b[0m     msg \u001b[38;5;241m=\u001b[39m \u001b[38;5;124m\"\u001b[39m\u001b[38;5;124mI/O operation on closed file\u001b[39m\u001b[38;5;124m\"\u001b[39m\n\u001b[0;32m    647\u001b[0m     \u001b[38;5;28;01mraise\u001b[39;00m \u001b[38;5;167;01mValueError\u001b[39;00m(msg)\n\u001b[1;32m--> 649\u001b[0m is_child \u001b[38;5;241m=\u001b[39m \u001b[38;5;129;01mnot\u001b[39;00m \u001b[38;5;28mself\u001b[39m\u001b[38;5;241m.\u001b[39m_is_master_process()\n\u001b[0;32m    650\u001b[0m \u001b[38;5;66;03m# only touch the buffer in the IO thread to avoid races\u001b[39;00m\n\u001b[0;32m    651\u001b[0m \u001b[38;5;28;01mwith\u001b[39;00m \u001b[38;5;28mself\u001b[39m\u001b[38;5;241m.\u001b[39m_buffer_lock:\n",
      "File \u001b[1;32m~\\anaconda3\\Lib\\site-packages\\ipykernel\\iostream.py:520\u001b[0m, in \u001b[0;36mOutStream._is_master_process\u001b[1;34m(self)\u001b[0m\n\u001b[0;32m    519\u001b[0m \u001b[38;5;28;01mdef\u001b[39;00m \u001b[38;5;21m_is_master_process\u001b[39m(\u001b[38;5;28mself\u001b[39m):\n\u001b[1;32m--> 520\u001b[0m     \u001b[38;5;28;01mreturn\u001b[39;00m os\u001b[38;5;241m.\u001b[39mgetpid() \u001b[38;5;241m==\u001b[39m \u001b[38;5;28mself\u001b[39m\u001b[38;5;241m.\u001b[39m_master_pid\n",
      "\u001b[1;31mRecursionError\u001b[0m: maximum recursion depth exceeded while calling a Python object"
     ]
    }
   ],
   "source": [
    "print(abc())"
   ]
  },
  {
   "cell_type": "code",
   "execution_count": 68,
   "id": "36cc0c85-24ff-4cbc-98d0-b5aae5454492",
   "metadata": {},
   "outputs": [],
   "source": [
    "def abc():\n",
    "    print(\"i am abc\")\n",
    "    a = 1000"
   ]
  },
  {
   "cell_type": "code",
   "execution_count": 69,
   "id": "86c75e85-8209-440e-b6d1-47b98bba092d",
   "metadata": {},
   "outputs": [
    {
     "name": "stdout",
     "output_type": "stream",
     "text": [
      "i am abc\n"
     ]
    }
   ],
   "source": [
    "abc()"
   ]
  },
  {
   "cell_type": "code",
   "execution_count": 70,
   "id": "4039e9e8-5004-418f-ade7-2c853793e2d7",
   "metadata": {},
   "outputs": [
    {
     "ename": "NameError",
     "evalue": "name 'a' is not defined",
     "output_type": "error",
     "traceback": [
      "\u001b[1;31m---------------------------------------------------------------------------\u001b[0m",
      "\u001b[1;31mNameError\u001b[0m                                 Traceback (most recent call last)",
      "Cell \u001b[1;32mIn[70], line 1\u001b[0m\n\u001b[1;32m----> 1\u001b[0m \u001b[38;5;28mprint\u001b[39m(a)\n",
      "\u001b[1;31mNameError\u001b[0m: name 'a' is not defined"
     ]
    }
   ],
   "source": [
    "print(a)"
   ]
  },
  {
   "cell_type": "markdown",
   "id": "17400853-2485-4393-8912-a02520d74092",
   "metadata": {},
   "source": [
    "#### Local variables and Global variables\n",
    "   - LOCAL variables : All the variables defined INSIDE a function body are local\n",
    "     and can not accessed out side the function.\n",
    "   - GLOBAL variables : All the variables defined OUTSITE a function body are GLOBAL\n",
    "     and CAN be accessed out side as well as inside the function body. "
   ]
  },
  {
   "cell_type": "code",
   "execution_count": 71,
   "id": "ace1bb05-fe61-4c8e-bea3-061d4d7f5496",
   "metadata": {},
   "outputs": [],
   "source": [
    "def abc():\n",
    "    print(\"i am abc\")\n",
    "    a = 1000    # local variable\n",
    "    print (a) # loca;l variable accessed inside the function body"
   ]
  },
  {
   "cell_type": "code",
   "execution_count": 72,
   "id": "50d4e257-72d4-4f7a-b4ae-efdbcf618fa7",
   "metadata": {},
   "outputs": [
    {
     "name": "stdout",
     "output_type": "stream",
     "text": [
      "i am abc\n",
      "1000\n"
     ]
    }
   ],
   "source": [
    "abc()"
   ]
  },
  {
   "cell_type": "code",
   "execution_count": 73,
   "id": "07e0fffd-1cbf-4b61-b66b-ebd24c1cad7e",
   "metadata": {},
   "outputs": [
    {
     "ename": "NameError",
     "evalue": "name 'a' is not defined",
     "output_type": "error",
     "traceback": [
      "\u001b[1;31m---------------------------------------------------------------------------\u001b[0m",
      "\u001b[1;31mNameError\u001b[0m                                 Traceback (most recent call last)",
      "Cell \u001b[1;32mIn[73], line 1\u001b[0m\n\u001b[1;32m----> 1\u001b[0m \u001b[38;5;28mprint\u001b[39m (a)\n",
      "\u001b[1;31mNameError\u001b[0m: name 'a' is not defined"
     ]
    }
   ],
   "source": [
    "print (a) # local variable accessed outside the function body >>> error"
   ]
  },
  {
   "cell_type": "code",
   "execution_count": 2,
   "id": "9591e069-b4ee-4253-a71a-88b0472ebbc9",
   "metadata": {},
   "outputs": [],
   "source": [
    "globalvariable = \"im global\"\n",
    "def abc():\n",
    "    print(\"i am abc\")\n",
    "    print(globalvariable)\n",
    "    a = 1000    # local variable\n",
    "    print (a) # loca;l variable accessed inside the function body"
   ]
  },
  {
   "cell_type": "code",
   "execution_count": 3,
   "id": "051ae735-91c5-4502-be43-f6ec01609172",
   "metadata": {},
   "outputs": [
    {
     "name": "stdout",
     "output_type": "stream",
     "text": [
      "im global\n"
     ]
    }
   ],
   "source": [
    "print(globalvariable)"
   ]
  },
  {
   "cell_type": "code",
   "execution_count": 4,
   "id": "46974b77-8fd6-4853-9cfb-b6aecd5f579c",
   "metadata": {},
   "outputs": [
    {
     "name": "stdout",
     "output_type": "stream",
     "text": [
      "i am abc\n",
      "im global\n",
      "1000\n"
     ]
    }
   ],
   "source": [
    "abc()"
   ]
  },
  {
   "cell_type": "code",
   "execution_count": 5,
   "id": "7baf323d-3aeb-4437-aa4a-32046f6642e7",
   "metadata": {},
   "outputs": [],
   "source": [
    "globalvariable = \"im global\"\n",
    "def abc():\n",
    "    print(\"i am abc\")\n",
    "    print(globalvariable)\n",
    "    a = 1000    # local variable\n",
    "    print (a) # loca;l variable accessed inside the function body\n",
    "    return \"I am returned value\""
   ]
  },
  {
   "cell_type": "code",
   "execution_count": 6,
   "id": "90da2963-10ae-4fe0-93cd-c86278f07984",
   "metadata": {},
   "outputs": [
    {
     "name": "stdout",
     "output_type": "stream",
     "text": [
      "i am abc\n",
      "im global\n",
      "1000\n"
     ]
    },
    {
     "data": {
      "text/plain": [
       "'I am returned value'"
      ]
     },
     "execution_count": 6,
     "metadata": {},
     "output_type": "execute_result"
    }
   ],
   "source": [
    "abc()"
   ]
  },
  {
   "cell_type": "code",
   "execution_count": 11,
   "id": "ba6a88c1-7782-4413-9992-641c02397599",
   "metadata": {},
   "outputs": [],
   "source": [
    "\n",
    "def taxtcalc(income):\n",
    "    tax_amount = 0\n",
    "    \n",
    "    if income >= 1000000:\n",
    "        tax_amount = income * .20\n",
    "        return tax_amount\n",
    "    elif income >= 500000:\n",
    "        tax_amount = income * .10\n",
    "        return tax_amount\n",
    "    elif income >= 250000:\n",
    "        tax_amount = income * .05\n",
    "        return tax_amount\n",
    "    else:\n",
    "        tax_amount= income * 0\n",
    "        return tax_amount"
   ]
  },
  {
   "cell_type": "code",
   "execution_count": 12,
   "id": "b4578c7f-f861-48ce-a1d8-c6440b6d5f1c",
   "metadata": {},
   "outputs": [],
   "source": [
    "def grossSalary(salary,tax):\n",
    "    gross = salary - tax\n",
    "    print (f\"gross salary is {gross}\")"
   ]
  },
  {
   "cell_type": "code",
   "execution_count": 14,
   "id": "5a53fbff-a539-4535-91a7-c3360b6d5c02",
   "metadata": {},
   "outputs": [
    {
     "name": "stdout",
     "output_type": "stream",
     "text": [
      "gross salary is 630000.0\n"
     ]
    }
   ],
   "source": [
    "grossSalary(700000,taxtcalc(700000))"
   ]
  },
  {
   "cell_type": "code",
   "execution_count": 17,
   "id": "959dbf26-9e45-4cfc-b6e9-6f19370b78fb",
   "metadata": {},
   "outputs": [],
   "source": [
    "age = 10\n"
   ]
  },
  {
   "cell_type": "code",
   "execution_count": 26,
   "id": "0ff7f5a1-8e07-4f80-8eb7-9cc2280d685f",
   "metadata": {},
   "outputs": [],
   "source": [
    "h = 20\n",
    "def xyz():\n",
    "    global h\n",
    "    h = 10\n",
    "    h+=1\n",
    "    print(h)"
   ]
  },
  {
   "cell_type": "code",
   "execution_count": 27,
   "id": "87a20626-23c3-4311-87cf-24c25333b77d",
   "metadata": {},
   "outputs": [
    {
     "name": "stdout",
     "output_type": "stream",
     "text": [
      "11\n"
     ]
    }
   ],
   "source": [
    "xyz()"
   ]
  },
  {
   "cell_type": "code",
   "execution_count": 28,
   "id": "159d9b26-1cb2-45e6-9110-5a8b6fe12717",
   "metadata": {},
   "outputs": [
    {
     "name": "stdout",
     "output_type": "stream",
     "text": [
      "11\n"
     ]
    }
   ],
   "source": [
    "print(h)"
   ]
  },
  {
   "cell_type": "code",
   "execution_count": 29,
   "id": "4bf5a412-ca4e-4c61-8528-f9cc929eec99",
   "metadata": {},
   "outputs": [],
   "source": [
    "def add (num1 , num2):\n",
    "    return num1+num2"
   ]
  },
  {
   "cell_type": "code",
   "execution_count": 30,
   "id": "67d0891d-3efd-496f-9406-2feafdbcea61",
   "metadata": {},
   "outputs": [],
   "source": [
    "res = add(2,3)"
   ]
  },
  {
   "cell_type": "code",
   "execution_count": 31,
   "id": "511c5cd1-5ce5-48bb-9c3a-dabd468ebd41",
   "metadata": {},
   "outputs": [
    {
     "data": {
      "text/plain": [
       "5"
      ]
     },
     "execution_count": 31,
     "metadata": {},
     "output_type": "execute_result"
    }
   ],
   "source": [
    "res"
   ]
  },
  {
   "cell_type": "code",
   "execution_count": 32,
   "id": "7b8120cd-2474-4e1f-8984-c645dc129223",
   "metadata": {},
   "outputs": [
    {
     "name": "stdout",
     "output_type": "stream",
     "text": [
      "5\n"
     ]
    }
   ],
   "source": [
    "print(add(2,3))"
   ]
  },
  {
   "cell_type": "code",
   "execution_count": 36,
   "id": "c99d2539-24a8-48a6-bf94-78a5200dc75f",
   "metadata": {},
   "outputs": [
    {
     "name": "stdout",
     "output_type": "stream",
     "text": [
      "this is retunrd 5\n"
     ]
    }
   ],
   "source": [
    "print(f\"this is retunrd {add(2,3)}\")"
   ]
  },
  {
   "cell_type": "code",
   "execution_count": 37,
   "id": "3531fefb-9de3-4da6-8d5e-355d1ad43b6d",
   "metadata": {},
   "outputs": [],
   "source": [
    "\n",
    "def taxtcalc(income):\n",
    "    tax_amount = 0\n",
    "\n",
    "    if income >= 1000000:\n",
    "        tax_amount = income * .20\n",
    "    elif income >= 500000:\n",
    "        tax_amount = income * .10\n",
    "    elif income >= 250000:\n",
    "        tax_amount = income * .05\n",
    "    else:\n",
    "        tax_amount= income * 0\n",
    "        return tax_amount"
   ]
  },
  {
   "cell_type": "code",
   "execution_count": 38,
   "id": "2829d8b5-e3cc-4941-bd6e-071d2e3b838d",
   "metadata": {},
   "outputs": [],
   "source": [
    "def squarecube(num):\n",
    "    s = num**2\n",
    "    c = num**3\n",
    "    return s , c #, 100 , True , \"Hello\" , [2,3,4]"
   ]
  },
  {
   "cell_type": "code",
   "execution_count": 49,
   "id": "f533173f-2892-4ac5-b956-513f68631ee8",
   "metadata": {},
   "outputs": [
    {
     "data": {
      "text/plain": [
       "(25, 125)"
      ]
     },
     "execution_count": 49,
     "metadata": {},
     "output_type": "execute_result"
    }
   ],
   "source": [
    "squarecube(5)"
   ]
  },
  {
   "cell_type": "code",
   "execution_count": 50,
   "id": "88446982-e347-4744-89d1-e4369a52b4ba",
   "metadata": {},
   "outputs": [],
   "source": [
    "square,cube = squarecube(5)"
   ]
  },
  {
   "cell_type": "code",
   "execution_count": 51,
   "id": "5cdfa28e-d268-49a5-adb1-f1ef548e8b31",
   "metadata": {},
   "outputs": [
    {
     "data": {
      "text/plain": [
       "25"
      ]
     },
     "execution_count": 51,
     "metadata": {},
     "output_type": "execute_result"
    }
   ],
   "source": [
    "square"
   ]
  },
  {
   "cell_type": "code",
   "execution_count": 52,
   "id": "82325e55-d1a6-4810-93c1-8be4e92b7ec5",
   "metadata": {},
   "outputs": [
    {
     "data": {
      "text/plain": [
       "125"
      ]
     },
     "execution_count": 52,
     "metadata": {},
     "output_type": "execute_result"
    }
   ],
   "source": [
    "cube"
   ]
  },
  {
   "cell_type": "code",
   "execution_count": 54,
   "id": "8f962214-acac-4f29-9739-5bf5026e2c61",
   "metadata": {},
   "outputs": [],
   "source": [
    "a = (100,200) # packing"
   ]
  },
  {
   "cell_type": "code",
   "execution_count": 55,
   "id": "d9522501-cdb3-4c84-b9ff-b80985d21650",
   "metadata": {},
   "outputs": [],
   "source": [
    "me,you = a"
   ]
  },
  {
   "cell_type": "markdown",
   "id": "7713c8ac-cee7-4a8e-9cc5-98e12813fc99",
   "metadata": {},
   "source": [
    "me"
   ]
  },
  {
   "cell_type": "code",
   "execution_count": 56,
   "id": "27567ae1-67b1-4949-9487-45b20f4db776",
   "metadata": {},
   "outputs": [
    {
     "data": {
      "text/plain": [
       "100"
      ]
     },
     "execution_count": 56,
     "metadata": {},
     "output_type": "execute_result"
    }
   ],
   "source": [
    "me"
   ]
  },
  {
   "cell_type": "code",
   "execution_count": 57,
   "id": "67a89d2f-48fe-4745-bf9b-f16010bfe2b1",
   "metadata": {},
   "outputs": [
    {
     "data": {
      "text/plain": [
       "200"
      ]
     },
     "execution_count": 57,
     "metadata": {},
     "output_type": "execute_result"
    }
   ],
   "source": [
    "you"
   ]
  },
  {
   "cell_type": "markdown",
   "id": "a7e84a7d-c5f3-4829-9389-1c2e81e2887f",
   "metadata": {},
   "source": [
    "# Functions in crash course"
   ]
  },
  {
   "cell_type": "code",
   "execution_count": 5,
   "id": "7c314afd-2339-4819-a805-be6a0492c58f",
   "metadata": {},
   "outputs": [],
   "source": [
    "def greet_user():\n",
    "    \n",
    "    print(\"Hello!\")\n",
    "\n"
   ]
  },
  {
   "cell_type": "code",
   "execution_count": 6,
   "id": "0d4b49e3-428f-4b25-aa3e-05bda8ccce49",
   "metadata": {},
   "outputs": [
    {
     "name": "stdout",
     "output_type": "stream",
     "text": [
      "Hello!\n"
     ]
    }
   ],
   "source": [
    "greet_user()"
   ]
  },
  {
   "cell_type": "code",
   "execution_count": 9,
   "id": "f38a587c-09ea-4ab6-aed2-33e2690f5c3d",
   "metadata": {},
   "outputs": [],
   "source": [
    "def greet_user(username):\n",
    "    print(f\"Hello, {username.title()} !\")\n",
    "\n"
   ]
  },
  {
   "cell_type": "code",
   "execution_count": 10,
   "id": "7ac06d99-0a7a-4949-9c2e-ab3bfadae6da",
   "metadata": {},
   "outputs": [
    {
     "name": "stdout",
     "output_type": "stream",
     "text": [
      "Hello, Jesse !\n"
     ]
    }
   ],
   "source": [
    "greet_user('jesse')"
   ]
  },
  {
   "cell_type": "code",
   "execution_count": 15,
   "id": "526115e8-174a-4fba-8122-84edcd6eecaa",
   "metadata": {},
   "outputs": [],
   "source": [
    "def student(name, course):\n",
    "    \n",
    "   print(f\"\\nStudent name is {name}.\")\n",
    "   print(f\"{name.capitalize()} is a Student and his course is  {course.title()} .\")\n",
    "\n"
   ]
  },
  {
   "cell_type": "code",
   "execution_count": 16,
   "id": "18608e37-7616-4536-975b-f7d9d27f9e2f",
   "metadata": {},
   "outputs": [
    {
     "name": "stdout",
     "output_type": "stream",
     "text": [
      "\n",
      "Student name is malik.\n",
      "Malik is a Student and his course is  Python .\n"
     ]
    }
   ],
   "source": [
    "student(\"malik\" , \"python\")"
   ]
  },
  {
   "cell_type": "code",
   "execution_count": 17,
   "id": "dba91a99-b607-4ddc-beb5-db257603df14",
   "metadata": {},
   "outputs": [
    {
     "name": "stdout",
     "output_type": "stream",
     "text": [
      "\n",
      "Student name is haseeb.\n",
      "Haseeb is a Student and his course is  Java .\n"
     ]
    }
   ],
   "source": [
    "student(\"haseeb\" , \"java\")"
   ]
  },
  {
   "cell_type": "code",
   "execution_count": 18,
   "id": "6f0acbe7-7a22-4fba-b0b4-f4489ca48cf2",
   "metadata": {},
   "outputs": [
    {
     "name": "stdout",
     "output_type": "stream",
     "text": [
      "\n",
      "Student name is khan.\n",
      "Khan is a Student and his course is  Ai .\n"
     ]
    }
   ],
   "source": [
    "student(\"khan\" , \"AI\")"
   ]
  },
  {
   "cell_type": "markdown",
   "id": "f05bf83b-8fee-4ecf-bb99-adf57dc2617c",
   "metadata": {},
   "source": [
    "# keyword argument"
   ]
  },
  {
   "cell_type": "code",
   "execution_count": null,
   "id": "059355cf-b2b6-4328-b97a-f055731773ab",
   "metadata": {},
   "outputs": [],
   "source": []
  },
  {
   "cell_type": "code",
   "execution_count": 19,
   "id": "8b971972-4fa7-4b00-94b8-3df3d19561c8",
   "metadata": {},
   "outputs": [
    {
     "name": "stdout",
     "output_type": "stream",
     "text": [
      "\n",
      "I have a hamster.\n",
      "My hamster's name is Harry.\n"
     ]
    }
   ],
   "source": [
    "def describe_pet(animal_type, pet_name):\n",
    " print(\"\\nI have a \" + animal_type + \".\")\n",
    " print(\"My \" + animal_type + \"'s name is \" + pet_name.title() + \".\")\n",
    "\n",
    "describe_pet(animal_type='hamster', pet_name='harry')"
   ]
  },
  {
   "cell_type": "code",
   "execution_count": 27,
   "id": "e1f26196-317f-46ed-9873-eaae6491d71d",
   "metadata": {},
   "outputs": [],
   "source": [
    "def describe_p(product, company):\n",
    "    \n",
    "   print(f\"\\nI have a {product.capitalize()} .\")\n",
    "   print(f\"My {product.capitalize()} name is  {company.title()}.\")\n"
   ]
  },
  {
   "cell_type": "code",
   "execution_count": 28,
   "id": "e08d8c59-831a-4119-985e-e861a3b1d3b4",
   "metadata": {},
   "outputs": [
    {
     "name": "stdout",
     "output_type": "stream",
     "text": [
      "\n",
      "I have a Laptop .\n",
      "My Laptop name is  Dell.\n"
     ]
    }
   ],
   "source": [
    "describe_p('laptop' , \"dell\")"
   ]
  },
  {
   "cell_type": "code",
   "execution_count": 29,
   "id": "986cdf27-ef82-4b6c-ba7f-dcf00628915e",
   "metadata": {},
   "outputs": [
    {
     "name": "stdout",
     "output_type": "stream",
     "text": [
      "\n",
      "I have a Laptop .\n",
      "My Laptop name is  Dell.\n"
     ]
    }
   ],
   "source": [
    "describe_p(product='laptop' , company= \"dell\")"
   ]
  },
  {
   "cell_type": "markdown",
   "id": "5cd3238c-28b9-466b-b664-d30692a00e6f",
   "metadata": {},
   "source": [
    "# default values"
   ]
  },
  {
   "cell_type": "code",
   "execution_count": 4,
   "id": "4b71b690-0942-465a-a88d-c4f6ef606947",
   "metadata": {},
   "outputs": [],
   "source": [
    "def salarycalc(basic, commission=500): # defult value must be last para\n",
    "    total = basic+ commission\n",
    "    return total"
   ]
  },
  {
   "cell_type": "code",
   "execution_count": 8,
   "id": "7d76d031-fb9c-419a-a25b-0e4613c6fab8",
   "metadata": {},
   "outputs": [
    {
     "ename": "SyntaxError",
     "evalue": "non-default argument follows default argument (2493575541.py, line 1)",
     "output_type": "error",
     "traceback": [
      "\u001b[1;36m  Cell \u001b[1;32mIn[8], line 1\u001b[1;36m\u001b[0m\n\u001b[1;33m    def salarycalc(bonus=0, basic, commission=500): # defult value must be last para\u001b[0m\n\u001b[1;37m                            ^\u001b[0m\n\u001b[1;31mSyntaxError\u001b[0m\u001b[1;31m:\u001b[0m non-default argument follows default argument\n"
     ]
    }
   ],
   "source": [
    "def salarycalc(bonus=0, basic, commission=500): # defult value must be last para\n",
    "    total = basic+ commission\n",
    "    return total"
   ]
  },
  {
   "cell_type": "code",
   "execution_count": 5,
   "id": "37b9360e-34c3-47ff-8b4d-96d20e8b06ef",
   "metadata": {},
   "outputs": [
    {
     "data": {
      "text/plain": [
       "12000"
      ]
     },
     "execution_count": 5,
     "metadata": {},
     "output_type": "execute_result"
    }
   ],
   "source": [
    "salarycalc(10000,2000)"
   ]
  },
  {
   "cell_type": "code",
   "execution_count": 6,
   "id": "b7f54693-8615-4838-987d-86c4bdae5f50",
   "metadata": {},
   "outputs": [
    {
     "data": {
      "text/plain": [
       "1500"
      ]
     },
     "execution_count": 6,
     "metadata": {},
     "output_type": "execute_result"
    }
   ],
   "source": [
    "salarycalc(1000)"
   ]
  },
  {
   "cell_type": "code",
   "execution_count": 26,
   "id": "f2ad2d9a-340b-4e05-9a78-bff423fc0a05",
   "metadata": {},
   "outputs": [
    {
     "name": "stdout",
     "output_type": "stream",
     "text": [
      "\n",
      "I have a dog.\n",
      "My dog's name is Willie.\n"
     ]
    }
   ],
   "source": [
    "def describe_pet(pet_name, animal_type='dog'):\n",
    " print(\"\\nI have a \" + animal_type + \".\")\n",
    " print(\"My \" + animal_type + \"'s name is \" + pet_name.title() + \".\")\n",
    "describe_pet(pet_name='willie')"
   ]
  },
  {
   "cell_type": "code",
   "execution_count": 30,
   "id": "7c772952-c49b-44ce-87d4-60ab39b23f52",
   "metadata": {},
   "outputs": [],
   "source": [
    "def describe_p(product, company=\"hp\"):\n",
    "    \n",
    "   print(f\"\\nI have a {product.capitalize()} .\")\n",
    "   print(f\"My {product.capitalize()} name is  {company.title()}.\")"
   ]
  },
  {
   "cell_type": "code",
   "execution_count": 34,
   "id": "7082122f-9679-4e55-b3b6-3224387157bd",
   "metadata": {},
   "outputs": [
    {
     "name": "stdout",
     "output_type": "stream",
     "text": [
      "\n",
      "I have a Laptop .\n",
      "My Laptop name is  Hp.\n"
     ]
    }
   ],
   "source": [
    "describe_p(\"laptop\")"
   ]
  },
  {
   "cell_type": "code",
   "execution_count": 37,
   "id": "539c5dd1-871c-4f90-ae0e-9e5fb73b62a5",
   "metadata": {},
   "outputs": [
    {
     "ename": "SyntaxError",
     "evalue": "positional argument follows keyword argument (1652543175.py, line 1)",
     "output_type": "error",
     "traceback": [
      "\u001b[1;36m  Cell \u001b[1;32mIn[37], line 1\u001b[1;36m\u001b[0m\n\u001b[1;33m    describe_p(product=\"mobile\", \"infinix\")\u001b[0m\n\u001b[1;37m                                          ^\u001b[0m\n\u001b[1;31mSyntaxError\u001b[0m\u001b[1;31m:\u001b[0m positional argument follows keyword argument\n"
     ]
    }
   ],
   "source": [
    "describe_p(product=\"mobile\", \"infinix\")"
   ]
  },
  {
   "cell_type": "markdown",
   "id": "51a7ceaf-02f3-4c18-8db7-888c0caf2ec8",
   "metadata": {},
   "source": [
    "# return a simple value"
   ]
  },
  {
   "cell_type": "code",
   "execution_count": 43,
   "id": "f771bbd2-ea89-45e2-b6b1-a7c91a3dd5d6",
   "metadata": {},
   "outputs": [],
   "source": [
    "def get_formatted_name(first_name, last_name):\n",
    "    full_name = first_name + ' ' + last_name\n",
    "    return full_name.title()\n",
    "   "
   ]
  },
  {
   "cell_type": "code",
   "execution_count": 45,
   "id": "b0eb8d33-a56b-4655-8e6d-171952e05c01",
   "metadata": {},
   "outputs": [
    {
     "name": "stdout",
     "output_type": "stream",
     "text": [
      "Jimi Hendrix\n"
     ]
    }
   ],
   "source": [
    "musician = get_formatted_name('jimi', 'hendrix')\n",
    "print(musician)"
   ]
  },
  {
   "cell_type": "code",
   "execution_count": 41,
   "id": "30e0992d-c0a5-494f-85ec-e28a9a32369d",
   "metadata": {},
   "outputs": [
    {
     "data": {
      "text/plain": [
       "'B M'"
      ]
     },
     "execution_count": 41,
     "metadata": {},
     "output_type": "execute_result"
    }
   ],
   "source": [
    "get_formatted_name(\"b\",\"m\")"
   ]
  },
  {
   "cell_type": "code",
   "execution_count": 46,
   "id": "d0d47cb0-2c87-426d-862c-79feab3a3f9d",
   "metadata": {},
   "outputs": [],
   "source": [
    "def fulname (fname, lname):\n",
    "    fulname = fname + lname\n",
    "    return fulname.title()    "
   ]
  },
  {
   "cell_type": "code",
   "execution_count": 48,
   "id": "0ceaa9d6-2e11-45d5-b071-617288e9b665",
   "metadata": {},
   "outputs": [
    {
     "name": "stdout",
     "output_type": "stream",
     "text": [
      "Babarmalik\n"
     ]
    }
   ],
   "source": [
    "S1 = fulname(\"babar\" , \"malik\")\n",
    "print(S1)"
   ]
  },
  {
   "cell_type": "code",
   "execution_count": 49,
   "id": "f7d0fad0-7dd4-4b10-b5b2-5eb95e1d2a67",
   "metadata": {},
   "outputs": [],
   "source": [
    "def fulname (fname, lname):\n",
    "    fulname = fname+ ' ' +lname\n",
    "    return fulname.title()"
   ]
  },
  {
   "cell_type": "code",
   "execution_count": 50,
   "id": "b01bdd32-363a-4dc4-983a-c676540e68c7",
   "metadata": {},
   "outputs": [],
   "source": [
    "s2= fulname(\"khan\" , \"baba\")"
   ]
  },
  {
   "cell_type": "code",
   "execution_count": 51,
   "id": "b791388e-afbd-4b35-bbef-f297342f7370",
   "metadata": {},
   "outputs": [
    {
     "name": "stdout",
     "output_type": "stream",
     "text": [
      "Khan Baba\n"
     ]
    }
   ],
   "source": [
    "print(s2)"
   ]
  },
  {
   "cell_type": "markdown",
   "id": "0f250f58-6b58-4ba2-b2ac-6f9f4e43f249",
   "metadata": {},
   "source": [
    "# making a argument optionsl"
   ]
  },
  {
   "cell_type": "code",
   "execution_count": 52,
   "id": "a0c0b03c-6009-4729-8512-de5d3541853c",
   "metadata": {},
   "outputs": [],
   "source": [
    "def get_formatted_name(first_name, middle_name, last_name):\n",
    " \"\"\"Return a full name, neatly formatted.\"\"\"\n",
    " full_name = first_name + ' ' + middle_name + ' ' + last_name\n",
    " return full_name.title()\n",
    "\n"
   ]
  },
  {
   "cell_type": "code",
   "execution_count": 53,
   "id": "4e0f4527-08ff-426c-b74b-ca993fbd6a41",
   "metadata": {},
   "outputs": [
    {
     "name": "stdout",
     "output_type": "stream",
     "text": [
      "John Lee Hooker\n"
     ]
    }
   ],
   "source": [
    "musician = get_formatted_name('john', 'lee', 'hooker')\n",
    "print(musician)"
   ]
  },
  {
   "cell_type": "code",
   "execution_count": 54,
   "id": "86326b5e-d205-4641-b57d-70c9317caa0a",
   "metadata": {},
   "outputs": [],
   "source": [
    "def fulname (fname, mname,lname):\n",
    "    fulname = fname+ ' '+mname+' ' +lname\n",
    "    return fulname.title()"
   ]
  },
  {
   "cell_type": "code",
   "execution_count": 60,
   "id": "be6a9af3-bfab-4c16-bd07-ac0095017126",
   "metadata": {},
   "outputs": [
    {
     "ename": "TypeError",
     "evalue": "fulname() missing 1 required positional argument: 'lname'",
     "output_type": "error",
     "traceback": [
      "\u001b[1;31m---------------------------------------------------------------------------\u001b[0m",
      "\u001b[1;31mTypeError\u001b[0m                                 Traceback (most recent call last)",
      "Cell \u001b[1;32mIn[60], line 1\u001b[0m\n\u001b[1;32m----> 1\u001b[0m s3 \u001b[38;5;241m=\u001b[39m fulname(\u001b[38;5;124m\"\u001b[39m\u001b[38;5;124mm\u001b[39m\u001b[38;5;124m\"\u001b[39m ,\u001b[38;5;124m\"\u001b[39m\u001b[38;5;124mb\u001b[39m\u001b[38;5;124m\"\u001b[39m)\n\u001b[0;32m      2\u001b[0m \u001b[38;5;28mprint\u001b[39m(s3)\n",
      "\u001b[1;31mTypeError\u001b[0m: fulname() missing 1 required positional argument: 'lname'"
     ]
    }
   ],
   "source": [
    "s3 = fulname(\"m\" ,\"b\")\n",
    "print(s3)"
   ]
  },
  {
   "cell_type": "code",
   "execution_count": 61,
   "id": "a7100c8b-90b7-4eea-add4-7a2392e29559",
   "metadata": {},
   "outputs": [
    {
     "name": "stdout",
     "output_type": "stream",
     "text": [
      "M B L\n"
     ]
    }
   ],
   "source": [
    "s3 = fulname(\"m\" ,\"b\" , \"l\")\n",
    "print(s3)"
   ]
  },
  {
   "cell_type": "code",
   "execution_count": 63,
   "id": "44787f39-a262-4b12-8db6-0109173434f0",
   "metadata": {},
   "outputs": [],
   "source": [
    "def get_formatted_name(first_name, last_name, middle_name=''):\n",
    "    if middle_name:\n",
    "        full_name = first_name + ' ' + middle_name + ' ' + last_name\n",
    "    else:\n",
    "        full_name = first_name + ' ' + last_name\n",
    "    return full_name.title()\n"
   ]
  },
  {
   "cell_type": "code",
   "execution_count": 65,
   "id": "d63b8978-4fab-4c5d-b94c-918a6251559b",
   "metadata": {},
   "outputs": [
    {
     "name": "stdout",
     "output_type": "stream",
     "text": [
      "Jimi Hendrix\n",
      "John Lee Hooker\n"
     ]
    }
   ],
   "source": [
    "musician = get_formatted_name('jimi', 'hendrix')\n",
    "print(musician)\n",
    "musician = get_formatted_name('john', 'hooker', 'lee')\n",
    "print(musician)"
   ]
  },
  {
   "cell_type": "code",
   "execution_count": 67,
   "id": "1b05c60b-1e26-4b85-b519-4d2ad5245ab7",
   "metadata": {},
   "outputs": [
    {
     "ename": "SyntaxError",
     "evalue": "non-default argument follows default argument (427187612.py, line 1)",
     "output_type": "error",
     "traceback": [
      "\u001b[1;36m  Cell \u001b[1;32mIn[67], line 1\u001b[1;36m\u001b[0m\n\u001b[1;33m    def fulname (fname, mname=' ',lname):\u001b[0m\n\u001b[1;37m                                  ^\u001b[0m\n\u001b[1;31mSyntaxError\u001b[0m\u001b[1;31m:\u001b[0m non-default argument follows default argument\n"
     ]
    }
   ],
   "source": [
    "def fulname (fname, mname=' ',lname):\n",
    "    if mname:\n",
    "        fulname = fname+ ' '+mname+' ' +lname\n",
    "    else:\n",
    "        fulname = fname + ' ' +lname\n",
    "    return fulname.title()"
   ]
  },
  {
   "cell_type": "code",
   "execution_count": 68,
   "id": "afa63102-616a-49b7-b325-a366e6d470a5",
   "metadata": {},
   "outputs": [],
   "source": [
    "def fulname (fname , lname , mname=' '):\n",
    "    if mname:\n",
    "        fulname = fname+ ' '+mname+' ' +lname\n",
    "    else:\n",
    "        fulname = fname + ' ' +lname\n",
    "    return fulname.title()"
   ]
  },
  {
   "cell_type": "code",
   "execution_count": 70,
   "id": "af4bf0a7-5258-4373-88a9-c1d114c36145",
   "metadata": {},
   "outputs": [
    {
     "name": "stdout",
     "output_type": "stream",
     "text": [
      "B L M\n"
     ]
    }
   ],
   "source": [
    "s4 = fulname(\"b\" , \"m\" , \"l\")\n",
    "print(s4)"
   ]
  },
  {
   "cell_type": "code",
   "execution_count": 71,
   "id": "1ae4f98e-54d7-4cc4-8ae1-fac91686b379",
   "metadata": {},
   "outputs": [
    {
     "name": "stdout",
     "output_type": "stream",
     "text": [
      "K   B\n"
     ]
    }
   ],
   "source": [
    "s5= fulname(\"k\",\"b\")\n",
    "print(s5)"
   ]
  },
  {
   "cell_type": "code",
   "execution_count": 77,
   "id": "30aa33e7-60fc-45a8-a967-4a684b1c7f8b",
   "metadata": {},
   "outputs": [],
   "source": [
    "def fulname (fname , lname , mname=' '):\n",
    "    if mname:\n",
    "        fulname = fname+ ' '+mname+' ' +lname\n",
    "    else:\n",
    "        fulname = fname + ' ' +lname\n",
    "    print(f\"{fname} , {mname} , {lname}\")    \n",
    "    return fulname.title()"
   ]
  },
  {
   "cell_type": "code",
   "execution_count": 78,
   "id": "d66b3924-0454-479a-ac51-85dcda46ba2d",
   "metadata": {},
   "outputs": [
    {
     "name": "stdout",
     "output_type": "stream",
     "text": [
      "k , z , b\n"
     ]
    }
   ],
   "source": [
    "s6= fulname(\"k\",\"b\", \"z\")"
   ]
  },
  {
   "cell_type": "markdown",
   "id": "a214667b-a0d6-40af-bc3d-dce6a3c1ad00",
   "metadata": {},
   "source": [
    "# return a dictionary"
   ]
  },
  {
   "cell_type": "code",
   "execution_count": 81,
   "id": "20d7ee0e-3152-4905-9e0a-8ae9752b2bae",
   "metadata": {},
   "outputs": [],
   "source": [
    "def build_person(first_name, last_name):\n",
    "    person = {'first': first_name, 'last': last_name}\n",
    "    return person"
   ]
  },
  {
   "cell_type": "code",
   "execution_count": 83,
   "id": "34152c1c-fbab-4cab-a046-ccab219a9e27",
   "metadata": {},
   "outputs": [
    {
     "name": "stdout",
     "output_type": "stream",
     "text": [
      "{'first': 'jimi', 'last': 'hendrix'}\n"
     ]
    }
   ],
   "source": [
    "musician = build_person('jimi', 'hendrix')\n",
    "print(musician)"
   ]
  },
  {
   "cell_type": "code",
   "execution_count": 16,
   "id": "318882ea-35d7-4e38-9aca-cc71d69aa5f3",
   "metadata": {},
   "outputs": [],
   "source": [
    "def build_person(first_name, last_name , age=''):\n",
    "    person = {'first': first_name, 'last': last_name, 'age': age}\n",
    "    if age:\n",
    "        person ['age'] = age\n",
    "    return person\n",
    "        "
   ]
  },
  {
   "cell_type": "code",
   "execution_count": 18,
   "id": "36d3f860-9cbb-4dd4-8f2a-420c9f8703d7",
   "metadata": {},
   "outputs": [
    {
     "name": "stdout",
     "output_type": "stream",
     "text": [
      "{'first': 'jimi', 'last': 'hendrix', 'age': ''}\n"
     ]
    }
   ],
   "source": [
    "musician = build_person('jimi', 'hendrix')\n",
    "print(musician)"
   ]
  },
  {
   "cell_type": "code",
   "execution_count": 22,
   "id": "57327043-715a-4640-9b42-0c6b3bd99382",
   "metadata": {},
   "outputs": [
    {
     "name": "stdout",
     "output_type": "stream",
     "text": [
      "\n",
      "Please tell me your name:\n",
      "(enter 'q' at any time to quit)\n"
     ]
    },
    {
     "name": "stdin",
     "output_type": "stream",
     "text": [
      "First name:  b\n",
      "Last name:  m\n"
     ]
    },
    {
     "name": "stdout",
     "output_type": "stream",
     "text": [
      "\n",
      "Please tell me your name:\n",
      "(enter 'q' at any time to quit)\n"
     ]
    },
    {
     "name": "stdin",
     "output_type": "stream",
     "text": [
      "First name:  b\n",
      "Last name:  m\n"
     ]
    },
    {
     "name": "stdout",
     "output_type": "stream",
     "text": [
      "\n",
      "Please tell me your name:\n",
      "(enter 'q' at any time to quit)\n"
     ]
    },
    {
     "name": "stdin",
     "output_type": "stream",
     "text": [
      "First name:  1\n",
      "Last name:  q\n"
     ]
    },
    {
     "name": "stdout",
     "output_type": "stream",
     "text": [
      "\n",
      "Hello, 1 Q!\n"
     ]
    }
   ],
   "source": [
    "def get_formatted_name(first_name, last_name):\n",
    "    full_name = first_name + ' ' + last_name\n",
    "    return full_name.title()\n",
    "while True:\n",
    "    print(\"\\nPlease tell me your name:\")\n",
    "    print(\"(enter 'q' at any time to quit)\")\n",
    "    f_name = input(\"First name: \")\n",
    "    if f_name == 'q':\n",
    "        break\n",
    "        \n",
    "    l_name = input(\"Last name: \")\n",
    "    if l_name == 'q':\n",
    "        break\n",
    "formatted_name = get_formatted_name(f_name, l_name)\n",
    "print(\"\\nHello, \" + formatted_name + \"!\")"
   ]
  },
  {
   "cell_type": "code",
   "execution_count": 25,
   "id": "1f01a8bc-1437-4f4d-a5a9-525465611d02",
   "metadata": {},
   "outputs": [
    {
     "name": "stdout",
     "output_type": "stream",
     "text": [
      "Hello, Hannah!\n",
      "Hello, Ty!\n",
      "Hello, Margot!\n"
     ]
    }
   ],
   "source": [
    "def greet_users(names):\n",
    "    for name in names:\n",
    "        msg = \"Hello, \" + name.title() + \"!\"\n",
    "        print(msg)\n",
    "usernames = ['hannah', 'ty', 'margot']\n",
    "greet_users(usernames)"
   ]
  },
  {
   "cell_type": "code",
   "execution_count": 37,
   "id": "c0c5d2fe-7039-4472-92a4-76d90ebe9b9d",
   "metadata": {},
   "outputs": [
    {
     "name": "stdout",
     "output_type": "stream",
     "text": [
      "Printing model: dodecahedron\n",
      "Printing model: robot pendant\n",
      "Printing model: iphone case\n",
      "\n",
      "The following models have been printed:\n",
      "dodecahedron\n",
      "robot pendant\n",
      "iphone case\n"
     ]
    }
   ],
   "source": [
    "# Start with some designs that need to be printed.\n",
    "unprinted_designs = ['iphone case', 'robot pendant', 'dodecahedron']\n",
    "completed_models = []\n",
    "while unprinted_designs:\n",
    "    current_design = unprinted_designs.pop()\n",
    "    print(\"Printing model: \" + current_design)\n",
    "    completed_models.append(current_design)\n",
    " \n",
    "# Display all completed models.\n",
    "print(\"\\nThe following models have been printed:\")\n",
    "for completed_model in completed_models:\n",
    "    print(completed_model)"
   ]
  },
  {
   "cell_type": "code",
   "execution_count": 13,
   "id": "0347513e-58cb-4942-aed7-d71c425af579",
   "metadata": {},
   "outputs": [],
   "source": [
    "def print_models(unprinted_designs, completed_models):\n",
    "    \n",
    "    while unprinted_designs:\n",
    "        current_design = unprinted_designs.pop()\n",
    " \n",
    "\n",
    "    print(\"Printing model: \" + current_design)\n",
    "    completed_models.append(current_design)\n",
    " "
   ]
  },
  {
   "cell_type": "code",
   "execution_count": 14,
   "id": "51018ece-fc31-449f-9db6-cf476f990cbf",
   "metadata": {},
   "outputs": [],
   "source": [
    "def show_completed_models(completed_models):\n",
    "    print(\"\\nThe following models have been printed:\")\n",
    "    for completed_model in completed_models:\n",
    "        print(completed_model)"
   ]
  },
  {
   "cell_type": "code",
   "execution_count": 15,
   "id": "58f8a4fd-ed3f-4d68-9f30-1da8c387fb21",
   "metadata": {},
   "outputs": [],
   "source": [
    "unprinted_designs = ['iphone case', 'robot pendant', 'dodecahedron']\n",
    "completed_models = []"
   ]
  },
  {
   "cell_type": "code",
   "execution_count": 16,
   "id": "92e13930-8763-4b31-8627-80feaff04fb1",
   "metadata": {},
   "outputs": [
    {
     "name": "stdout",
     "output_type": "stream",
     "text": [
      "Printing model: iphone case\n",
      "\n",
      "The following models have been printed:\n",
      "iphone case\n"
     ]
    }
   ],
   "source": [
    "print_models(unprinted_designs, completed_models)\n",
    "show_completed_models(completed_models)"
   ]
  },
  {
   "cell_type": "markdown",
   "id": "f8d21839-d9b8-4031-a76c-7ed300b4203c",
   "metadata": {},
   "source": [
    "# Preventing a Function from Modifying a List"
   ]
  },
  {
   "cell_type": "code",
   "execution_count": 24,
   "id": "a8c82367-963d-4bbb-93cf-4c3a19853873",
   "metadata": {},
   "outputs": [
    {
     "ename": "UnboundLocalError",
     "evalue": "cannot access local variable 'current_design' where it is not associated with a value",
     "output_type": "error",
     "traceback": [
      "\u001b[1;31m---------------------------------------------------------------------------\u001b[0m",
      "\u001b[1;31mUnboundLocalError\u001b[0m                         Traceback (most recent call last)",
      "Cell \u001b[1;32mIn[24], line 1\u001b[0m\n\u001b[1;32m----> 1\u001b[0m print_models(unprinted_designs[:], completed_models)\n",
      "Cell \u001b[1;32mIn[13], line 7\u001b[0m, in \u001b[0;36mprint_models\u001b[1;34m(unprinted_designs, completed_models)\u001b[0m\n\u001b[0;32m      3\u001b[0m \u001b[38;5;28;01mwhile\u001b[39;00m unprinted_designs:\n\u001b[0;32m      4\u001b[0m     current_design \u001b[38;5;241m=\u001b[39m unprinted_designs\u001b[38;5;241m.\u001b[39mpop()\n\u001b[1;32m----> 7\u001b[0m \u001b[38;5;28mprint\u001b[39m(\u001b[38;5;124m\"\u001b[39m\u001b[38;5;124mPrinting model: \u001b[39m\u001b[38;5;124m\"\u001b[39m \u001b[38;5;241m+\u001b[39m current_design)\n\u001b[0;32m      8\u001b[0m completed_models\u001b[38;5;241m.\u001b[39mappend(current_design)\n",
      "\u001b[1;31mUnboundLocalError\u001b[0m: cannot access local variable 'current_design' where it is not associated with a value"
     ]
    }
   ],
   "source": [
    "print_models(unprinted_designs[:], completed_models)"
   ]
  },
  {
   "cell_type": "code",
   "execution_count": 18,
   "id": "1dfbd64d-0ede-465c-95ba-383c0214cf57",
   "metadata": {},
   "outputs": [],
   "source": [
    "a = [1,2,3]"
   ]
  },
  {
   "cell_type": "code",
   "execution_count": 19,
   "id": "89a39a61-83ee-4407-9665-d395ed0d26d1",
   "metadata": {},
   "outputs": [],
   "source": [
    "b = a # referance"
   ]
  },
  {
   "cell_type": "code",
   "execution_count": 20,
   "id": "4b1a64b0-b678-42ec-b808-cce4d889e246",
   "metadata": {},
   "outputs": [
    {
     "data": {
      "text/plain": [
       "3"
      ]
     },
     "execution_count": 20,
     "metadata": {},
     "output_type": "execute_result"
    }
   ],
   "source": [
    "b.pop()"
   ]
  },
  {
   "cell_type": "code",
   "execution_count": 21,
   "id": "e91eb1a3-0dc6-40e3-9fca-1d38f8b1b958",
   "metadata": {},
   "outputs": [
    {
     "data": {
      "text/plain": [
       "[1, 2]"
      ]
     },
     "execution_count": 21,
     "metadata": {},
     "output_type": "execute_result"
    }
   ],
   "source": [
    "a"
   ]
  },
  {
   "cell_type": "code",
   "execution_count": 22,
   "id": "da231785-ab4e-4925-a1ec-d0ebeaffda53",
   "metadata": {},
   "outputs": [
    {
     "data": {
      "text/plain": [
       "[1, 2]"
      ]
     },
     "execution_count": 22,
     "metadata": {},
     "output_type": "execute_result"
    }
   ],
   "source": [
    "b"
   ]
  },
  {
   "cell_type": "code",
   "execution_count": 23,
   "id": "58854f7b-71a8-43ad-8c28-0810214a36cf",
   "metadata": {},
   "outputs": [],
   "source": [
    "b =a.copy() # by value"
   ]
  },
  {
   "cell_type": "code",
   "execution_count": 25,
   "id": "a346e8d9-2d25-4ab2-a80d-49e00eea5fb5",
   "metadata": {},
   "outputs": [],
   "source": [
    "c = a[:] # by value"
   ]
  },
  {
   "cell_type": "markdown",
   "id": "416a5c44-cfa7-4e67-ba9c-8411b385a4ed",
   "metadata": {},
   "source": [
    "# Passing an Arbitrary Number of Arguments"
   ]
  },
  {
   "cell_type": "code",
   "execution_count": 26,
   "id": "f69fcab6-32a0-4411-8ff1-057a96a1809d",
   "metadata": {},
   "outputs": [],
   "source": [
    "def sumAll(num1,num2):\n",
    "    total = num1+num2"
   ]
  },
  {
   "cell_type": "code",
   "execution_count": 27,
   "id": "362b4e25-820e-424b-88bc-eac9f7e62abd",
   "metadata": {},
   "outputs": [
    {
     "ename": "TypeError",
     "evalue": "sumAll() missing 1 required positional argument: 'num2'",
     "output_type": "error",
     "traceback": [
      "\u001b[1;31m---------------------------------------------------------------------------\u001b[0m",
      "\u001b[1;31mTypeError\u001b[0m                                 Traceback (most recent call last)",
      "Cell \u001b[1;32mIn[27], line 1\u001b[0m\n\u001b[1;32m----> 1\u001b[0m sumAll(\u001b[38;5;241m12\u001b[39m)\n",
      "\u001b[1;31mTypeError\u001b[0m: sumAll() missing 1 required positional argument: 'num2'"
     ]
    }
   ],
   "source": [
    "# error due to 1 less parameter\n",
    "sumAll(12)"
   ]
  },
  {
   "cell_type": "code",
   "execution_count": 35,
   "id": "534f9052-f75b-49d1-ab3f-26f9cec67c2b",
   "metadata": {},
   "outputs": [],
   "source": [
    "def sumAll(num1=0,num2=0):\n",
    "    return  num1+num2"
   ]
  },
  {
   "cell_type": "code",
   "execution_count": 36,
   "id": "31f138b3-3777-4cc1-8911-f1f98cde3604",
   "metadata": {},
   "outputs": [
    {
     "data": {
      "text/plain": [
       "17"
      ]
     },
     "execution_count": 36,
     "metadata": {},
     "output_type": "execute_result"
    }
   ],
   "source": [
    "sumAll(12,5)"
   ]
  },
  {
   "cell_type": "code",
   "execution_count": 37,
   "id": "a7141f0d-2a83-4ea5-8fea-320715790fb2",
   "metadata": {},
   "outputs": [
    {
     "data": {
      "text/plain": [
       "3"
      ]
     },
     "execution_count": 37,
     "metadata": {},
     "output_type": "execute_result"
    }
   ],
   "source": [
    "sumAll(3)"
   ]
  },
  {
   "cell_type": "markdown",
   "id": "4a1b789f-89ce-4cae-b5c7-1e94fbe2bb63",
   "metadata": {},
   "source": [
    "sumAll()"
   ]
  },
  {
   "cell_type": "code",
   "execution_count": 38,
   "id": "356ec890-1629-4233-9d91-376fdbb2887c",
   "metadata": {},
   "outputs": [
    {
     "ename": "TypeError",
     "evalue": "sumAll() takes from 0 to 2 positional arguments but 3 were given",
     "output_type": "error",
     "traceback": [
      "\u001b[1;31m---------------------------------------------------------------------------\u001b[0m",
      "\u001b[1;31mTypeError\u001b[0m                                 Traceback (most recent call last)",
      "Cell \u001b[1;32mIn[38], line 1\u001b[0m\n\u001b[1;32m----> 1\u001b[0m sumAll(\u001b[38;5;241m12\u001b[39m,\u001b[38;5;241m3\u001b[39m,\u001b[38;5;241m5\u001b[39m)\n",
      "\u001b[1;31mTypeError\u001b[0m: sumAll() takes from 0 to 2 positional arguments but 3 were given"
     ]
    }
   ],
   "source": [
    "sumAll(12,3,5)"
   ]
  },
  {
   "cell_type": "code",
   "execution_count": 39,
   "id": "2491dd4c-cb83-4bde-9e47-bfcee51d089d",
   "metadata": {},
   "outputs": [],
   "source": [
    "def make_pizza(*toppings):\n",
    "# topping is such type of parameter that hold anynm of arguments\n",
    "    print(toppings)\n",
    " "
   ]
  },
  {
   "cell_type": "code",
   "execution_count": 40,
   "id": "c44619f3-bb07-41a6-a113-b39ea2ed83bf",
   "metadata": {},
   "outputs": [
    {
     "name": "stdout",
     "output_type": "stream",
     "text": [
      "('pepperoni',)\n"
     ]
    }
   ],
   "source": [
    "make_pizza('pepperoni') # store only tuple type"
   ]
  },
  {
   "cell_type": "code",
   "execution_count": 41,
   "id": "287149d6-66ed-4033-9814-b09b77b19465",
   "metadata": {},
   "outputs": [
    {
     "name": "stdout",
     "output_type": "stream",
     "text": [
      "('mushrooms', 'green peppers', 'extra cheese')\n"
     ]
    }
   ],
   "source": [
    "make_pizza('mushrooms', 'green peppers', 'extra cheese')"
   ]
  },
  {
   "cell_type": "code",
   "execution_count": 42,
   "id": "be336797-2437-4086-93fb-13e06f36f539",
   "metadata": {},
   "outputs": [],
   "source": [
    "def make_pizza(*toppings):\n",
    "    print(\"\\nMaking a pizza with the following toppings:\")\n",
    "    for topping in toppings:\n",
    "     print(\"- \" + topping)"
   ]
  },
  {
   "cell_type": "code",
   "execution_count": 43,
   "id": "9092e968-e5f3-44f0-863b-3a48358547a2",
   "metadata": {},
   "outputs": [
    {
     "name": "stdout",
     "output_type": "stream",
     "text": [
      "\n",
      "Making a pizza with the following toppings:\n",
      "- pepperoni\n",
      "\n",
      "Making a pizza with the following toppings:\n",
      "- mushrooms\n",
      "- green peppers\n",
      "- extra cheese\n"
     ]
    }
   ],
   "source": [
    "make_pizza('pepperoni')\n",
    "make_pizza('mushrooms', 'green peppers', 'extra cheese')"
   ]
  },
  {
   "cell_type": "markdown",
   "id": "5c032da7-cfc2-41e1-8f2e-7dc3ba04e436",
   "metadata": {},
   "source": [
    "# Mixing Positional and Arbitrary Arguments"
   ]
  },
  {
   "cell_type": "code",
   "execution_count": 47,
   "id": "cc5d5747-6f8f-4380-942e-606550cca224",
   "metadata": {},
   "outputs": [
    {
     "ename": "IndentationError",
     "evalue": "expected an indented block after 'for' statement on line 3 (1369399463.py, line 4)",
     "output_type": "error",
     "traceback": [
      "\u001b[1;36m  Cell \u001b[1;32mIn[47], line 4\u001b[1;36m\u001b[0m\n\u001b[1;33m    print(\"- \" + topping)\u001b[0m\n\u001b[1;37m    ^\u001b[0m\n\u001b[1;31mIndentationError\u001b[0m\u001b[1;31m:\u001b[0m expected an indented block after 'for' statement on line 3\n"
     ]
    }
   ],
   "source": [
    "def make_pizza(size, *toppings):\n",
    "    print(\"\\nMaking a \" + str(size) +\"-inch pizza with the following toppings:\") \n",
    "    for topping in toppings: \n",
    "    print(\"- \" + topping)"
   ]
  },
  {
   "cell_type": "code",
   "execution_count": 46,
   "id": "5fd69c6a-1acb-4a8f-9556-3368b7f054fd",
   "metadata": {},
   "outputs": [
    {
     "name": "stdout",
     "output_type": "stream",
     "text": [
      "\n",
      "Making a pizza with the following toppings:\n"
     ]
    },
    {
     "ename": "TypeError",
     "evalue": "can only concatenate str (not \"int\") to str",
     "output_type": "error",
     "traceback": [
      "\u001b[1;31m---------------------------------------------------------------------------\u001b[0m",
      "\u001b[1;31mTypeError\u001b[0m                                 Traceback (most recent call last)",
      "Cell \u001b[1;32mIn[46], line 1\u001b[0m\n\u001b[1;32m----> 1\u001b[0m make_pizza(\u001b[38;5;241m16\u001b[39m, \u001b[38;5;124m'\u001b[39m\u001b[38;5;124mpepperoni\u001b[39m\u001b[38;5;124m'\u001b[39m) \n\u001b[0;32m      2\u001b[0m make_pizza(\u001b[38;5;241m22\u001b[39m,\u001b[38;5;124m'\u001b[39m\u001b[38;5;124mmushrooms\u001b[39m\u001b[38;5;124m'\u001b[39m, \u001b[38;5;124m'\u001b[39m\u001b[38;5;124mgreen peppers\u001b[39m\u001b[38;5;124m'\u001b[39m, \u001b[38;5;124m'\u001b[39m\u001b[38;5;124mextra cheese\u001b[39m\u001b[38;5;124m'\u001b[39m)\n",
      "Cell \u001b[1;32mIn[42], line 4\u001b[0m, in \u001b[0;36mmake_pizza\u001b[1;34m(*toppings)\u001b[0m\n\u001b[0;32m      2\u001b[0m \u001b[38;5;28mprint\u001b[39m(\u001b[38;5;124m\"\u001b[39m\u001b[38;5;130;01m\\n\u001b[39;00m\u001b[38;5;124mMaking a pizza with the following toppings:\u001b[39m\u001b[38;5;124m\"\u001b[39m)\n\u001b[0;32m      3\u001b[0m \u001b[38;5;28;01mfor\u001b[39;00m topping \u001b[38;5;129;01min\u001b[39;00m toppings:\n\u001b[1;32m----> 4\u001b[0m  \u001b[38;5;28mprint\u001b[39m(\u001b[38;5;124m\"\u001b[39m\u001b[38;5;124m- \u001b[39m\u001b[38;5;124m\"\u001b[39m \u001b[38;5;241m+\u001b[39m topping)\n",
      "\u001b[1;31mTypeError\u001b[0m: can only concatenate str (not \"int\") to str"
     ]
    }
   ],
   "source": [
    "make_pizza(16, 'pepperoni') \n",
    "make_pizza(22,'mushrooms', 'green peppers', 'extra cheese')"
   ]
  },
  {
   "cell_type": "code",
   "execution_count": null,
   "id": "72b27004-8853-4061-ba50-58491187f6fe",
   "metadata": {},
   "outputs": [],
   "source": []
  }
 ],
 "metadata": {
  "kernelspec": {
   "display_name": "Python 3 (ipykernel)",
   "language": "python",
   "name": "python3"
  },
  "language_info": {
   "codemirror_mode": {
    "name": "ipython",
    "version": 3
   },
   "file_extension": ".py",
   "mimetype": "text/x-python",
   "name": "python",
   "nbconvert_exporter": "python",
   "pygments_lexer": "ipython3",
   "version": "3.11.7"
  }
 },
 "nbformat": 4,
 "nbformat_minor": 5
}
