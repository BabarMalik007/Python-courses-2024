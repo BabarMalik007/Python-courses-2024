{
 "cells": [
  {
   "cell_type": "markdown",
   "id": "f8ab0cba-139a-4dc9-8a6e-68698a9d4df6",
   "metadata": {},
   "source": [
    "# What is Object Oriented Programing ?"
   ]
  },
  {
   "cell_type": "markdown",
   "id": "89706b36-51b8-4131-9d8a-eb96d5b8138d",
   "metadata": {},
   "source": [
    "# - Paradigms of Prgramming\r\n",
    "                  - procedural programming \r\n",
    "                  - Functional programming\r\n",
    "                  - Object oriented programming\r\n",
    "                  "
   ]
  },
  {
   "cell_type": "markdown",
   "id": "968a3ff2-35ff-43cc-a885-e426873432e9",
   "metadata": {},
   "source": [
    "# What is Object in OPP?"
   ]
  },
  {
   "cell_type": "code",
   "execution_count": 2,
   "id": "1be04090-1ae4-424a-b9da-ae42fa2d428d",
   "metadata": {},
   "outputs": [
    {
     "ename": "SyntaxError",
     "evalue": "invalid syntax (427478665.py, line 1)",
     "output_type": "error",
     "traceback": [
      "\u001b[1;36m  Cell \u001b[1;32mIn[2], line 1\u001b[1;36m\u001b[0m\n\u001b[1;33m    from now everything in pyhon is OBJECT. Object is an instance(copy) of class.\u001b[0m\n\u001b[1;37m             ^\u001b[0m\n\u001b[1;31mSyntaxError\u001b[0m\u001b[1;31m:\u001b[0m invalid syntax\n"
     ]
    }
   ],
   "source": [
    "from now everything in pyhon is OBJECT. Object is an instance(copy) of class. "
   ]
  },
  {
   "cell_type": "code",
   "execution_count": 4,
   "id": "0538260c-13c4-4f0a-ad3e-cb720741329f",
   "metadata": {},
   "outputs": [
    {
     "name": "stderr",
     "output_type": "stream",
     "text": [
      "'[image.png]' is not recognized as an internal or external command,\n",
      "operable program or batch file.\n"
     ]
    }
   ],
   "source": [
    "![image.png](attachment:image.png)"
   ]
  },
  {
   "cell_type": "markdown",
   "id": "32c61c39-c760-4f4e-85aa-ae4171bf0694",
   "metadata": {},
   "source": [
    "# Define A class and Creating objects of class"
   ]
  },
  {
   "cell_type": "code",
   "execution_count": 6,
   "id": "d45eb151-f79c-4a89-b8db-7d913409644f",
   "metadata": {},
   "outputs": [],
   "source": [
    "a = 100"
   ]
  },
  {
   "cell_type": "code",
   "execution_count": 7,
   "id": "0d96ed6d-cccd-4e31-97b3-5f69b47e2eb8",
   "metadata": {},
   "outputs": [
    {
     "name": "stdout",
     "output_type": "stream",
     "text": [
      "<class 'int'>\n"
     ]
    }
   ],
   "source": [
    "print(type(a))"
   ]
  },
  {
   "cell_type": "code",
   "execution_count": 8,
   "id": "f238bb03-11b1-441d-a1d9-f329e1217007",
   "metadata": {},
   "outputs": [
    {
     "name": "stdout",
     "output_type": "stream",
     "text": [
      "Help on class int in module builtins:\n",
      "\n",
      "class int(object)\n",
      " |  int([x]) -> integer\n",
      " |  int(x, base=10) -> integer\n",
      " |  \n",
      " |  Convert a number or string to an integer, or return 0 if no arguments\n",
      " |  are given.  If x is a number, return x.__int__().  For floating point\n",
      " |  numbers, this truncates towards zero.\n",
      " |  \n",
      " |  If x is not a number or if base is given, then x must be a string,\n",
      " |  bytes, or bytearray instance representing an integer literal in the\n",
      " |  given base.  The literal can be preceded by '+' or '-' and be surrounded\n",
      " |  by whitespace.  The base defaults to 10.  Valid bases are 0 and 2-36.\n",
      " |  Base 0 means to interpret the base from the string as an integer literal.\n",
      " |  >>> int('0b100', base=0)\n",
      " |  4\n",
      " |  \n",
      " |  Built-in subclasses:\n",
      " |      bool\n",
      " |  \n",
      " |  Methods defined here:\n",
      " |  \n",
      " |  __abs__(self, /)\n",
      " |      abs(self)\n",
      " |  \n",
      " |  __add__(self, value, /)\n",
      " |      Return self+value.\n",
      " |  \n",
      " |  __and__(self, value, /)\n",
      " |      Return self&value.\n",
      " |  \n",
      " |  __bool__(self, /)\n",
      " |      True if self else False\n",
      " |  \n",
      " |  __ceil__(...)\n",
      " |      Ceiling of an Integral returns itself.\n",
      " |  \n",
      " |  __divmod__(self, value, /)\n",
      " |      Return divmod(self, value).\n",
      " |  \n",
      " |  __eq__(self, value, /)\n",
      " |      Return self==value.\n",
      " |  \n",
      " |  __float__(self, /)\n",
      " |      float(self)\n",
      " |  \n",
      " |  __floor__(...)\n",
      " |      Flooring an Integral returns itself.\n",
      " |  \n",
      " |  __floordiv__(self, value, /)\n",
      " |      Return self//value.\n",
      " |  \n",
      " |  __format__(self, format_spec, /)\n",
      " |      Default object formatter.\n",
      " |  \n",
      " |  __ge__(self, value, /)\n",
      " |      Return self>=value.\n",
      " |  \n",
      " |  __getattribute__(self, name, /)\n",
      " |      Return getattr(self, name).\n",
      " |  \n",
      " |  __getnewargs__(self, /)\n",
      " |  \n",
      " |  __gt__(self, value, /)\n",
      " |      Return self>value.\n",
      " |  \n",
      " |  __hash__(self, /)\n",
      " |      Return hash(self).\n",
      " |  \n",
      " |  __index__(self, /)\n",
      " |      Return self converted to an integer, if self is suitable for use as an index into a list.\n",
      " |  \n",
      " |  __int__(self, /)\n",
      " |      int(self)\n",
      " |  \n",
      " |  __invert__(self, /)\n",
      " |      ~self\n",
      " |  \n",
      " |  __le__(self, value, /)\n",
      " |      Return self<=value.\n",
      " |  \n",
      " |  __lshift__(self, value, /)\n",
      " |      Return self<<value.\n",
      " |  \n",
      " |  __lt__(self, value, /)\n",
      " |      Return self<value.\n",
      " |  \n",
      " |  __mod__(self, value, /)\n",
      " |      Return self%value.\n",
      " |  \n",
      " |  __mul__(self, value, /)\n",
      " |      Return self*value.\n",
      " |  \n",
      " |  __ne__(self, value, /)\n",
      " |      Return self!=value.\n",
      " |  \n",
      " |  __neg__(self, /)\n",
      " |      -self\n",
      " |  \n",
      " |  __or__(self, value, /)\n",
      " |      Return self|value.\n",
      " |  \n",
      " |  __pos__(self, /)\n",
      " |      +self\n",
      " |  \n",
      " |  __pow__(self, value, mod=None, /)\n",
      " |      Return pow(self, value, mod).\n",
      " |  \n",
      " |  __radd__(self, value, /)\n",
      " |      Return value+self.\n",
      " |  \n",
      " |  __rand__(self, value, /)\n",
      " |      Return value&self.\n",
      " |  \n",
      " |  __rdivmod__(self, value, /)\n",
      " |      Return divmod(value, self).\n",
      " |  \n",
      " |  __repr__(self, /)\n",
      " |      Return repr(self).\n",
      " |  \n",
      " |  __rfloordiv__(self, value, /)\n",
      " |      Return value//self.\n",
      " |  \n",
      " |  __rlshift__(self, value, /)\n",
      " |      Return value<<self.\n",
      " |  \n",
      " |  __rmod__(self, value, /)\n",
      " |      Return value%self.\n",
      " |  \n",
      " |  __rmul__(self, value, /)\n",
      " |      Return value*self.\n",
      " |  \n",
      " |  __ror__(self, value, /)\n",
      " |      Return value|self.\n",
      " |  \n",
      " |  __round__(...)\n",
      " |      Rounding an Integral returns itself.\n",
      " |      \n",
      " |      Rounding with an ndigits argument also returns an integer.\n",
      " |  \n",
      " |  __rpow__(self, value, mod=None, /)\n",
      " |      Return pow(value, self, mod).\n",
      " |  \n",
      " |  __rrshift__(self, value, /)\n",
      " |      Return value>>self.\n",
      " |  \n",
      " |  __rshift__(self, value, /)\n",
      " |      Return self>>value.\n",
      " |  \n",
      " |  __rsub__(self, value, /)\n",
      " |      Return value-self.\n",
      " |  \n",
      " |  __rtruediv__(self, value, /)\n",
      " |      Return value/self.\n",
      " |  \n",
      " |  __rxor__(self, value, /)\n",
      " |      Return value^self.\n",
      " |  \n",
      " |  __sizeof__(self, /)\n",
      " |      Returns size in memory, in bytes.\n",
      " |  \n",
      " |  __sub__(self, value, /)\n",
      " |      Return self-value.\n",
      " |  \n",
      " |  __truediv__(self, value, /)\n",
      " |      Return self/value.\n",
      " |  \n",
      " |  __trunc__(...)\n",
      " |      Truncating an Integral returns itself.\n",
      " |  \n",
      " |  __xor__(self, value, /)\n",
      " |      Return self^value.\n",
      " |  \n",
      " |  as_integer_ratio(self, /)\n",
      " |      Return integer ratio.\n",
      " |      \n",
      " |      Return a pair of integers, whose ratio is exactly equal to the original int\n",
      " |      and with a positive denominator.\n",
      " |      \n",
      " |      >>> (10).as_integer_ratio()\n",
      " |      (10, 1)\n",
      " |      >>> (-10).as_integer_ratio()\n",
      " |      (-10, 1)\n",
      " |      >>> (0).as_integer_ratio()\n",
      " |      (0, 1)\n",
      " |  \n",
      " |  bit_count(self, /)\n",
      " |      Number of ones in the binary representation of the absolute value of self.\n",
      " |      \n",
      " |      Also known as the population count.\n",
      " |      \n",
      " |      >>> bin(13)\n",
      " |      '0b1101'\n",
      " |      >>> (13).bit_count()\n",
      " |      3\n",
      " |  \n",
      " |  bit_length(self, /)\n",
      " |      Number of bits necessary to represent self in binary.\n",
      " |      \n",
      " |      >>> bin(37)\n",
      " |      '0b100101'\n",
      " |      >>> (37).bit_length()\n",
      " |      6\n",
      " |  \n",
      " |  conjugate(...)\n",
      " |      Returns self, the complex conjugate of any int.\n",
      " |  \n",
      " |  to_bytes(self, /, length=1, byteorder='big', *, signed=False)\n",
      " |      Return an array of bytes representing an integer.\n",
      " |      \n",
      " |      length\n",
      " |        Length of bytes object to use.  An OverflowError is raised if the\n",
      " |        integer is not representable with the given number of bytes.  Default\n",
      " |        is length 1.\n",
      " |      byteorder\n",
      " |        The byte order used to represent the integer.  If byteorder is 'big',\n",
      " |        the most significant byte is at the beginning of the byte array.  If\n",
      " |        byteorder is 'little', the most significant byte is at the end of the\n",
      " |        byte array.  To request the native byte order of the host system, use\n",
      " |        `sys.byteorder' as the byte order value.  Default is to use 'big'.\n",
      " |      signed\n",
      " |        Determines whether two's complement is used to represent the integer.\n",
      " |        If signed is False and a negative integer is given, an OverflowError\n",
      " |        is raised.\n",
      " |  \n",
      " |  ----------------------------------------------------------------------\n",
      " |  Class methods defined here:\n",
      " |  \n",
      " |  from_bytes(bytes, byteorder='big', *, signed=False) from builtins.type\n",
      " |      Return the integer represented by the given array of bytes.\n",
      " |      \n",
      " |      bytes\n",
      " |        Holds the array of bytes to convert.  The argument must either\n",
      " |        support the buffer protocol or be an iterable object producing bytes.\n",
      " |        Bytes and bytearray are examples of built-in objects that support the\n",
      " |        buffer protocol.\n",
      " |      byteorder\n",
      " |        The byte order used to represent the integer.  If byteorder is 'big',\n",
      " |        the most significant byte is at the beginning of the byte array.  If\n",
      " |        byteorder is 'little', the most significant byte is at the end of the\n",
      " |        byte array.  To request the native byte order of the host system, use\n",
      " |        `sys.byteorder' as the byte order value.  Default is to use 'big'.\n",
      " |      signed\n",
      " |        Indicates whether two's complement is used to represent the integer.\n",
      " |  \n",
      " |  ----------------------------------------------------------------------\n",
      " |  Static methods defined here:\n",
      " |  \n",
      " |  __new__(*args, **kwargs) from builtins.type\n",
      " |      Create and return a new object.  See help(type) for accurate signature.\n",
      " |  \n",
      " |  ----------------------------------------------------------------------\n",
      " |  Data descriptors defined here:\n",
      " |  \n",
      " |  denominator\n",
      " |      the denominator of a rational number in lowest terms\n",
      " |  \n",
      " |  imag\n",
      " |      the imaginary part of a complex number\n",
      " |  \n",
      " |  numerator\n",
      " |      the numerator of a rational number in lowest terms\n",
      " |  \n",
      " |  real\n",
      " |      the real part of a complex number\n",
      "\n"
     ]
    }
   ],
   "source": [
    "help(int)"
   ]
  },
  {
   "cell_type": "markdown",
   "id": "482687d2-7a4b-4752-b3e7-5e0dc29ac315",
   "metadata": {},
   "source": [
    "a is an object of int class"
   ]
  },
  {
   "cell_type": "code",
   "execution_count": 9,
   "id": "530a2f09-bdc3-4a68-88db-423a1aa8a857",
   "metadata": {},
   "outputs": [],
   "source": [
    "lst = [1,2,3,]"
   ]
  },
  {
   "cell_type": "markdown",
   "id": "e2492752-9d58-44fc-8b65-fa8ee6ead5d6",
   "metadata": {},
   "source": [
    "# list is a object of class"
   ]
  },
  {
   "cell_type": "code",
   "execution_count": null,
   "id": "2dfe752b-3a16-4e91-bb56-485db30b1344",
   "metadata": {},
   "outputs": [],
   "source": [
    "dict = {\"name\": \"Nasir\"}\n",
    "# dict is a object of dictionar"
   ]
  },
  {
   "cell_type": "code",
   "execution_count": 12,
   "id": "25ed4b52-861d-4b77-8549-229c57c5428a",
   "metadata": {},
   "outputs": [
    {
     "name": "stdout",
     "output_type": "stream",
     "text": [
      "<class 'type'>\n"
     ]
    }
   ],
   "source": [
    "print(type(dict))"
   ]
  },
  {
   "cell_type": "markdown",
   "id": "9d929e59-95c5-4f24-8ea9-8d06a82bc3bf",
   "metadata": {},
   "source": [
    "class Human():\n",
    "\n",
    "    # properties \n",
    "        - gender\n",
    "        - blood gp\n",
    "        - age\n",
    "        - height\n",
    "        - weight\n",
    "        - name\n",
    "        - contact\n",
    "    \n",
    "    # behaviours\n",
    "    \n",
    "         - eat()\n",
    "         - sleep()\n",
    "         - walk()\n",
    "         - weep()"
   ]
  },
  {
   "cell_type": "code",
   "execution_count": 35,
   "id": "991c86dc-326a-44b0-9858-8260c6d6fbdb",
   "metadata": {},
   "outputs": [],
   "source": [
    "class Human():\n",
    "    # attributes(variables)\n",
    "    name = \"Babar\"\n",
    "    age = 22\n",
    "    height_cm = 100\n",
    "    weight_kg = 55\n",
    "    contact = \"0300-7867788\"\n",
    "\n",
    "    # Behaviours (function>>methods)\n",
    "    def walk(self):\n",
    "        print(\"Human is walking\")\n",
    "    def sleep(self):\n",
    "        print (\"Human is sleeping\")\n",
    "    def eating(self):\n",
    "        print (\"Human is eating\")\n",
    "    def drinking(self):\n",
    "        print (\"Human is drinking\")\n",
    "    \n",
    "    \n",
    "    "
   ]
  },
  {
   "cell_type": "markdown",
   "id": "7d477e90-aa4c-46e4-b845-23fc743ad3f0",
   "metadata": {},
   "source": [
    "# Creating object of Class"
   ]
  },
  {
   "cell_type": "code",
   "execution_count": 15,
   "id": "e5ef6dfb-9b1a-4ee9-b089-c3f261964608",
   "metadata": {},
   "outputs": [],
   "source": [
    "hum1 = Human()"
   ]
  },
  {
   "cell_type": "code",
   "execution_count": 20,
   "id": "977d5758-f447-4809-bd37-995e53d82a3f",
   "metadata": {},
   "outputs": [
    {
     "data": {
      "text/plain": [
       "'Babar'"
      ]
     },
     "execution_count": 20,
     "metadata": {},
     "output_type": "execute_result"
    }
   ],
   "source": [
    "hum1.name"
   ]
  },
  {
   "cell_type": "code",
   "execution_count": 21,
   "id": "fe70e861-3c0a-4104-9b69-96f8bf84c3d4",
   "metadata": {},
   "outputs": [
    {
     "data": {
      "text/plain": [
       "22"
      ]
     },
     "execution_count": 21,
     "metadata": {},
     "output_type": "execute_result"
    }
   ],
   "source": [
    "hum1.age"
   ]
  },
  {
   "cell_type": "code",
   "execution_count": 24,
   "id": "b65eb314-7d33-439b-a14d-019377e45242",
   "metadata": {},
   "outputs": [
    {
     "name": "stdout",
     "output_type": "stream",
     "text": [
      "Human is walking\n"
     ]
    }
   ],
   "source": [
    "hum1.walk()"
   ]
  },
  {
   "cell_type": "code",
   "execution_count": 16,
   "id": "72fe00c4-7151-4b21-9502-9a4bdd468892",
   "metadata": {},
   "outputs": [
    {
     "name": "stdout",
     "output_type": "stream",
     "text": [
      "<class '__main__.Human'>\n"
     ]
    }
   ],
   "source": [
    "print(type(hum1))"
   ]
  },
  {
   "cell_type": "code",
   "execution_count": 26,
   "id": "ab82ed81-1cf5-44f2-8013-9a89af6e8a8e",
   "metadata": {},
   "outputs": [
    {
     "name": "stdout",
     "output_type": "stream",
     "text": [
      "Human is sleeping\n"
     ]
    }
   ],
   "source": [
    "hum1.sleep()"
   ]
  },
  {
   "cell_type": "code",
   "execution_count": 36,
   "id": "2c13b83b-e052-463a-947c-20c6efc66417",
   "metadata": {},
   "outputs": [],
   "source": [
    "hum2= Human()"
   ]
  },
  {
   "cell_type": "code",
   "execution_count": 37,
   "id": "7bc3e50f-12f8-439a-9af0-773d1cf74891",
   "metadata": {},
   "outputs": [
    {
     "data": {
      "text/plain": [
       "'Babar'"
      ]
     },
     "execution_count": 37,
     "metadata": {},
     "output_type": "execute_result"
    }
   ],
   "source": [
    "hum2.name"
   ]
  },
  {
   "cell_type": "code",
   "execution_count": 38,
   "id": "256632a6-4d6e-41c3-91de-505b578b6027",
   "metadata": {},
   "outputs": [
    {
     "ename": "SyntaxError",
     "evalue": "invalid syntax (3801478682.py, line 1)",
     "output_type": "error",
     "traceback": [
      "\u001b[1;36m  Cell \u001b[1;32mIn[38], line 1\u001b[1;36m\u001b[0m\n\u001b[1;33m    hum2.agelso present\u001b[0m\n\u001b[1;37m                ^\u001b[0m\n\u001b[1;31mSyntaxError\u001b[0m\u001b[1;31m:\u001b[0m invalid syntax\n"
     ]
    }
   ],
   "source": [
    "hum2.agelso present"
   ]
  },
  {
   "cell_type": "code",
   "execution_count": 44,
   "id": "44efc909-c976-49ca-a224-43152ab78743",
   "metadata": {},
   "outputs": [],
   "source": [
    "class Laptop():\n",
    "    company = \"Lenovo\"\n",
    "    model = \"ideapad667899\"\n",
    "    ram = \"20GB\"\n",
    "    storage = \"1.5TB\"\n",
    "    color = \"deepblue\"\n",
    "    processer = \"corei7\"\n",
    "    genration = \"11gen\"\n",
    "    windows = \"win11\"\n",
    "\n",
    "    def on(self):\n",
    "        print(\"Laptop is switching ON\")\n",
    "    def off(self):\n",
    "        print(\"Laptop is switching OFF\")\n",
    "    def internet_surf(self):\n",
    "        print(\"Internet is surfing on laptop\")\n",
    "    def coding(self):\n",
    "        print(\"code ia written Nand executed on laptop\")\n",
    "    \n",
    "    \n",
    "    "
   ]
  },
  {
   "cell_type": "code",
   "execution_count": 45,
   "id": "0522e662-0b35-4040-89b6-13c6af5bd81b",
   "metadata": {},
   "outputs": [],
   "source": [
    "huzaifa1 = Laptop()"
   ]
  },
  {
   "cell_type": "code",
   "execution_count": 46,
   "id": "6572e8d2-cc26-4469-9bbb-7c69c0108722",
   "metadata": {},
   "outputs": [],
   "source": [
    "adil1 = Laptop()"
   ]
  },
  {
   "cell_type": "code",
   "execution_count": 47,
   "id": "75b0f892-9d7a-4481-bfbc-b8e40a983c4c",
   "metadata": {},
   "outputs": [],
   "source": [
    "Nasir_Sir = Laptop()"
   ]
  },
  {
   "cell_type": "code",
   "execution_count": 48,
   "id": "33bb6650-89c8-46f0-85b6-800a09d145d9",
   "metadata": {},
   "outputs": [
    {
     "data": {
      "text/plain": [
       "'win11'"
      ]
     },
     "execution_count": 48,
     "metadata": {},
     "output_type": "execute_result"
    }
   ],
   "source": [
    "Nasir_Sir.windows"
   ]
  },
  {
   "cell_type": "code",
   "execution_count": 49,
   "id": "4800f391-ecd1-4c88-a7de-3efe37ea7746",
   "metadata": {},
   "outputs": [
    {
     "data": {
      "text/plain": [
       "'corei7'"
      ]
     },
     "execution_count": 49,
     "metadata": {},
     "output_type": "execute_result"
    }
   ],
   "source": [
    "adil1.processer"
   ]
  },
  {
   "cell_type": "markdown",
   "id": "99803093-85c4-4fe2-ac30-42d8836b1f2f",
   "metadata": {},
   "source": [
    "# Initializer / Contructor: it provides values to  object\n"
   ]
  },
  {
   "cell_type": "markdown",
   "id": "99fa0d9a-b8d3-47b4-842d-2804be3f2260",
   "metadata": {},
   "source": [
    "class Laptop():\n",
    "    \n",
    "    \n",
    "#     company = 'Lenovo'\n",
    "#     model   = 'ideapad330S'\n",
    "#     ram     = '20Gb'\n",
    "#     storage = '1.5Tb'\n",
    "#     color   = 'deepblue'\n",
    "#     processor= 'corei7'\n",
    "#     generation = \"11gen\"\n",
    "#     windows   = \"win11\"\n",
    "    \n",
    "    def on(self):\n",
    "        print(\"Laptop is switching ON\")\n",
    "    def off(self):\n",
    "        print(\"Laptop is switching OFF\")\n",
    "        \n",
    "    def internet_surf(self):\n",
    "        print(\"Internet is surfing on laptop\")\n",
    "        \n",
    "    def coding(self):\n",
    "        print(\"Code is written and executed on laptop\")"
   ]
  },
  {
   "cell_type": "code",
   "execution_count": 1,
   "id": "e7b6124b-3437-4478-8120-a3b7c96e8abb",
   "metadata": {},
   "outputs": [],
   "source": [
    "class Car():\n",
    "    name = \"Corolla\"\n",
    "    engine = \"1500CC\"\n",
    "    year = 2020\n",
    "    model = 2018\n",
    "\n",
    "    def start(self):\n",
    "        print(\"car starts\")\n",
    "    def off(self):\n",
    "        print(\"car off\")"
   ]
  },
  {
   "cell_type": "code",
   "execution_count": 2,
   "id": "5c469aa4-49c7-4796-92b9-dc138e15cf6b",
   "metadata": {},
   "outputs": [],
   "source": [
    "cara = Car()"
   ]
  },
  {
   "cell_type": "code",
   "execution_count": 3,
   "id": "1dcac870-1a1b-4268-b70c-6a2c709a3838",
   "metadata": {},
   "outputs": [
    {
     "data": {
      "text/plain": [
       "'1500CC'"
      ]
     },
     "execution_count": 3,
     "metadata": {},
     "output_type": "execute_result"
    }
   ],
   "source": [
    "cara.engine"
   ]
  },
  {
   "cell_type": "code",
   "execution_count": 6,
   "id": "5852924c-3f58-47f9-a126-339577233d2f",
   "metadata": {},
   "outputs": [
    {
     "name": "stdout",
     "output_type": "stream",
     "text": [
      "car starts\n"
     ]
    }
   ],
   "source": [
    "cara.start()"
   ]
  },
  {
   "cell_type": "code",
   "execution_count": 7,
   "id": "095c533b-d8d4-404e-b3f5-5d224e382333",
   "metadata": {},
   "outputs": [],
   "source": [
    "cart = Car()"
   ]
  },
  {
   "cell_type": "code",
   "execution_count": 8,
   "id": "30255979-c8b8-4f1b-b822-68175420701a",
   "metadata": {},
   "outputs": [
    {
     "data": {
      "text/plain": [
       "2018"
      ]
     },
     "execution_count": 8,
     "metadata": {},
     "output_type": "execute_result"
    }
   ],
   "source": [
    "cart.model"
   ]
  },
  {
   "cell_type": "code",
   "execution_count": 19,
   "id": "89320e42-086b-43d4-9e3b-73ee18529dee",
   "metadata": {},
   "outputs": [],
   "source": [
    "class Car():\n",
    "    def __init__(self,model,make,year,engine_type,color,cc):\n",
    "        self.model       = model\n",
    "        self.make        = make\n",
    "        self.year        = year\n",
    "        self.engine_type = engine_type\n",
    "        self.color       = color\n",
    "        self.cc          = cc\n",
    "\n",
    "    def start_car(self):\n",
    "        print(f\"{self.make} {self.model} is starting\")\n",
    "    def stop_car(self):\n",
    "        print(f\"{self.make} {self.model} is stoping\")"
   ]
  },
  {
   "cell_type": "code",
   "execution_count": 20,
   "id": "f0cf88a4-f56d-4ea7-8812-104a940a2750",
   "metadata": {},
   "outputs": [],
   "source": [
    "atcar = Car(\"Civic\", \"Honda\", 2020, \"Diesel\", \"Black\", \"1800\")"
   ]
  },
  {
   "cell_type": "code",
   "execution_count": 17,
   "id": "6b16249c-9c3b-47a8-82e8-d00f6f3f4edb",
   "metadata": {},
   "outputs": [],
   "source": [
    "class Car():\n",
    "    def __init__(self,model,make,year, engine_type, color,cc):\n",
    "        self.model = model\n",
    "        self.make = make\n",
    "        self.year = year\n",
    "        self.engine_type = engine_type\n",
    "        self.color =color\n",
    "        self.cc = cc  \n",
    "        \n",
    "    def start_car(self):\n",
    "        print(f\"{self.make} {self.model} is starting\")\n",
    "    def stop_car(self):\n",
    "        print(f\"{self.make} {self.model} is stopping\")"
   ]
  },
  {
   "cell_type": "code",
   "execution_count": 18,
   "id": "a28cfe02-7f84-4577-9fcc-9e037c6fd8ce",
   "metadata": {},
   "outputs": [],
   "source": [
    "atif_car = Car('Civic', 'Honda', 2024, 'Diesel', 'Black', '1800')"
   ]
  },
  {
   "cell_type": "code",
   "execution_count": 22,
   "id": "e0a88b6c-5d18-4167-b73f-eb5118cc5af3",
   "metadata": {},
   "outputs": [],
   "source": [
    "tahacar = Car('Charger', 'Dodge', 2024, 'Diesel', 'Red', '3500')"
   ]
  },
  {
   "cell_type": "code",
   "execution_count": 23,
   "id": "8695671d-196d-42dc-ba76-6c082b7750a5",
   "metadata": {},
   "outputs": [
    {
     "data": {
      "text/plain": [
       "'Black'"
      ]
     },
     "execution_count": 23,
     "metadata": {},
     "output_type": "execute_result"
    }
   ],
   "source": [
    "atcar.color"
   ]
  },
  {
   "cell_type": "code",
   "execution_count": 24,
   "id": "d38a84ba-856e-4474-a6e2-856f8d403048",
   "metadata": {},
   "outputs": [
    {
     "data": {
      "text/plain": [
       "'Red'"
      ]
     },
     "execution_count": 24,
     "metadata": {},
     "output_type": "execute_result"
    }
   ],
   "source": [
    "tahacar.color"
   ]
  },
  {
   "cell_type": "code",
   "execution_count": 26,
   "id": "97aa2305-851c-4817-a57c-9a22e38ba17d",
   "metadata": {},
   "outputs": [
    {
     "name": "stdout",
     "output_type": "stream",
     "text": [
      "Honda Civic is starting\n"
     ]
    }
   ],
   "source": [
    "atcar.start_car()"
   ]
  },
  {
   "cell_type": "code",
   "execution_count": 28,
   "id": "e4f2b282-799f-4180-9433-a5258d5e790d",
   "metadata": {},
   "outputs": [
    {
     "name": "stdout",
     "output_type": "stream",
     "text": [
      "Dodge Charger is starting\n"
     ]
    }
   ],
   "source": [
    "tahacar.start_car()"
   ]
  },
  {
   "cell_type": "code",
   "execution_count": 27,
   "id": "254702a9-4ba7-49df-9fc2-983bddea0e9c",
   "metadata": {},
   "outputs": [
    {
     "name": "stdout",
     "output_type": "stream",
     "text": [
      "Dodge Charger is stoping\n"
     ]
    }
   ],
   "source": [
    "tahacar.stop_car()"
   ]
  },
  {
   "cell_type": "code",
   "execution_count": 93,
   "id": "ff81d7d4-4f41-439d-8f06-f12d0606268f",
   "metadata": {},
   "outputs": [],
   "source": [
    "class Bank():\n",
    "    def __init__(self,branch_code,branch_name,manger_name,deposit):\n",
    "        self.branch_code       = branch_code\n",
    "        self.branch_name       = branch_name\n",
    "        self.manger_name       = manger_name\n",
    "        self.deposit           = deposit\n",
    "        self.accounts          = []\n",
    "        self.numbers_of_accounts = 0\n",
    "\n",
    "    def open_account(self,name,amt):\n",
    "        print(f\"\"\"\n",
    "        \n",
    "                ________________\n",
    "                Account opened\n",
    "\n",
    "                _______________\n",
    "                Title:  {name}\n",
    "                Balance:  {amt}\n",
    "        \n",
    "                 \"\"\")\n",
    "\n",
    "        self.accounts.append({\"name\":name, \"amt\":amt})\n",
    "        self.numbers_of_accounts+=1\n",
    "        self.deposit+=amt\n",
    "    def branch_desc(self):\n",
    "        print(f\"\"\"\n",
    "        \n",
    "        Branch Code: {self.branch_code}\n",
    "        Branch Name: {self.branch_name}\n",
    "        Manger Name:  {self.manger_name}\n",
    "        Branch Deposit: {self.deposit}\n",
    "\n",
    "        Number of Acc : {self.numbers_of_accounts}\n",
    "        \n",
    "         \"\"\")"
   ]
  },
  {
   "cell_type": "code",
   "execution_count": 94,
   "id": "04f016b2-f420-4469-8f58-b5c142249a69",
   "metadata": {},
   "outputs": [],
   "source": [
    "br1 = Bank(1002, \"Doraji branch\" , \"maaz\", 10000000)"
   ]
  },
  {
   "cell_type": "code",
   "execution_count": 95,
   "id": "d1b2f4d4-edf5-43d4-a39f-14a6df45e3c1",
   "metadata": {},
   "outputs": [],
   "source": [
    "br2 = Bank(1003, \"Chicogo branch\" , \"Mudasir\", 50000000)"
   ]
  },
  {
   "cell_type": "code",
   "execution_count": 96,
   "id": "1d8868cc-7075-4b67-9b5b-33e94c90d3f8",
   "metadata": {},
   "outputs": [],
   "source": [
    "br3 = Bank(1004, \"Bahadurabad branch\" , \"Khan\", 70000000)"
   ]
  },
  {
   "cell_type": "code",
   "execution_count": 97,
   "id": "c67e4078-ef9a-41dd-873a-de1df75400cf",
   "metadata": {},
   "outputs": [
    {
     "name": "stdout",
     "output_type": "stream",
     "text": [
      "\n",
      "        \n",
      "        Branch Code: 1002\n",
      "        Branch Name: Doraji branch\n",
      "        Manger Name:  maaz\n",
      "        Branch Deposit: 10000000\n",
      "\n",
      "        Number of Acc : 0\n",
      "        \n",
      "         \n"
     ]
    }
   ],
   "source": [
    "br1.branch_desc()"
   ]
  },
  {
   "cell_type": "code",
   "execution_count": 98,
   "id": "5fa09696-706f-45c3-901f-a4152e21b11e",
   "metadata": {},
   "outputs": [
    {
     "name": "stdout",
     "output_type": "stream",
     "text": [
      "\n",
      "        \n",
      "        Branch Code: 1003\n",
      "        Branch Name: Chicogo branch\n",
      "        Manger Name:  Mudasir\n",
      "        Branch Deposit: 50000000\n",
      "\n",
      "        Number of Acc : 0\n",
      "        \n",
      "         \n"
     ]
    }
   ],
   "source": [
    "br2.branch_desc()"
   ]
  },
  {
   "cell_type": "code",
   "execution_count": 103,
   "id": "a1e2b499-059f-4fb7-a4c8-e90a74e9cc4a",
   "metadata": {},
   "outputs": [
    {
     "name": "stdout",
     "output_type": "stream",
     "text": [
      "\n",
      "        \n",
      "                ________________\n",
      "                Account opened\n",
      "\n",
      "                _______________\n",
      "                Title:  Nasir Hussain\n",
      "                Balance:  5500000\n",
      "        \n",
      "                 \n"
     ]
    }
   ],
   "source": [
    "br1.open_account(\"Nasir Hussain\", 5500000)"
   ]
  },
  {
   "cell_type": "code",
   "execution_count": 104,
   "id": "8f065ff0-88b0-4468-b3d6-5ca1fdb668b2",
   "metadata": {},
   "outputs": [
    {
     "name": "stdout",
     "output_type": "stream",
     "text": [
      "\n",
      "        \n",
      "        Branch Code: 1002\n",
      "        Branch Name: Doraji branch\n",
      "        Manger Name:  maaz\n",
      "        Branch Deposit: 15909565\n",
      "\n",
      "        Number of Acc : 3\n",
      "        \n",
      "         \n"
     ]
    }
   ],
   "source": [
    "br1.branch_desc()"
   ]
  },
  {
   "cell_type": "code",
   "execution_count": 101,
   "id": "9f3baa34-47e2-40bc-a604-7fcd32de098c",
   "metadata": {},
   "outputs": [
    {
     "data": {
      "text/plain": [
       "[{'name': 'Nasir Hussain', 'amt': 55000}]"
      ]
     },
     "execution_count": 101,
     "metadata": {},
     "output_type": "execute_result"
    }
   ],
   "source": [
    "br1.accounts"
   ]
  },
  {
   "cell_type": "code",
   "execution_count": 105,
   "id": "587b34f7-5040-40cd-90b1-1c2d612460c7",
   "metadata": {},
   "outputs": [
    {
     "name": "stdout",
     "output_type": "stream",
     "text": [
      "\n",
      "        \n",
      "                ________________\n",
      "                Account opened\n",
      "\n",
      "                _______________\n",
      "                Title:  Babar Malik\n",
      "                Balance:  354565\n",
      "        \n",
      "                 \n",
      "\n",
      "        \n",
      "        Branch Code: 1002\n",
      "        Branch Name: Doraji branch\n",
      "        Manger Name:  maaz\n",
      "        Branch Deposit: 16264130\n",
      "\n",
      "        Number of Acc : 4\n",
      "        \n",
      "         \n"
     ]
    },
    {
     "data": {
      "text/plain": [
       "[{'name': 'Nasir Hussain', 'amt': 55000},\n",
       " {'name': 'Babar Malik', 'amt': 354565},\n",
       " {'name': 'Nasir Hussain', 'amt': 5500000},\n",
       " {'name': 'Babar Malik', 'amt': 354565}]"
      ]
     },
     "execution_count": 105,
     "metadata": {},
     "output_type": "execute_result"
    }
   ],
   "source": [
    "br1.open_account(\"Babar Malik\", 354565)\n",
    "br1.branch_desc()\n",
    "br1.accounts"
   ]
  },
  {
   "cell_type": "code",
   "execution_count": null,
   "id": "98dafd4a-87b2-43b0-914e-4e08c7607f82",
   "metadata": {},
   "outputs": [],
   "source": []
  },
  {
   "cell_type": "code",
   "execution_count": null,
   "id": "fcfff74c-ed32-4cd8-afbb-08433f221715",
   "metadata": {},
   "outputs": [],
   "source": []
  },
  {
   "cell_type": "code",
   "execution_count": 106,
   "id": "ab4a9af0-8161-46fb-a6df-c7ae24e3de09",
   "metadata": {},
   "outputs": [
    {
     "name": "stdout",
     "output_type": "stream",
     "text": [
      "\n",
      "        \n",
      "                ________________\n",
      "                Account opened\n",
      "\n",
      "                _______________\n",
      "                Title:  Shoaib\n",
      "                Balance:  6566000\n",
      "        \n",
      "                 \n"
     ]
    }
   ],
   "source": [
    "br2.open_account(\"Shoaib\", 6566000)"
   ]
  },
  {
   "cell_type": "code",
   "execution_count": 107,
   "id": "c2e4942c-1e1f-4b5e-af70-84205014bc54",
   "metadata": {},
   "outputs": [
    {
     "name": "stdout",
     "output_type": "stream",
     "text": [
      "\n",
      "        \n",
      "                ________________\n",
      "                Account opened\n",
      "\n",
      "                _______________\n",
      "                Title:  khan baba\n",
      "                Balance:  5455000\n",
      "        \n",
      "                 \n"
     ]
    }
   ],
   "source": [
    "br1.open_account(\"khan baba\" , 5455000)"
   ]
  },
  {
   "cell_type": "code",
   "execution_count": 136,
   "id": "1db72ca0-aac1-4dd5-b569-7cf1bdb768c0",
   "metadata": {},
   "outputs": [],
   "source": [
    "class Laptop():\n",
    "    def __init__(self,comp,model,gen,storage,ram,pro,price):\n",
    "        self.comp   = comp\n",
    "        self.model  = model\n",
    "        self.gen    = gen\n",
    "        self.storage= storage\n",
    "        self.ram = ram\n",
    "        self.pro      = pro\n",
    "        self.price    = price\n",
    "    def specs(self):\n",
    "        print(f\"\"\"\n",
    "             ______________________\n",
    "             ''----___Laptop___---''\n",
    "             ___---''''''''''---____\n",
    "              Company : {self.comp}\n",
    "              Model   : {self.model}\n",
    "              Genration:{self.gen}\n",
    "              Storage : {self.storage}\n",
    "              Ram     : {self.ram}\n",
    "              Processer: {self.pro}\n",
    "              Price    : {self.price} \"\"\")\n",
    "    def play_games(self):\n",
    "        print(\"I am playing games\")"
   ]
  },
  {
   "cell_type": "code",
   "execution_count": 137,
   "id": "e806f719-e480-4665-b4d4-f47f26758dca",
   "metadata": {},
   "outputs": [
    {
     "ename": "TypeError",
     "evalue": "Laptop.__init__() missing 7 required positional arguments: 'comp', 'model', 'gen', 'storage', 'ram', 'pro', and 'price'",
     "output_type": "error",
     "traceback": [
      "\u001b[1;31m---------------------------------------------------------------------------\u001b[0m",
      "\u001b[1;31mTypeError\u001b[0m                                 Traceback (most recent call last)",
      "Cell \u001b[1;32mIn[137], line 1\u001b[0m\n\u001b[1;32m----> 1\u001b[0m malik \u001b[38;5;241m=\u001b[39m Laptop()\n",
      "\u001b[1;31mTypeError\u001b[0m: Laptop.__init__() missing 7 required positional arguments: 'comp', 'model', 'gen', 'storage', 'ram', 'pro', and 'price'"
     ]
    }
   ],
   "source": [
    "malik = Laptop()"
   ]
  },
  {
   "cell_type": "code",
   "execution_count": 139,
   "id": "f76d3986-d5ec-4229-97a6-8a883c72a6da",
   "metadata": {},
   "outputs": [],
   "source": [
    "malik  =Laptop('Dell','n1245',\"7th\", \"1Tb\",\"16Gb\", 'intel corei7',60000)"
   ]
  },
  {
   "cell_type": "code",
   "execution_count": 140,
   "id": "a62ea440-9661-46af-8db2-944422d0bc22",
   "metadata": {},
   "outputs": [
    {
     "name": "stdout",
     "output_type": "stream",
     "text": [
      "\n",
      "             ______________________\n",
      "             ''----___Laptop___---''\n",
      "             ___---''''''''''---____\n",
      "              Company : Dell\n",
      "              Model   : n1245\n",
      "              Genration:7th\n",
      "              Storage : 1Tb\n",
      "              Ram     : 16Gb\n",
      "              Processer: intel corei7\n",
      "              Price    : 60000 \n"
     ]
    }
   ],
   "source": [
    "malik.specs()"
   ]
  },
  {
   "cell_type": "code",
   "execution_count": 141,
   "id": "66cb4525-2605-45a9-908c-04015612b1d0",
   "metadata": {},
   "outputs": [],
   "source": [
    "nasir  =Laptop('Lenovo','330s',\"7th\", \"1Tb\",\"16Gb\", 'intel corei7',160000)"
   ]
  },
  {
   "cell_type": "code",
   "execution_count": 142,
   "id": "57a52a29-959d-4d16-accc-a0ba1ff24d42",
   "metadata": {},
   "outputs": [
    {
     "name": "stdout",
     "output_type": "stream",
     "text": [
      "\n",
      "             ______________________\n",
      "             ''----___Laptop___---''\n",
      "             ___---''''''''''---____\n",
      "              Company : Lenovo\n",
      "              Model   : 330s\n",
      "              Genration:7th\n",
      "              Storage : 1Tb\n",
      "              Ram     : 16Gb\n",
      "              Processer: intel corei7\n",
      "              Price    : 160000 \n"
     ]
    }
   ],
   "source": [
    "nasir.specs()"
   ]
  },
  {
   "cell_type": "code",
   "execution_count": null,
   "id": "fc86228e-679f-476f-9f85-97d9399d2364",
   "metadata": {},
   "outputs": [],
   "source": [
    "### The Four Pillars of OOPS\n",
    "# Abstraction\n",
    "# Encapsulation\n",
    "# Inheritance\n",
    "#"
   ]
  },
  {
   "cell_type": "code",
   "execution_count": 157,
   "id": "dc32ccbc-2688-4115-bfd9-747dc3957cfc",
   "metadata": {},
   "outputs": [],
   "source": [
    "class Laptop():\n",
    "    def __init__(self,comp,model,gen,storage,ram,pro,price):\n",
    "        self.comp   = comp\n",
    "        self.model  = model\n",
    "        self.gen    = gen\n",
    "        self.storage= storage\n",
    "        self.ram = ram\n",
    "        self.pro      = pro\n",
    "        self.price    = price\n",
    "    def specs(self):\n",
    "        print(f\"\"\"\n",
    "             ______________________\n",
    "             ''----___Laptop___---''\n",
    "             ___---''''''''''---____\n",
    "              Company : {self.comp}\n",
    "              Model   : {self.model}\n",
    "              Genration:{self.gen}\n",
    "              Storage : {self.storage}\n",
    "              Ram     : {self.ram}\n",
    "              Processer: {self.pro}\n",
    "              Price    : {self.price} \"\"\")\n",
    "    def play_games(self):\n",
    "        print(\"I am playing games\")\n",
    "\n",
    "    def get_comp(self):\n",
    "        return self.comp\n",
    "    def set_comp(self,new_comp):\n",
    "        companies = [\"lenovo\", \"dell\", \"hp\"]\n",
    "        if new_comp in companies:\n",
    "            self.comp=new_comp\n",
    "        else:\n",
    "            print(\"Not a valid company\")"
   ]
  },
  {
   "cell_type": "code",
   "execution_count": 158,
   "id": "4c966e89-52b9-4d58-a765-80ef693f1f83",
   "metadata": {},
   "outputs": [],
   "source": [
    "lap1= Laptop (\"dell\", \"n1235\",\"7th\",\"1Tb\", \"16gb\", \"intel core i7\", 65000)"
   ]
  },
  {
   "cell_type": "code",
   "execution_count": 159,
   "id": "37e7cdc3-1cbc-4a1c-a004-68eff913f15f",
   "metadata": {},
   "outputs": [
    {
     "name": "stdout",
     "output_type": "stream",
     "text": [
      "\n",
      "             ______________________\n",
      "             ''----___Laptop___---''\n",
      "             ___---''''''''''---____\n",
      "              Company : dell\n",
      "              Model   : n1235\n",
      "              Genration:7th\n",
      "              Storage : 1Tb\n",
      "              Ram     : 16gb\n",
      "              Processer: intel core i7\n",
      "              Price    : 65000 \n"
     ]
    }
   ],
   "source": [
    "lap1.specs()"
   ]
  },
  {
   "cell_type": "code",
   "execution_count": 160,
   "id": "644c191b-1226-4f3e-8bf6-5e96668a32ef",
   "metadata": {},
   "outputs": [
    {
     "name": "stdout",
     "output_type": "stream",
     "text": [
      "Not a valid company\n"
     ]
    }
   ],
   "source": [
    "lap1.set_comp(\"lifeboy\")"
   ]
  },
  {
   "cell_type": "code",
   "execution_count": 161,
   "id": "14456500-74ca-48f4-8497-96d9b333e1b2",
   "metadata": {},
   "outputs": [],
   "source": [
    "lap1.set_comp(\"hp\")"
   ]
  },
  {
   "cell_type": "code",
   "execution_count": 162,
   "id": "645fc442-c508-43d9-9dbe-92f9b48ac01a",
   "metadata": {},
   "outputs": [
    {
     "data": {
      "text/plain": [
       "'hp'"
      ]
     },
     "execution_count": 162,
     "metadata": {},
     "output_type": "execute_result"
    }
   ],
   "source": [
    "lap1.get_comp()"
   ]
  },
  {
   "cell_type": "code",
   "execution_count": 1,
   "id": "a60665a1-0432-4ef4-9b17-2c7fa447249a",
   "metadata": {},
   "outputs": [],
   "source": [
    "class Abba():\n",
    "    def __init__(self, name,age,blood_gp, height,complexion):\n",
    "        self.name = name\n",
    "        self.age = age\n",
    "        self.blood_gp = blood_gp\n",
    "        self.height =height\n",
    "        self.complexion =complexion\n",
    "    def job(self):\n",
    "        print(\"KE\")\n",
    "    def drive(self):\n",
    "        print(\"KE ka truck\")"
   ]
  },
  {
   "cell_type": "code",
   "execution_count": 2,
   "id": "37e66452-3591-4bd1-9370-3f18598e26ed",
   "metadata": {},
   "outputs": [],
   "source": [
    "maaz = Abba('maazabba',50, 'B+',\"6ft\",'Fair')"
   ]
  },
  {
   "cell_type": "code",
   "execution_count": 4,
   "id": "1213b19d-94ad-49f6-83b3-fb07be998f7b",
   "metadata": {},
   "outputs": [
    {
     "name": "stdout",
     "output_type": "stream",
     "text": [
      "KE\n"
     ]
    }
   ],
   "source": [
    "maaz.job()"
   ]
  },
  {
   "cell_type": "code",
   "execution_count": 5,
   "id": "0507d299-00ab-4c21-a606-c6118a20005b",
   "metadata": {},
   "outputs": [
    {
     "name": "stdout",
     "output_type": "stream",
     "text": [
      "KE ka truck\n"
     ]
    }
   ],
   "source": [
    "maaz.drive()"
   ]
  },
  {
   "cell_type": "code",
   "execution_count": 6,
   "id": "ea07f0e1-b9aa-46ad-8ac2-868ef5cad4dc",
   "metadata": {},
   "outputs": [],
   "source": [
    "class Bacha(Abba):\n",
    "    pass"
   ]
  },
  {
   "cell_type": "code",
   "execution_count": 7,
   "id": "1a6dd848-b516-4921-a423-ad87dc08cf3b",
   "metadata": {},
   "outputs": [
    {
     "ename": "SyntaxError",
     "evalue": "invalid syntax (3438714088.py, line 1)",
     "output_type": "error",
     "traceback": [
      "\u001b[1;36m  Cell \u001b[1;32mIn[7], line 1\u001b[1;36m\u001b[0m\n\u001b[1;33m    taha = Bacha('taha',, 'B+',\"6ft\",'Fair')\u001b[0m\n\u001b[1;37m                        ^\u001b[0m\n\u001b[1;31mSyntaxError\u001b[0m\u001b[1;31m:\u001b[0m invalid syntax\n"
     ]
    }
   ],
   "source": [
    "taha = Bacha('taha',, 'B+',\"6ft\",'Fair')"
   ]
  },
  {
   "cell_type": "code",
   "execution_count": 13,
   "id": "0d9db6fc-b6d8-447f-a089-b98c267fa371",
   "metadata": {},
   "outputs": [
    {
     "name": "stdout",
     "output_type": "stream",
     "text": [
      "2025 Audi A4\n"
     ]
    }
   ],
   "source": [
    "class Car():\n",
    "    def __init__(self,make,model,year=\"2024\"):\n",
    "        self.make  = make\n",
    "        self.model = model\n",
    "        self.year  = year\n",
    "\n",
    "    def get_descriptive_name(self):\n",
    "       return f\"{self.year} {self.make} {self.model}\".title()\n",
    "\n",
    "my_new_car = Car(\"audi\", \"a4\", 2025)\n",
    "print(my_new_car.get_descriptive_name())"
   ]
  },
  {
   "cell_type": "markdown",
   "id": "1d21912b-b2cb-4a8b-a3de-bd6538be5db8",
   "metadata": {},
   "source": [
    "# Setting a Default Value for an Attribute"
   ]
  },
  {
   "cell_type": "code",
   "execution_count": 15,
   "id": "7d9006f0-2edb-4310-a20e-c67c0a6e3631",
   "metadata": {},
   "outputs": [
    {
     "data": {
      "text/plain": [
       "100"
      ]
     },
     "execution_count": 15,
     "metadata": {},
     "output_type": "execute_result"
    }
   ],
   "source": [
    "def add(a,b=0):\n",
    "    return a+b\n",
    "add(100)"
   ]
  },
  {
   "cell_type": "code",
   "execution_count": 1,
   "id": "ce33c8dd-01c5-46c9-a36c-41c007369dd0",
   "metadata": {},
   "outputs": [],
   "source": [
    "class Car():\n",
    "    def __init__(self,make,model,year=\"2024\"):\n",
    "        self.make  = make\n",
    "        self.model = model\n",
    "        self.year  = year\n",
    "        self.odometer_reading = 0\n",
    "\n",
    "    def get_descriptive_name(self):\n",
    "       return f\"{self.year} {self.make} {self.model}\".title()\n",
    "\n",
    "    def read_odometer(self):\n",
    "        print(f\"This car has{self.odometer_reading} miles on it.\")"
   ]
  },
  {
   "cell_type": "code",
   "execution_count": 2,
   "id": "d655727d-4572-43a2-a6b2-4bc8720f524e",
   "metadata": {},
   "outputs": [
    {
     "name": "stdout",
     "output_type": "stream",
     "text": [
      "2026 Audi A4\n"
     ]
    }
   ],
   "source": [
    "my_new_car = Car(\"audi\", \"a4\", 2026)\n",
    "print(my_new_car.get_descriptive_name())"
   ]
  },
  {
   "cell_type": "code",
   "execution_count": 3,
   "id": "68a3a043-667a-46d4-8990-c6a0a27a2b6b",
   "metadata": {},
   "outputs": [
    {
     "name": "stdout",
     "output_type": "stream",
     "text": [
      "This car has0 miles on it.\n"
     ]
    }
   ],
   "source": [
    "my_new_car.read_odometer()"
   ]
  },
  {
   "cell_type": "markdown",
   "id": "c3679d9d-af3f-405a-9d8e-ae78591f759b",
   "metadata": {},
   "source": [
    "# Modify Attribute Values\n",
    "Modify an Attribute Value Directly"
   ]
  },
  {
   "cell_type": "code",
   "execution_count": 4,
   "id": "148bedd7-afeb-40b5-9c05-82357f7fe055",
   "metadata": {},
   "outputs": [
    {
     "name": "stdout",
     "output_type": "stream",
     "text": [
      "This car has23 miles on it.\n"
     ]
    }
   ],
   "source": [
    "my_new_car.odometer_reading = 23\n",
    "my_new_car.read_odometer()"
   ]
  },
  {
   "cell_type": "markdown",
   "id": "842228ec-1ebb-4833-8c38-7caeaffe0cc7",
   "metadata": {},
   "source": [
    "# Modify an Attribute's Value Through a Method"
   ]
  },
  {
   "cell_type": "code",
   "execution_count": 21,
   "id": "cfde40c3-60f8-418b-bbbc-301e14b78183",
   "metadata": {},
   "outputs": [],
   "source": [
    "class Car():\n",
    "    def __init__(self,make,model,year=\"2024\"):\n",
    "        self.make  = make\n",
    "        self.model = model\n",
    "        self.year  = year\n",
    "        self.odometer_reading = 0\n",
    "\n",
    "    def get_descriptive_name(self):\n",
    "       return f\"{self.year} {self.make} {self.model}\".title()\n",
    "\n",
    "    def set_odometer(self, new_reading):\n",
    "        if new_reading < self.odometer_reading:\n",
    "            print(\"Cheater insaan ban jaa.\")\n",
    "        else:\n",
    "            self.odometer_reading = new_reading\n",
    "\n",
    "    def get_odometer(self):\n",
    "        print(f\"This car has {self.odometer_reading} miles on it.\")"
   ]
  },
  {
   "cell_type": "code",
   "execution_count": 12,
   "id": "6f6ed63a-162c-4e37-9d48-8c87c359aced",
   "metadata": {},
   "outputs": [
    {
     "name": "stdout",
     "output_type": "stream",
     "text": [
      "2026 Audi A4\n"
     ]
    }
   ],
   "source": [
    "my_new_car = Car(\"audi\", \"a4\", 2026)\n",
    "print(my_new_car.get_descriptive_name())"
   ]
  },
  {
   "cell_type": "code",
   "execution_count": 13,
   "id": "0f7cb59f-7b1b-46e2-b2e5-5a605f897643",
   "metadata": {},
   "outputs": [
    {
     "name": "stdout",
     "output_type": "stream",
     "text": [
      "This car has 0 miles on it.\n"
     ]
    }
   ],
   "source": [
    "my_new_car.get_odometer()"
   ]
  },
  {
   "cell_type": "code",
   "execution_count": 14,
   "id": "e1f0f99f-4cee-4ce9-bc77-5c5cfb8ac5ea",
   "metadata": {},
   "outputs": [],
   "source": [
    "my_new_car.set_odometer(10)"
   ]
  },
  {
   "cell_type": "code",
   "execution_count": 15,
   "id": "a5f53d62-6c7e-478b-b75e-2cfd30151ac2",
   "metadata": {},
   "outputs": [
    {
     "name": "stdout",
     "output_type": "stream",
     "text": [
      "This car has 10 miles on it.\n"
     ]
    }
   ],
   "source": [
    "my_new_car.get_odometer()"
   ]
  },
  {
   "cell_type": "code",
   "execution_count": 16,
   "id": "8efec870-4cd5-4e52-b037-70ddd88eaebb",
   "metadata": {},
   "outputs": [
    {
     "name": "stdout",
     "output_type": "stream",
     "text": [
      "Cheater insaan ban jaa.\n"
     ]
    }
   ],
   "source": [
    "my_new_car.set_odometer(5)"
   ]
  },
  {
   "cell_type": "code",
   "execution_count": 24,
   "id": "a0689410-9ca5-43bf-8d84-51417cdac47d",
   "metadata": {},
   "outputs": [],
   "source": [
    "class ElectricCar(Car):\n",
    "    def __init__(self,make,model,year):\n",
    "        super().__init__(make,model,year)"
   ]
  },
  {
   "cell_type": "code",
   "execution_count": 25,
   "id": "df1d5b12-f26c-48b5-8751-aa77e07167b0",
   "metadata": {},
   "outputs": [
    {
     "name": "stdout",
     "output_type": "stream",
     "text": [
      "2024 Tesla Model S\n"
     ]
    }
   ],
   "source": [
    "my_tesla = ElectricCar(\"tesla\", \"model s\" , 2024)\n",
    "print(my_tesla.get_descriptive_name())"
   ]
  },
  {
   "cell_type": "code",
   "execution_count": 26,
   "id": "5fda8d0d-a191-4829-ba3f-bc2d66e44a99",
   "metadata": {},
   "outputs": [],
   "source": [
    "class ElectricCar(Car):\n",
    "    def __init__(self,make, model , year):\n",
    "        super().__init__(make, model , year)\n",
    "        self.battery_size = 70\n",
    "    def describe_baterry(self):\n",
    "        print(f\"This car has a {self.battery_size} -khw battery.\")"
   ]
  },
  {
   "cell_type": "code",
   "execution_count": 28,
   "id": "a9575127-d1b2-4874-a461-9cc23f27671c",
   "metadata": {},
   "outputs": [
    {
     "name": "stdout",
     "output_type": "stream",
     "text": [
      "2026 Tesla Model\n",
      "This car has a 70 -khw battery.\n"
     ]
    }
   ],
   "source": [
    "my_tesla = ElectricCar (\"tesla\" , 'model', 2026)\n",
    "print(my_tesla.get_descriptive_name())\n",
    "my_tesla.describe_baterry()"
   ]
  },
  {
   "cell_type": "markdown",
   "id": "1d741c9e-954d-4f51-8420-5cabb35e4fa0",
   "metadata": {},
   "source": [
    "# Overriding Methods from the parent class"
   ]
  },
  {
   "cell_type": "code",
   "execution_count": 29,
   "id": "3d8aaa1b-5d43-4a83-834b-46a15397aa34",
   "metadata": {},
   "outputs": [],
   "source": [
    "class Car():\n",
    "    def __init__(self,make,model,year=\"2024\"):\n",
    "        self.make  = make\n",
    "        self.model = model\n",
    "        self.year  = year\n",
    "        self.odometer_reading = 0\n",
    "\n",
    "    def get_descriptive_name(self):\n",
    "       return f\"{self.year} {self.make} {self.model}\".title()\n",
    "\n",
    "    def set_odometer(self, new_reading):\n",
    "        if new_reading < self.odometer_reading:\n",
    "            print(\"Cheater insaan ban jaa.\")\n",
    "        else:\n",
    "            self.odometer_reading = new_reading\n",
    "\n",
    "    def get_odometer(self):\n",
    "        print(f\"This car has {self.odometer_reading} miles on it.\")\n",
    "    def fill_gas_tank(self):\n",
    "        print(\"Ok car tank has being filled with gasoline\")"
   ]
  },
  {
   "cell_type": "code",
   "execution_count": 30,
   "id": "2a838bb2-f116-4697-a18a-0ff097603283",
   "metadata": {},
   "outputs": [],
   "source": [
    "class ElectricCar(Car):\n",
    "    def __init__(self,make, model , year):\n",
    "        super().__init__(make, model , year)\n",
    "        self.battery_size = 70\n",
    "    def describe_baterry(self):\n",
    "        print(f\"This car has a {self.battery_size} -khw battery.\")\n",
    "    def fill_gas_tank(self):\n",
    "        print(\"There is no gas tank needed in thr Electric Car\")"
   ]
  },
  {
   "cell_type": "code",
   "execution_count": 31,
   "id": "66b8c9cf-937a-4d41-8487-24349365fc08",
   "metadata": {},
   "outputs": [],
   "source": [
    "my_tesla = ElectricCar('tesla', 'model s' , 2016)"
   ]
  },
  {
   "cell_type": "code",
   "execution_count": 32,
   "id": "f4562c1b-4cb6-4c1b-81da-8522eb77839e",
   "metadata": {},
   "outputs": [
    {
     "name": "stdout",
     "output_type": "stream",
     "text": [
      "There is no gas tank needed in thr Electric Car\n"
     ]
    }
   ],
   "source": [
    "my_tesla.fill_gas_tank()"
   ]
  },
  {
   "cell_type": "code",
   "execution_count": 33,
   "id": "b7d56330-86d3-4951-9b2e-cbdf83844c37",
   "metadata": {},
   "outputs": [],
   "source": [
    "def add(a,b=0):\n",
    "    return a+b\n",
    "    add(100)"
   ]
  },
  {
   "cell_type": "code",
   "execution_count": 34,
   "id": "4a00afe2-901e-44e1-9b55-75b1298b26d1",
   "metadata": {},
   "outputs": [],
   "source": [
    "def add(a,b,c):\n",
    "    return a+b+c"
   ]
  },
  {
   "cell_type": "code",
   "execution_count": 37,
   "id": "820a1fb6-45cb-4539-83bb-aa8786e9baf4",
   "metadata": {},
   "outputs": [
    {
     "data": {
      "text/plain": [
       "7"
      ]
     },
     "execution_count": 37,
     "metadata": {},
     "output_type": "execute_result"
    }
   ],
   "source": [
    "add(1,2,4)"
   ]
  },
  {
   "cell_type": "code",
   "execution_count": 38,
   "id": "d5e163c8-606f-489d-b973-78c631798d79",
   "metadata": {},
   "outputs": [
    {
     "data": {
      "text/plain": [
       "5"
      ]
     },
     "execution_count": 38,
     "metadata": {},
     "output_type": "execute_result"
    }
   ],
   "source": [
    "1+4"
   ]
  },
  {
   "cell_type": "code",
   "execution_count": 39,
   "id": "245fd622-a37a-41ff-946b-8fec52e88b10",
   "metadata": {},
   "outputs": [
    {
     "data": {
      "text/plain": [
       "'12'"
      ]
     },
     "execution_count": 39,
     "metadata": {},
     "output_type": "execute_result"
    }
   ],
   "source": [
    "'1'+'2'"
   ]
  },
  {
   "cell_type": "code",
   "execution_count": 40,
   "id": "4396dde8-985a-4f95-9ffe-8c0c348b6d79",
   "metadata": {},
   "outputs": [
    {
     "data": {
      "text/plain": [
       "5"
      ]
     },
     "execution_count": 40,
     "metadata": {},
     "output_type": "execute_result"
    }
   ],
   "source": [
    "len(\"hello\")"
   ]
  },
  {
   "cell_type": "markdown",
   "id": "1f9f231a-5cb4-4c45-90f7-05beb2411059",
   "metadata": {},
   "source": [
    "# Object as attribute"
   ]
  },
  {
   "cell_type": "code",
   "execution_count": 9,
   "id": "c2893acb-3bde-448b-9b15-2b39e0f19f76",
   "metadata": {},
   "outputs": [],
   "source": [
    "class Car():\n",
    "    def __init__(self,make,model,year=\"2024\"):\n",
    "        self.make  = make\n",
    "        self.model = model\n",
    "        self.year  = year\n",
    "        self.odometer_reading = 0\n",
    "\n",
    "    def get_descriptive_name(self):\n",
    "       return f\"{self.year} {self.make} {self.model}\".title()\n",
    "\n",
    "    def set_odometer(self, new_reading):\n",
    "        if new_reading < self.odometer_reading:\n",
    "            print(\"Cheater insaan ban jaa.\")\n",
    "        else:\n",
    "            self.odometer_reading = new_reading\n",
    "\n",
    "    def get_odometer(self):\n",
    "        print(f\"This car has {self.odometer_reading} miles on it.\")\n",
    "    def fill_gas_tank(self):\n",
    "        print(\"Ok car tank has being filled with gasoline\")"
   ]
  },
  {
   "cell_type": "code",
   "execution_count": 19,
   "id": "7a8b0ab4-8c7a-4a6d-ba34-fe6a70725875",
   "metadata": {},
   "outputs": [],
   "source": [
    "class Battery():\n",
    "    def __init__(self,make ,price,watts,plates, size):\n",
    "        self.make = make\n",
    "        self.price = price\n",
    "        self.watts = watts\n",
    "        self.plates = plates\n",
    "        self.size = size\n",
    "    def desc_battery(self):\n",
    "        print(f\"{self.make} {self.price} {self.watts} {self.plates} {self.size}\")"
   ]
  },
  {
   "cell_type": "code",
   "execution_count": 20,
   "id": "55f69a41-43e0-468b-97a0-6747f73af4d9",
   "metadata": {},
   "outputs": [],
   "source": [
    "class ElectricCar(Car):\n",
    "    def __init__(self,make, model , year):\n",
    "        super().__init__(make, model , year)\n",
    "        self.battery = Battery(\"Exide\", 50000,2000,27,70)\n",
    "   \n",
    "    def fill_gas_tank(self):\n",
    "        print(\"There is no gas tank needed in thr Electric Car\")"
   ]
  },
  {
   "cell_type": "code",
   "execution_count": 21,
   "id": "d7bbbb8f-3279-4da3-9ba8-b2ce5f71733e",
   "metadata": {},
   "outputs": [],
   "source": [
    "e1 = ElectricCar(\"Tesla\", \"NewModelTesla\",2024)"
   ]
  },
  {
   "cell_type": "code",
   "execution_count": 22,
   "id": "909445a7-5376-4402-856c-963966023a88",
   "metadata": {},
   "outputs": [
    {
     "data": {
      "text/plain": [
       "<__main__.Battery at 0x2138b1c5710>"
      ]
     },
     "execution_count": 22,
     "metadata": {},
     "output_type": "execute_result"
    }
   ],
   "source": [
    "e1.battery"
   ]
  },
  {
   "cell_type": "code",
   "execution_count": 23,
   "id": "b21885f8-8d22-408f-aac5-396c5565b478",
   "metadata": {},
   "outputs": [
    {
     "data": {
      "text/plain": [
       "27"
      ]
     },
     "execution_count": 23,
     "metadata": {},
     "output_type": "execute_result"
    }
   ],
   "source": [
    "e1.battery.plates"
   ]
  },
  {
   "cell_type": "code",
   "execution_count": 24,
   "id": "28c3dcc1-3525-4196-bcbd-844f0e7823e0",
   "metadata": {},
   "outputs": [
    {
     "name": "stdout",
     "output_type": "stream",
     "text": [
      "Exide 50000 2000 27 70\n"
     ]
    }
   ],
   "source": [
    "e1.battery.desc_battery()"
   ]
  },
  {
   "cell_type": "code",
   "execution_count": 27,
   "id": "512a31ab-bc0f-403f-9872-3f6b77a35366",
   "metadata": {},
   "outputs": [],
   "source": [
    "class ElectricCar(Car):\n",
    "    def __init__(self,make, model , year, battery_make,battery_price,battery_watts, battery_plates, battery_size):\n",
    "        super().__init__(make, model , year)\n",
    "        self.battery = Battery(battery_make,battery_price,battery_watts,battery_plates,battery_size)\n",
    "   \n",
    "    def fill_gas_tank(self):\n",
    "        print(\"There is no gas tank needed in thr Electric Car\")"
   ]
  },
  {
   "cell_type": "code",
   "execution_count": 28,
   "id": "d8d6510b-2199-4743-a095-15a7d0463300",
   "metadata": {},
   "outputs": [],
   "source": [
    "e2 = ElectricCar (\"Tesla\", \"NewModelTesla\",2024,\"Exide\", 50000,200,27,70)"
   ]
  },
  {
   "cell_type": "code",
   "execution_count": 29,
   "id": "929e6fb6-9fc5-45b3-9f3e-ce5138e1b00f",
   "metadata": {},
   "outputs": [
    {
     "name": "stdout",
     "output_type": "stream",
     "text": [
      "Exide 50000 200 27 70\n"
     ]
    }
   ],
   "source": [
    "e2.battery.desc_battery()"
   ]
  },
  {
   "cell_type": "code",
   "execution_count": null,
   "id": "00d9a0a4-dd98-42e9-b3cd-280265b06673",
   "metadata": {},
   "outputs": [],
   "source": []
  }
 ],
 "metadata": {
  "kernelspec": {
   "display_name": "Python 3 (ipykernel)",
   "language": "python",
   "name": "python3"
  },
  "language_info": {
   "codemirror_mode": {
    "name": "ipython",
    "version": 3
   },
   "file_extension": ".py",
   "mimetype": "text/x-python",
   "name": "python",
   "nbconvert_exporter": "python",
   "pygments_lexer": "ipython3",
   "version": "3.11.7"
  }
 },
 "nbformat": 4,
 "nbformat_minor": 5
}
