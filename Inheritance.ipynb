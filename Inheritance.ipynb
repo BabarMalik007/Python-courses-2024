{
 "cells": [
  {
   "cell_type": "markdown",
   "id": "ab7e0f22-bb7d-404c-a605-13485d1c70a0",
   "metadata": {},
   "source": [
    "# Inheritance"
   ]
  },
  {
   "cell_type": "markdown",
   "id": "8cd0ea46-c6e7-4829-a628-5fcde9f7f2c5",
   "metadata": {},
   "source": [
    "-   Types of Inheritance\n",
    "        - single \n",
    "        - Multilevel\n",
    "        - Multiple"
   ]
  },
  {
   "cell_type": "code",
   "execution_count": 4,
   "id": "6fabbaf0-af7e-4fa4-a78a-0fb2c5121e9c",
   "metadata": {},
   "outputs": [],
   "source": [
    "class Car():\n",
    "    def __init__(self, brand , model , transmission , engine):\n",
    "        self.car_brand = brand\n",
    "        self.car_model = model\n",
    "        self.car_transmission = transmission\n",
    "        self.car_engine = engine\n",
    "    def start(self):\n",
    "        print(f\" {self.car_brand} ,{self.car_model} ,{self.car_transmission} ,{self.car_engine} is running\")\n",
    "    def stop(self):\n",
    "        print(f\" {self.car_brand} ,{self.car_model} ,{self.car_transmission} ,{self.car_engine} is stoping\")\n",
    "    def fueltank(self):\n",
    "        print(f\" {self.car_brand} ,{self.car_model} ,{self.car_transmission} ,{self.car_engine} filling fueltank\")"
   ]
  },
  {
   "cell_type": "code",
   "execution_count": 5,
   "id": "2ce1d58d-4d4f-4227-bf63-3ed560e9d060",
   "metadata": {},
   "outputs": [],
   "source": [
    "car1 = Car(\"Honda\", \"City\" , \"CVT\" , \"1600CC\")"
   ]
  },
  {
   "cell_type": "code",
   "execution_count": 6,
   "id": "6e86df62-378d-4320-9067-f14da6074075",
   "metadata": {},
   "outputs": [
    {
     "name": "stdout",
     "output_type": "stream",
     "text": [
      " Honda ,City ,CVT ,1600CC is running\n"
     ]
    }
   ],
   "source": [
    "car1.start()"
   ]
  },
  {
   "cell_type": "code",
   "execution_count": 7,
   "id": "f614d9ca-7883-45a3-b3ff-d9ad56256c53",
   "metadata": {},
   "outputs": [
    {
     "name": "stdout",
     "output_type": "stream",
     "text": [
      " Honda ,City ,CVT ,1600CC is stoping\n"
     ]
    }
   ],
   "source": [
    "car1.stop()"
   ]
  },
  {
   "cell_type": "code",
   "execution_count": 8,
   "id": "8b28b443-de6b-4257-b5a1-13b5bf664d57",
   "metadata": {},
   "outputs": [
    {
     "name": "stdout",
     "output_type": "stream",
     "text": [
      " Honda ,City ,CVT ,1600CC filling fueltank\n"
     ]
    }
   ],
   "source": [
    "car1.fueltank()"
   ]
  },
  {
   "cell_type": "code",
   "execution_count": 21,
   "id": "33f60783-f60a-449a-a932-d249c0bbc1fc",
   "metadata": {},
   "outputs": [],
   "source": [
    "class sportsCar():\n",
    "    def __init__ (self ,brand , model , transmission , engine , topspeed , seats):\n",
    "        self.car_brand = brand\n",
    "        self.car_model = model\n",
    "        self.car_transmission = transmission\n",
    "        self.car_engine = engine\n",
    "        self.car_topspeed = topspeed\n",
    "        self.car_seats = seats\n",
    "\n",
    "    def start(self):\n",
    "        print(f\" {self.car_brand} ,{self.car_model} ,{self.car_transmission} ,{self.car_engine} is running\")\n",
    "    def stop(self):\n",
    "        print(f\" {self.car_brand} ,{self.car_model} ,{self.car_transmission} ,{self.car_engine} is stoping\")\n",
    "    def fueltank(self):\n",
    "        print(f\" {self.car_brand} ,{self.car_model} ,{self.car_transmission} ,{self.car_engine} filling fueltank\")\n",
    "    def currentspeed(self): \n",
    "        print(\"Car is running at high speed\")"
   ]
  },
  {
   "cell_type": "code",
   "execution_count": 22,
   "id": "18c1c3df-026c-4f2b-a21b-5b92f62d853d",
   "metadata": {},
   "outputs": [],
   "source": [
    "sc1 = sportsCar(\"Honda\" , 2020 , \"auto\" , \"300CC\" , \"500kmh\" , 1)"
   ]
  },
  {
   "cell_type": "code",
   "execution_count": 19,
   "id": "217fcaa5-8830-4be6-83dc-109e038247a0",
   "metadata": {},
   "outputs": [
    {
     "data": {
      "text/plain": [
       "<__main__.sportsCar at 0x27389bbb750>"
      ]
     },
     "execution_count": 19,
     "metadata": {},
     "output_type": "execute_result"
    }
   ],
   "source": [
    "sc1"
   ]
  },
  {
   "cell_type": "code",
   "execution_count": 23,
   "id": "d55ee299-8f73-4238-819e-a8b5ecce3e30",
   "metadata": {},
   "outputs": [
    {
     "data": {
      "text/plain": [
       "<__main__.sportsCar at 0x27389baf650>"
      ]
     },
     "execution_count": 23,
     "metadata": {},
     "output_type": "execute_result"
    }
   ],
   "source": [
    "sc1"
   ]
  },
  {
   "cell_type": "code",
   "execution_count": 24,
   "id": "a79d4016-71c6-4a28-9656-5f3bc3b5ebc7",
   "metadata": {},
   "outputs": [
    {
     "name": "stdout",
     "output_type": "stream",
     "text": [
      " Honda ,2020 ,auto ,300CC is running\n"
     ]
    }
   ],
   "source": [
    "sc1.start()"
   ]
  },
  {
   "cell_type": "code",
   "execution_count": 25,
   "id": "3f9aa2fb-a6bb-444e-a982-ae50d84bc4c1",
   "metadata": {},
   "outputs": [
    {
     "name": "stdout",
     "output_type": "stream",
     "text": [
      " Honda ,2020 ,auto ,300CC is stoping\n"
     ]
    }
   ],
   "source": [
    "sc1.stop()"
   ]
  },
  {
   "cell_type": "code",
   "execution_count": 26,
   "id": "08865f35-f2c8-4d93-80ff-b65f54f53b01",
   "metadata": {},
   "outputs": [
    {
     "name": "stdout",
     "output_type": "stream",
     "text": [
      "Car is running at high speed\n"
     ]
    }
   ],
   "source": [
    "sc1.currentspeed()"
   ]
  },
  {
   "cell_type": "code",
   "execution_count": 39,
   "id": "45dfa8ed-c2f7-4858-af9f-6685d7b67451",
   "metadata": {},
   "outputs": [],
   "source": [
    "class sportsCar(Car):\n",
    "    def __init__ (self ,brand , model , transmission , engine , topspeed , seats):\n",
    "        \n",
    "        super().__init__(brand, model , transmission, engine)\n",
    "        \n",
    "        self.car_topspeed = topspeed\n",
    "        self.car_seats = seats\n",
    "\n",
    "    def currentspeed(self): \n",
    "        print(f\"Car is running at high speed {self.car_topspeed}  with  {self.car_seats}\")"
   ]
  },
  {
   "cell_type": "code",
   "execution_count": 40,
   "id": "4349f735-9013-4f62-a2f8-57746f5f4878",
   "metadata": {},
   "outputs": [],
   "source": [
    "sc2 = sportsCar(\"sporty\" , 2022 , \"auto\" , \"300CC\" , \"300CC\", 2)"
   ]
  },
  {
   "cell_type": "code",
   "execution_count": 29,
   "id": "29207de5-813a-4088-ac57-cf9825f5efd3",
   "metadata": {},
   "outputs": [
    {
     "name": "stdout",
     "output_type": "stream",
     "text": [
      " sporty ,2022 ,auto ,300CC is stoping\n"
     ]
    }
   ],
   "source": [
    "sc2.stop()"
   ]
  },
  {
   "cell_type": "code",
   "execution_count": 30,
   "id": "13d9cc4a-a3a9-4f2f-8c54-dacd8373c179",
   "metadata": {},
   "outputs": [
    {
     "name": "stdout",
     "output_type": "stream",
     "text": [
      " sporty ,2022 ,auto ,300CC filling fueltank\n"
     ]
    }
   ],
   "source": [
    "sc2.fueltank()"
   ]
  },
  {
   "cell_type": "code",
   "execution_count": 36,
   "id": "ecf49dde-9593-4c81-9abd-5fadc578454d",
   "metadata": {},
   "outputs": [
    {
     "name": "stdout",
     "output_type": "stream",
     "text": [
      "Car is running at high speed 500kmh  with  2\n"
     ]
    }
   ],
   "source": [
    "sc2.currentspeed()"
   ]
  },
  {
   "cell_type": "markdown",
   "id": "e5bd7feb-e3a7-43f9-ac3a-9af32f07b865",
   "metadata": {},
   "source": [
    "# polymorphism"
   ]
  },
  {
   "cell_type": "code",
   "execution_count": 41,
   "id": "60e07c27-a8ad-4831-96c1-cf6485cb3c5b",
   "metadata": {},
   "outputs": [],
   "source": [
    "def abc():\n",
    "    print(\"ABC\")\n",
    "def abc(value):\n",
    "    print(\"value\")\n",
    "# two method with same name but different parameter in a class called as method overloading\n",
    "# but but but python doesn't support method overloading"
   ]
  },
  {
   "cell_type": "code",
   "execution_count": 52,
   "id": "f641edb1-cff5-4b6b-b811-d25a27b400ae",
   "metadata": {},
   "outputs": [
    {
     "data": {
      "text/plain": [
       "'23'"
      ]
     },
     "execution_count": 52,
     "metadata": {},
     "output_type": "execute_result"
    }
   ],
   "source": [
    "2+3\n",
    "\"2\"+\"3\""
   ]
  },
  {
   "cell_type": "code",
   "execution_count": 42,
   "id": "99fa397d-abbe-460b-ab1c-7a81ff1bee88",
   "metadata": {},
   "outputs": [
    {
     "name": "stdout",
     "output_type": "stream",
     "text": [
      "ABC\n"
     ]
    }
   ],
   "source": [
    "abc()"
   ]
  },
  {
   "cell_type": "code",
   "execution_count": 47,
   "id": "d144ae3f-2fb4-4b67-a9c2-00d92b9ead21",
   "metadata": {},
   "outputs": [],
   "source": [
    "def abc(value):\n",
    "    print(\"value\")"
   ]
  },
  {
   "cell_type": "code",
   "execution_count": 51,
   "id": "8a59f171-6015-4772-aecb-f9cfddf879b3",
   "metadata": {},
   "outputs": [
    {
     "name": "stdout",
     "output_type": "stream",
     "text": [
      "value\n"
     ]
    }
   ],
   "source": [
    "abc(\"value\")"
   ]
  },
  {
   "cell_type": "code",
   "execution_count": 63,
   "id": "2172e59e-af0a-4127-850e-f9b7444c0e45",
   "metadata": {},
   "outputs": [],
   "source": [
    "class ElectricCar(Car):\n",
    "    def __init__ (self,brand, model , transmission, engine, battery):\n",
    "        self.battery = battery\n",
    "        super(). __init__(brand, model , transmission, engine)\n",
    "    def chargeBattery(self):\n",
    "        print(\"Battery is being charged\")\n",
    "    def fueltank(self):\n",
    "        print(\"Electric Car has no fuel tank\")"
   ]
  },
  {
   "cell_type": "code",
   "execution_count": 64,
   "id": "69c1c6f4-cbbd-453b-b3e8-68a27253beb5",
   "metadata": {},
   "outputs": [],
   "source": [
    "ec1 = ElectricCar(\"Tesla\", \"22\" , 'auto' , \"600CC\" , \"Exide\")"
   ]
  },
  {
   "cell_type": "code",
   "execution_count": 56,
   "id": "d72ccb6e-092a-46c0-947e-0d955af88df4",
   "metadata": {},
   "outputs": [
    {
     "data": {
      "text/plain": [
       "'Exide'"
      ]
     },
     "execution_count": 56,
     "metadata": {},
     "output_type": "execute_result"
    }
   ],
   "source": [
    "ec1.battery"
   ]
  },
  {
   "cell_type": "code",
   "execution_count": 58,
   "id": "bd08498d-b9e0-4659-88ba-e4667e2bf6ba",
   "metadata": {},
   "outputs": [
    {
     "name": "stdout",
     "output_type": "stream",
     "text": [
      " Tesla ,22 ,auto ,600CC is running\n"
     ]
    }
   ],
   "source": [
    "ec1.start()"
   ]
  },
  {
   "cell_type": "code",
   "execution_count": 59,
   "id": "a4d1f9f8-d138-4a6f-9e29-5cbe436561c2",
   "metadata": {},
   "outputs": [
    {
     "name": "stdout",
     "output_type": "stream",
     "text": [
      " Tesla ,22 ,auto ,600CC is stoping\n"
     ]
    }
   ],
   "source": [
    "ec1.stop()"
   ]
  },
  {
   "cell_type": "code",
   "execution_count": 61,
   "id": "2326db81-4e32-41c3-ae7a-c4b8b8c23469",
   "metadata": {},
   "outputs": [
    {
     "name": "stdout",
     "output_type": "stream",
     "text": [
      "Battery is being charged\n"
     ]
    }
   ],
   "source": [
    "ec1.chargeBattery()"
   ]
  },
  {
   "cell_type": "code",
   "execution_count": 62,
   "id": "13c62f08-d261-4d9e-9631-59721e59b6a6",
   "metadata": {},
   "outputs": [
    {
     "name": "stdout",
     "output_type": "stream",
     "text": [
      " Tesla ,22 ,auto ,600CC filling fueltank\n"
     ]
    }
   ],
   "source": [
    "ec1.fueltank()"
   ]
  },
  {
   "cell_type": "code",
   "execution_count": 65,
   "id": "c9293fc3-53a9-44e6-ad88-b2334ccaac0b",
   "metadata": {},
   "outputs": [
    {
     "name": "stdout",
     "output_type": "stream",
     "text": [
      "Electric Car has no fuel tank\n"
     ]
    }
   ],
   "source": [
    "ec1.fueltank()"
   ]
  },
  {
   "cell_type": "markdown",
   "id": "3427145e-b6d7-4e7b-b541-10ad96282787",
   "metadata": {},
   "source": [
    "# Encapsulatrion"
   ]
  },
  {
   "cell_type": "code",
   "execution_count": 66,
   "id": "4a087e80-e674-48a9-a9b5-5de937ce979b",
   "metadata": {},
   "outputs": [
    {
     "data": {
      "text/plain": [
       "'600CC'"
      ]
     },
     "execution_count": 66,
     "metadata": {},
     "output_type": "execute_result"
    }
   ],
   "source": [
    " ec1.car_engine"
   ]
  },
  {
   "cell_type": "code",
   "execution_count": 67,
   "id": "7fe28d34-6a22-4bff-a772-f3a2e547e2c8",
   "metadata": {},
   "outputs": [
    {
     "data": {
      "text/plain": [
       "'auto'"
      ]
     },
     "execution_count": 67,
     "metadata": {},
     "output_type": "execute_result"
    }
   ],
   "source": [
    "ec1.car_transmission"
   ]
  },
  {
   "cell_type": "code",
   "execution_count": 68,
   "id": "f0b3ea0b-166e-4423-9f71-172b4088f303",
   "metadata": {},
   "outputs": [
    {
     "data": {
      "text/plain": [
       "'600CC'"
      ]
     },
     "execution_count": 68,
     "metadata": {},
     "output_type": "execute_result"
    }
   ],
   "source": [
    "ec1.car_engine"
   ]
  },
  {
   "cell_type": "code",
   "execution_count": 69,
   "id": "b5a9ca41-56ec-4356-bfde-c82c8566c92d",
   "metadata": {},
   "outputs": [],
   "source": [
    "ec1.car_engine = \"1000CC\""
   ]
  },
  {
   "cell_type": "code",
   "execution_count": 70,
   "id": "2c155bf4-a562-488e-8c50-58fc5f99f36e",
   "metadata": {},
   "outputs": [
    {
     "data": {
      "text/plain": [
       "'1000CC'"
      ]
     },
     "execution_count": 70,
     "metadata": {},
     "output_type": "execute_result"
    }
   ],
   "source": [
    "ec1.car_engine"
   ]
  },
  {
   "cell_type": "code",
   "execution_count": 78,
   "id": "2f643da0-150b-4b6f-a632-2c93746e1662",
   "metadata": {},
   "outputs": [],
   "source": [
    "class ElectricCar(Car):\n",
    "    def __init__ (self,brand, model , transmission, engine, battery):\n",
    "        self.battery = battery\n",
    "        super(). __init__(brand, model , transmission, engine)\n",
    "    def chargeBattery(self):\n",
    "        print(\"Battery is being charged\")\n",
    "    def fueltank(self):\n",
    "        print(\"Electric Car has no fuel tank\")\n",
    "    def getbattery(self):\n",
    "        print(f\"Installed battery in car is{self.battery}\")\n",
    "    def setbattery(self, newbattery):\n",
    "        self.battery = newbattery"
   ]
  },
  {
   "cell_type": "code",
   "execution_count": 79,
   "id": "c5c114f5-4740-43fd-a111-d23274683c5c",
   "metadata": {},
   "outputs": [],
   "source": [
    "ec3 = ElectricCar(\"Tesla\", \"22\" , 'auto' , \"600CC\" , \"Exide\")"
   ]
  },
  {
   "cell_type": "code",
   "execution_count": 77,
   "id": "29eed74b-39ee-46a2-a0b1-e60dd5157cdd",
   "metadata": {},
   "outputs": [
    {
     "name": "stdout",
     "output_type": "stream",
     "text": [
      "Installed battery in car isExide\n"
     ]
    }
   ],
   "source": [
    "ec3.getbattery()"
   ]
  },
  {
   "cell_type": "code",
   "execution_count": 80,
   "id": "e57282c8-94d2-4029-844c-c5e8fb68ac37",
   "metadata": {},
   "outputs": [],
   "source": [
    "ec3.setbattery(\"ATLAS\")"
   ]
  },
  {
   "cell_type": "code",
   "execution_count": 81,
   "id": "8abab1df-3426-4fcf-84fc-8241f5212bf0",
   "metadata": {},
   "outputs": [
    {
     "name": "stdout",
     "output_type": "stream",
     "text": [
      "Installed battery in car isATLAS\n"
     ]
    }
   ],
   "source": [
    "ec3.getbattery()"
   ]
  },
  {
   "cell_type": "code",
   "execution_count": 25,
   "id": "e2d609b5-27d3-4884-a9a4-479f658a91bf",
   "metadata": {},
   "outputs": [],
   "source": [
    "class Student():\n",
    "    def __init__ (self , roll , name, course , institute):\n",
    "            \n",
    "        self.roll = roll\n",
    "        self.name = name\n",
    "        self.course = course\n",
    "        self.institute = institute\n",
    "    def getroll (self):\n",
    "        print(f\"Students roll num is {self.roll}\")\n",
    "    def setroll(self,newRoll):\n",
    "        print(\"roll number cannot be changed\")\n",
    "    def getname (self):\n",
    "        print(f\"Student name is {self.name}\")\n",
    "    def setname(self,newName):\n",
    "        print(\"name cannot be changed\")\n",
    "    def getcourse (self):\n",
    "        print(f\"Student course is {self.course}\")\n",
    "    def setcourse(self,newCourse):\n",
    "        course = [\"AI\", 'Web devp', 'bcc', 'metaverse' , 'cloudcomp']\n",
    "        if newCourse in course:\n",
    "            self.course = newCourse\n",
    "        else:\n",
    "            print(\"Applied course not avalible\")"
   ]
  },
  {
   "cell_type": "code",
   "execution_count": 26,
   "id": "2c1607f8-3631-4ccf-a770-6525e683e1d9",
   "metadata": {},
   "outputs": [],
   "source": [
    "s1 = Student(111,\"Asad\" ,\"AI\" , \"SMIT\")"
   ]
  },
  {
   "cell_type": "code",
   "execution_count": 27,
   "id": "a33af292-314c-41a9-8959-b40c0f2aa247",
   "metadata": {},
   "outputs": [
    {
     "name": "stdout",
     "output_type": "stream",
     "text": [
      "Student course is AI\n"
     ]
    }
   ],
   "source": [
    "s1.getcourse()"
   ]
  },
  {
   "cell_type": "code",
   "execution_count": 28,
   "id": "addf9980-9860-4c49-bc0b-baaa5dfe993d",
   "metadata": {},
   "outputs": [
    {
     "name": "stdout",
     "output_type": "stream",
     "text": [
      "Applied course not avalible\n"
     ]
    }
   ],
   "source": [
    "s1.setcourse(\"Devops\")"
   ]
  },
  {
   "cell_type": "code",
   "execution_count": 31,
   "id": "88a6113f-cb98-4ed8-a638-7022137b0e80",
   "metadata": {},
   "outputs": [],
   "source": [
    "s1.setcourse(\"bcc\")"
   ]
  },
  {
   "cell_type": "code",
   "execution_count": 32,
   "id": "f4cca06a-5c83-40d6-b135-8370cd1816dd",
   "metadata": {},
   "outputs": [
    {
     "name": "stdout",
     "output_type": "stream",
     "text": [
      "Student course is bcc\n"
     ]
    }
   ],
   "source": [
    "s1.getcourse()"
   ]
  },
  {
   "cell_type": "code",
   "execution_count": null,
   "id": "9918cc05-c408-47ea-89c9-cb99120c69dc",
   "metadata": {},
   "outputs": [],
   "source": []
  },
  {
   "cell_type": "code",
   "execution_count": 10,
   "id": "7d3c5809-2991-43b4-b276-1b87507d8a40",
   "metadata": {},
   "outputs": [
    {
     "name": "stdout",
     "output_type": "stream",
     "text": [
      "Students roll num is 222\n"
     ]
    }
   ],
   "source": [
    "s1.getroll()"
   ]
  },
  {
   "cell_type": "code",
   "execution_count": 13,
   "id": "25bfbdb1-2cf6-4f1e-9b42-edc6702f91e6",
   "metadata": {},
   "outputs": [
    {
     "name": "stdout",
     "output_type": "stream",
     "text": [
      "Invalid roll number\n"
     ]
    }
   ],
   "source": [
    "s1.setroll(2222)"
   ]
  },
  {
   "cell_type": "code",
   "execution_count": 12,
   "id": "9ba0fa4e-aa13-4c36-b9ef-20ff3dbae8d0",
   "metadata": {},
   "outputs": [
    {
     "name": "stdout",
     "output_type": "stream",
     "text": [
      "Students roll num is 222\n"
     ]
    }
   ],
   "source": [
    "s1.getroll()"
   ]
  },
  {
   "cell_type": "code",
   "execution_count": null,
   "id": "652f833d-1656-4b97-80ff-2654b62c95e0",
   "metadata": {},
   "outputs": [],
   "source": []
  }
 ],
 "metadata": {
  "kernelspec": {
   "display_name": "Python 3 (ipykernel)",
   "language": "python",
   "name": "python3"
  },
  "language_info": {
   "codemirror_mode": {
    "name": "ipython",
    "version": 3
   },
   "file_extension": ".py",
   "mimetype": "text/x-python",
   "name": "python",
   "nbconvert_exporter": "python",
   "pygments_lexer": "ipython3",
   "version": "3.11.7"
  }
 },
 "nbformat": 4,
 "nbformat_minor": 5
}
