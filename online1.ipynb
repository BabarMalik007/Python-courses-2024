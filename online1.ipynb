{
 "cells": [
  {
   "cell_type": "markdown",
   "id": "e864d4a3-c8c8-4651-ab41-788b78b41965",
   "metadata": {},
   "source": [
    "# print function"
   ]
  },
  {
   "cell_type": "code",
   "execution_count": 10,
   "id": "f02fafb8-b553-44cd-a22a-540af34c1610",
   "metadata": {},
   "outputs": [
    {
     "name": "stdout",
     "output_type": "stream",
     "text": [
      "100\n"
     ]
    }
   ],
   "source": [
    "print (100)"
   ]
  },
  {
   "cell_type": "code",
   "execution_count": 11,
   "id": "b616aa9e-03a2-41f8-8b16-716112ff0d4a",
   "metadata": {},
   "outputs": [
    {
     "name": "stdout",
     "output_type": "stream",
     "text": [
      "777\n"
     ]
    }
   ],
   "source": [
    "print(777)"
   ]
  },
  {
   "cell_type": "code",
   "execution_count": 12,
   "id": "2440d1f5-0c54-4794-b59b-0c412097eab6",
   "metadata": {},
   "outputs": [
    {
     "name": "stdout",
     "output_type": "stream",
     "text": [
      "hello python\n"
     ]
    }
   ],
   "source": [
    "print (\"hello python\")"
   ]
  },
  {
   "cell_type": "markdown",
   "id": "536acd84-b8a5-447e-83a9-434d45a278a1",
   "metadata": {},
   "source": [
    " # Types of value\n",
    "    - numeric value\n",
    "    - whole numbers ( integers) (python) >>> (int)\n",
    "    - example 2,3,4,5,6,6,7, 444 , 64533 , 9474 , -778 , -886\n",
    "    - decimals numbers (decimals) (python) >>> (float)\n",
    "    - alphabets:\n",
    "           - characters/word/sentence/paragraph (string) python (str)\n",
    "           examples : \"hello word\"\n",
    "                        \"1000\"\n",
    "                        'hello'\n",
    "                        '100'\n",
    "                        '''1000'''\n",
    "                        '''hello python'''\n",
    "    - boolean values:\n",
    "     true/false python (True/False)"
   ]
  },
  {
   "cell_type": "code",
   "execution_count": 13,
   "id": "bfffc014-4cf1-49f4-b15f-4754ed95834f",
   "metadata": {},
   "outputs": [
    {
     "name": "stdout",
     "output_type": "stream",
     "text": [
      "500\n"
     ]
    }
   ],
   "source": [
    "print (500)"
   ]
  },
  {
   "cell_type": "code",
   "execution_count": 14,
   "id": "948cb8d5-7d5c-43a8-8ec3-2d85bb396157",
   "metadata": {},
   "outputs": [
    {
     "name": "stdout",
     "output_type": "stream",
     "text": [
      "56.6\n"
     ]
    }
   ],
   "source": [
    "print(56.6)"
   ]
  },
  {
   "cell_type": "code",
   "execution_count": 15,
   "id": "f2d98b95-1e4a-44aa-ac55-a75a795fc120",
   "metadata": {},
   "outputs": [
    {
     "name": "stdout",
     "output_type": "stream",
     "text": [
      "True\n"
     ]
    }
   ],
   "source": [
    "print(True)"
   ]
  },
  {
   "cell_type": "code",
   "execution_count": 16,
   "id": "2c8a53ba-4792-4665-8f6a-1bfedc3ffd0b",
   "metadata": {},
   "outputs": [
    {
     "name": "stdout",
     "output_type": "stream",
     "text": [
      "1000\n"
     ]
    }
   ],
   "source": [
    "print('''1000''')"
   ]
  },
  {
   "cell_type": "code",
   "execution_count": 18,
   "id": "7954a081-6114-45ad-98a9-dd8df4409557",
   "metadata": {},
   "outputs": [
    {
     "name": "stdout",
     "output_type": "stream",
     "text": [
      "hi python\n",
      "how r u\n",
      "\n",
      "\n"
     ]
    }
   ],
   "source": [
    "print(\"\"\"hi python\n",
    "how r u\n",
    "\n",
    "\"\"\")"
   ]
  },
  {
   "cell_type": "markdown",
   "id": "e262fb27-04c3-42af-9c18-523efd0d72d1",
   "metadata": {},
   "source": [
    "# function()"
   ]
  },
  {
   "cell_type": "code",
   "execution_count": 19,
   "id": "2c68dbe8-9c6b-4807-890b-c71c8f556056",
   "metadata": {},
   "outputs": [
    {
     "data": {
      "text/plain": [
       "int"
      ]
     },
     "execution_count": 19,
     "metadata": {},
     "output_type": "execute_result"
    }
   ],
   "source": [
    "type(67)"
   ]
  },
  {
   "cell_type": "code",
   "execution_count": 20,
   "id": "50463e59-deef-42b1-9016-c3014c57d023",
   "metadata": {},
   "outputs": [
    {
     "data": {
      "text/plain": [
       "str"
      ]
     },
     "execution_count": 20,
     "metadata": {},
     "output_type": "execute_result"
    }
   ],
   "source": [
    "type(\"pakistan\")"
   ]
  },
  {
   "cell_type": "code",
   "execution_count": 21,
   "id": "ea889aac-108b-4a03-a0fd-f3423291f904",
   "metadata": {},
   "outputs": [
    {
     "data": {
      "text/plain": [
       "bool"
      ]
     },
     "execution_count": 21,
     "metadata": {},
     "output_type": "execute_result"
    }
   ],
   "source": [
    "type(True)"
   ]
  },
  {
   "cell_type": "code",
   "execution_count": 22,
   "id": "841263b5-537c-4244-a313-4c328308fb06",
   "metadata": {},
   "outputs": [
    {
     "data": {
      "text/plain": [
       "float"
      ]
     },
     "execution_count": 22,
     "metadata": {},
     "output_type": "execute_result"
    }
   ],
   "source": [
    "type(44.6)"
   ]
  },
  {
   "cell_type": "markdown",
   "id": "84465004-d3f8-49d1-bb88-a24e4f1d6637",
   "metadata": {},
   "source": [
    " print()\n",
    "shift tap at the center of circle\n",
    "Signature: print(*args, sep=' ', end='\\n', file=None, flush=False)\r\n",
    "Docstring:\r\n",
    "Prints the values to a stream, or to sys.stdout by default.\r\n",
    "\r\n",
    "sep\r\n",
    "  string inserted between values, default a space.\r\n",
    "end\r\n",
    "  string appended after the last value, default a newline.\r\n",
    "file\r\n",
    "  a file-like object (stream); defaults to the current sys.stdout.\r\n",
    "flush"
   ]
  },
  {
   "cell_type": "code",
   "execution_count": 26,
   "id": "3bb436a9-fded-45c7-a9db-6d34e6a2010a",
   "metadata": {},
   "outputs": [
    {
     "name": "stdout",
     "output_type": "stream",
     "text": [
      "babar malik 787 76.0 True False how r u \n",
      "python\n"
     ]
    }
   ],
   "source": [
    "print (\"babar\" , \"malik\" , 787 , 76.0 , True , False , \"\"\"how r u \n",
    "python\"\"\")"
   ]
  },
  {
   "cell_type": "code",
   "execution_count": 30,
   "id": "0772d92e-18f9-46ef-927a-5c4afc057795",
   "metadata": {},
   "outputs": [
    {
     "name": "stdout",
     "output_type": "stream",
     "text": [
      "babar +++malik +++787 +++76.0 +++True +++False +++how r u python\n"
     ]
    }
   ],
   "source": [
    "print (\"babar\" , \"malik\" , 787 , 76.0 , True , False , \"\"\"how r u python\"\"\", sep=\" +++\")"
   ]
  },
  {
   "cell_type": "code",
   "execution_count": 32,
   "id": "3a50b007-e830-4b3f-8f98-ec0cf3c8b5db",
   "metadata": {},
   "outputs": [
    {
     "name": "stdout",
     "output_type": "stream",
     "text": [
      "babar___malik___787___76.0___True___False___how r u python\n"
     ]
    }
   ],
   "source": [
    "print (\"babar\" , \"malik\" , 787 , 76.0 , True , False , \"\"\"how r u python\"\"\", sep=\"___\")"
   ]
  },
  {
   "cell_type": "markdown",
   "id": "3755d9c8-69f5-40b1-ac1a-2193cd037c13",
   "metadata": {},
   "source": [
    "# Escape characters in python"
   ]
  },
  {
   "cell_type": "code",
   "execution_count": 37,
   "id": "0aa79df0-24b5-453b-8ad0-e3f268bf4de6",
   "metadata": {},
   "outputs": [
    {
     "name": "stdout",
     "output_type": "stream",
     "text": [
      " I am a student of python. \n",
      " i am learning python\t from SMIT\n"
     ]
    }
   ],
   "source": [
    "print (\" I am a student of python. \\n i am learning python\\t from SMIT\")"
   ]
  },
  {
   "cell_type": "code",
   "execution_count": 40,
   "id": "879c777e-0aa3-4654-900e-113e90e6d372",
   "metadata": {},
   "outputs": [
    {
     "name": "stdout",
     "output_type": "stream",
     "text": [
      " I am a student of python. I am learning python from SMITt I am learning python from Sir Nasir hussain\n"
     ]
    }
   ],
   "source": [
    "print (\" I am a student of python.\",end=\"\") \n",
    "print   (\" I am learning python from SMIT\", end=\"t\")\n",
    "print   (\" I am learning python from Sir Nasir hussain\")"
   ]
  },
  {
   "cell_type": "markdown",
   "id": "550c766a-5e8c-487e-b05e-ae241b6ddede",
   "metadata": {},
   "source": [
    "# Variables in python\n",
    "  - variables also called indentifiers\n",
    "  - variables also containers/reservoirs to store values"
   ]
  },
  {
   "cell_type": "code",
   "execution_count": 44,
   "id": "75d7edb3-9014-41da-8b48-f5ec5b598bf9",
   "metadata": {},
   "outputs": [
    {
     "data": {
      "text/plain": [
       "90"
      ]
     },
     "execution_count": 44,
     "metadata": {},
     "output_type": "execute_result"
    }
   ],
   "source": [
    "marks = 90\n",
    "marks"
   ]
  },
  {
   "cell_type": "code",
   "execution_count": 45,
   "id": "67509c2c-c324-498b-99c3-06437ab3d047",
   "metadata": {},
   "outputs": [
    {
     "data": {
      "text/plain": [
       "140724187090504"
      ]
     },
     "execution_count": 45,
     "metadata": {},
     "output_type": "execute_result"
    }
   ],
   "source": [
    "id(marks)"
   ]
  },
  {
   "cell_type": "code",
   "execution_count": 46,
   "id": "e9a48ede-c6d9-416e-b0bc-7b410d87adab",
   "metadata": {},
   "outputs": [
    {
     "data": {
      "text/plain": [
       "int"
      ]
     },
     "execution_count": 46,
     "metadata": {},
     "output_type": "execute_result"
    }
   ],
   "source": [
    "type(marks)"
   ]
  },
  {
   "cell_type": "code",
   "execution_count": 49,
   "id": "e2ee46a6-4131-454a-b6b3-079d45b98606",
   "metadata": {},
   "outputs": [
    {
     "name": "stdout",
     "output_type": "stream",
     "text": [
      "babar\n"
     ]
    }
   ],
   "source": [
    "name = \"babar\"\n",
    "print(name)"
   ]
  },
  {
   "cell_type": "code",
   "execution_count": 51,
   "id": "b3d2ba21-2cce-49ce-a6dc-0dbe5dd959f0",
   "metadata": {},
   "outputs": [
    {
     "data": {
      "text/plain": [
       "100"
      ]
     },
     "execution_count": 51,
     "metadata": {},
     "output_type": "execute_result"
    }
   ],
   "source": [
    "marks + 10"
   ]
  },
  {
   "cell_type": "code",
   "execution_count": 53,
   "id": "aa57bd4f-db5b-4e54-b657-ebae2006e3d8",
   "metadata": {},
   "outputs": [
    {
     "data": {
      "text/plain": [
       "80"
      ]
     },
     "execution_count": 53,
     "metadata": {},
     "output_type": "execute_result"
    }
   ],
   "source": [
    "marks - 10"
   ]
  },
  {
   "cell_type": "code",
   "execution_count": 56,
   "id": "48719de0-fb29-4d84-b65a-b0a11e1ee8d8",
   "metadata": {},
   "outputs": [
    {
     "data": {
      "text/plain": [
       "390"
      ]
     },
     "execution_count": 56,
     "metadata": {},
     "output_type": "execute_result"
    }
   ],
   "source": [
    "marks1=marks+100\n",
    "marks1"
   ]
  },
  {
   "cell_type": "code",
   "execution_count": 57,
   "id": "2e819891-e9cb-468c-b2e1-1a604edd1bde",
   "metadata": {},
   "outputs": [],
   "source": [
    "per = 65"
   ]
  },
  {
   "cell_type": "code",
   "execution_count": 58,
   "id": "098c922f-194f-4cca-bc40-880384d9954d",
   "metadata": {},
   "outputs": [
    {
     "data": {
      "text/plain": [
       "355"
      ]
     },
     "execution_count": 58,
     "metadata": {},
     "output_type": "execute_result"
    }
   ],
   "source": [
    "marks + per"
   ]
  },
  {
   "cell_type": "markdown",
   "id": "8b696b6e-4c0f-4791-9060-c1739da90906",
   "metadata": {},
   "source": [
    "# operators\n",
    "  - (+) addition\n",
    "  - (+) concatenation\n",
    "  - (-) subtract\n",
    "  - (*) multiplay\n",
    "  - (/) divide (Integer Division)\n",
    "  - (//) divide (Floating division)\n",
    "  - (%) modulous (reminder in a division)\n",
    "  - (>) (greater than)\n",
    "  - (<)(less than)\n",
    "  - (>=) (grater than equal to)\n",
    "  - (<=) (less than equal to)\n",
    "  - (==) (equal to)\n",
    "  - (!=) (not equal to)"
   ]
  },
  {
   "cell_type": "code",
   "execution_count": 59,
   "id": "481ac1a6-698b-4f8d-8c89-7d500aae0b6a",
   "metadata": {},
   "outputs": [
    {
     "data": {
      "text/plain": [
       "7"
      ]
     },
     "execution_count": 59,
     "metadata": {},
     "output_type": "execute_result"
    }
   ],
   "source": [
    "3 + 4"
   ]
  },
  {
   "cell_type": "code",
   "execution_count": 60,
   "id": "5ef9a141-0703-47bd-8321-13563e28eefc",
   "metadata": {},
   "outputs": [
    {
     "data": {
      "text/plain": [
       "6"
      ]
     },
     "execution_count": 60,
     "metadata": {},
     "output_type": "execute_result"
    }
   ],
   "source": [
    "10-4"
   ]
  },
  {
   "cell_type": "code",
   "execution_count": 61,
   "id": "1dd0ae48-4290-400f-8e7b-4e6deb7aeb02",
   "metadata": {},
   "outputs": [
    {
     "data": {
      "text/plain": [
       "80"
      ]
     },
     "execution_count": 61,
     "metadata": {},
     "output_type": "execute_result"
    }
   ],
   "source": [
    "20*4"
   ]
  },
  {
   "cell_type": "code",
   "execution_count": 62,
   "id": "bf57971a-86ed-40d6-9071-2108267e58e3",
   "metadata": {},
   "outputs": [
    {
     "data": {
      "text/plain": [
       "1.0"
      ]
     },
     "execution_count": 62,
     "metadata": {},
     "output_type": "execute_result"
    }
   ],
   "source": [
    "10/10  # result is float value"
   ]
  },
  {
   "cell_type": "code",
   "execution_count": 64,
   "id": "8b11c726-0911-40af-bcdf-ba74cf1e559c",
   "metadata": {},
   "outputs": [
    {
     "data": {
      "text/plain": [
       "1"
      ]
     },
     "execution_count": 64,
     "metadata": {},
     "output_type": "execute_result"
    }
   ],
   "source": [
    "10//10 # integer division"
   ]
  },
  {
   "cell_type": "code",
   "execution_count": 66,
   "id": "f9346689-90ea-4d7e-b282-d3ce12bed895",
   "metadata": {},
   "outputs": [
    {
     "data": {
      "text/plain": [
       "3"
      ]
     },
     "execution_count": 66,
     "metadata": {},
     "output_type": "execute_result"
    }
   ],
   "source": [
    "15%4"
   ]
  },
  {
   "cell_type": "code",
   "execution_count": 67,
   "id": "498dd111-7558-4a8e-9087-3eca08024bdb",
   "metadata": {},
   "outputs": [
    {
     "data": {
      "text/plain": [
       "False"
      ]
     },
     "execution_count": 67,
     "metadata": {},
     "output_type": "execute_result"
    }
   ],
   "source": [
    "12>13"
   ]
  },
  {
   "cell_type": "code",
   "execution_count": 68,
   "id": "8a112e47-caee-4f42-989b-a061ad97bf19",
   "metadata": {},
   "outputs": [
    {
     "data": {
      "text/plain": [
       "True"
      ]
     },
     "execution_count": 68,
     "metadata": {},
     "output_type": "execute_result"
    }
   ],
   "source": [
    "12<13"
   ]
  },
  {
   "cell_type": "code",
   "execution_count": 69,
   "id": "34669336-f9da-4bd3-97d5-886a5b832e47",
   "metadata": {},
   "outputs": [
    {
     "data": {
      "text/plain": [
       "False"
      ]
     },
     "execution_count": 69,
     "metadata": {},
     "output_type": "execute_result"
    }
   ],
   "source": [
    "12>=13"
   ]
  },
  {
   "cell_type": "code",
   "execution_count": 70,
   "id": "4d7dcf61-9c39-420e-a165-a49b7ba18099",
   "metadata": {},
   "outputs": [
    {
     "data": {
      "text/plain": [
       "True"
      ]
     },
     "execution_count": 70,
     "metadata": {},
     "output_type": "execute_result"
    }
   ],
   "source": [
    "12<=13"
   ]
  },
  {
   "cell_type": "code",
   "execution_count": 73,
   "id": "97e1c363-f717-4712-9623-3b35f9361902",
   "metadata": {},
   "outputs": [
    {
     "name": "stdin",
     "output_type": "stream",
     "text": [
      "Enter your name: babar\n",
      "Enter your year of birth: 1999\n"
     ]
    },
    {
     "name": "stdout",
     "output_type": "stream",
     "text": [
      "your name is babarand your year of birth is 1999\n"
     ]
    }
   ],
   "source": [
    "name = input(\"Enter your name:\")\n",
    "y_o_b= input(\"Enter your year of birth:\")\n",
    "print (\"your name is \"+name+ \"and your year of birth is \" +y_o_b)"
   ]
  },
  {
   "cell_type": "code",
   "execution_count": 74,
   "id": "4d87e159-13e1-4397-a967-c30d67b94015",
   "metadata": {},
   "outputs": [
    {
     "name": "stdin",
     "output_type": "stream",
     "text": [
      "Enter your name: fahad\n",
      "Enter your age: 50\n"
     ]
    }
   ],
   "source": [
    "student= input(\"Enter your name:\")\n",
    "age = int(input(\"Enter your age:\"))"
   ]
  },
  {
   "cell_type": "code",
   "execution_count": 76,
   "id": "9c90a7ed-9262-4c17-a75b-40c48d7b7bdd",
   "metadata": {},
   "outputs": [
    {
     "data": {
      "text/plain": [
       "60"
      ]
     },
     "execution_count": 76,
     "metadata": {},
     "output_type": "execute_result"
    }
   ],
   "source": [
    "age+10"
   ]
  },
  {
   "cell_type": "code",
   "execution_count": 78,
   "id": "4b620276-1a80-4b5c-882a-7dc4b7e13cbc",
   "metadata": {},
   "outputs": [
    {
     "name": "stdin",
     "output_type": "stream",
     "text": [
      "Enter your age: 40.5\n"
     ]
    },
    {
     "ename": "ValueError",
     "evalue": "invalid literal for int() with base 10: '40.5'",
     "output_type": "error",
     "traceback": [
      "\u001b[1;31m---------------------------------------------------------------------------\u001b[0m",
      "\u001b[1;31mValueError\u001b[0m                                Traceback (most recent call last)",
      "Cell \u001b[1;32mIn[78], line 1\u001b[0m\n\u001b[1;32m----> 1\u001b[0m age1\u001b[38;5;241m=\u001b[39m \u001b[38;5;28mint\u001b[39m(\u001b[38;5;28minput\u001b[39m(\u001b[38;5;124m\"\u001b[39m\u001b[38;5;124mEnter your age:\u001b[39m\u001b[38;5;124m\"\u001b[39m))\n",
      "\u001b[1;31mValueError\u001b[0m: invalid literal for int() with base 10: '40.5'"
     ]
    }
   ],
   "source": [
    "age1= int(input(\"Enter your age:\"))"
   ]
  },
  {
   "cell_type": "code",
   "execution_count": 79,
   "id": "7c2b47a5-3492-44e4-8b60-71cd67ef9149",
   "metadata": {},
   "outputs": [
    {
     "name": "stdin",
     "output_type": "stream",
     "text": [
      "Enter your age: 40.5\n"
     ]
    }
   ],
   "source": [
    "age1= float(input(\"Enter your age:\"))"
   ]
  },
  {
   "cell_type": "code",
   "execution_count": 82,
   "id": "9045cfee-f588-49b9-a342-3e716b5e7bfe",
   "metadata": {},
   "outputs": [
    {
     "name": "stdin",
     "output_type": "stream",
     "text": [
      "Enter your name: babar\n",
      "Enter your year of birth: 1999\n"
     ]
    },
    {
     "name": "stdout",
     "output_type": "stream",
     "text": [
      "your name is babarand your year of birth is 1999\n"
     ]
    }
   ],
   "source": [
    "name = (input(\"Enter your name:\"))\n",
    "y_o_b= int(input(\"Enter your year of birth:\"))\n",
    "print (\"your name is \"+name+ \"and your year of birth is \" +str(y_o_b))"
   ]
  },
  {
   "cell_type": "markdown",
   "id": "b8582b11-d6d0-4dc6-b5ab-c617c1ae105b",
   "metadata": {},
   "source": [
    "# string formation\n",
    "  - format (value1 , value2,...)\n",
    "  - it is easier , simpler than concetenation\n",
    "  - it don't need type casting"
   ]
  },
  {
   "cell_type": "code",
   "execution_count": 90,
   "id": "3cf8fa55-11cb-4f6f-9f84-e75cb41da530",
   "metadata": {},
   "outputs": [
    {
     "name": "stdin",
     "output_type": "stream",
     "text": [
      "Enter your name: babar\n",
      "Enter your year of birth: 1999\n"
     ]
    },
    {
     "name": "stdout",
     "output_type": "stream",
     "text": [
      "your name is babar and your year of birth is1999 \n"
     ]
    }
   ],
   "source": [
    "name = input(\"Enter your name:\")\n",
    "y_o_b= int(input(\"Enter your year of birth:\"))\n",
    "print (\"your name is {} and your year of birth is{} \".format(name,y_o_b))\n",
    "# place holders {}"
   ]
  },
  {
   "cell_type": "code",
   "execution_count": 86,
   "id": "cb3b3250-e2fb-4576-a192-1b9768f6472a",
   "metadata": {},
   "outputs": [
    {
     "data": {
      "text/plain": [
       "'Babar'"
      ]
     },
     "execution_count": 86,
     "metadata": {},
     "output_type": "execute_result"
    }
   ],
   "source": [
    "\"B{}ba{}\".format(\"a\",\"r\")"
   ]
  },
  {
   "cell_type": "markdown",
   "id": "5a6ff5b7-8b2d-47e8-8d20-72ed0b66bbc0",
   "metadata": {},
   "source": [
    "# string format by f"
   ]
  },
  {
   "cell_type": "code",
   "execution_count": 93,
   "id": "39d332b9-d4e0-469b-b2b0-7588c57d8188",
   "metadata": {},
   "outputs": [
    {
     "name": "stdin",
     "output_type": "stream",
     "text": [
      "Enter your name: babar\n",
      "Enter your year of birth: 1999\n"
     ]
    },
    {
     "name": "stdout",
     "output_type": "stream",
     "text": [
      "your name is babar and your year of birth is1999 \n"
     ]
    }
   ],
   "source": [
    "name = input(\"Enter your name:\")\n",
    "y_o_b= int(input(\"Enter your year of birth:\"))\n",
    "print (f\"your name is {name} and your year of birth is{y_o_b} \")\n"
   ]
  },
  {
   "cell_type": "markdown",
   "id": "038dc375-3ff9-422f-ae60-3db4984ae8bd",
   "metadata": {},
   "source": [
    "# string"
   ]
  },
  {
   "cell_type": "code",
   "execution_count": 95,
   "id": "553a1368-d4a7-47d6-87eb-07db8f24f21c",
   "metadata": {},
   "outputs": [
    {
     "data": {
      "text/plain": [
       "'malik'"
      ]
     },
     "execution_count": 95,
     "metadata": {},
     "output_type": "execute_result"
    }
   ],
   "source": [
    "student = \"malik\"\n",
    "student"
   ]
  },
  {
   "cell_type": "code",
   "execution_count": 96,
   "id": "bd5e6523-d4fa-4078-b405-2550f7ccce0a",
   "metadata": {},
   "outputs": [
    {
     "data": {
      "text/plain": [
       "'Malik'"
      ]
     },
     "execution_count": 96,
     "metadata": {},
     "output_type": "execute_result"
    }
   ],
   "source": [
    "student.capitalize()"
   ]
  },
  {
   "cell_type": "code",
   "execution_count": 97,
   "id": "c76bca4f-1608-4edb-81b7-0e8b6279bd33",
   "metadata": {},
   "outputs": [
    {
     "data": {
      "text/plain": [
       "'malik'"
      ]
     },
     "execution_count": 97,
     "metadata": {},
     "output_type": "execute_result"
    }
   ],
   "source": [
    "student.casefold()"
   ]
  },
  {
   "cell_type": "code",
   "execution_count": 101,
   "id": "3acec767-70f1-4c36-b67b-d7f863ecb360",
   "metadata": {},
   "outputs": [
    {
     "data": {
      "text/plain": [
       "'MALIK'"
      ]
     },
     "execution_count": 101,
     "metadata": {},
     "output_type": "execute_result"
    }
   ],
   "source": [
    "student.upper()"
   ]
  },
  {
   "cell_type": "code",
   "execution_count": 103,
   "id": "599aad49-710a-4f11-afa9-89cd116b4499",
   "metadata": {},
   "outputs": [
    {
     "data": {
      "text/plain": [
       "0"
      ]
     },
     "execution_count": 103,
     "metadata": {},
     "output_type": "execute_result"
    }
   ],
   "source": [
    "student.count(\"a \")"
   ]
  },
  {
   "cell_type": "code",
   "execution_count": 2,
   "id": "886c6c0d-692a-4f51-b3e6-4cf91afa1b8d",
   "metadata": {},
   "outputs": [],
   "source": [
    "ins = \"saylani mass information telecomunication\"\n",
    "#      01234567890123456789012345678901234567890"
   ]
  },
  {
   "cell_type": "code",
   "execution_count": 3,
   "id": "e31d1207-1ffc-4d8d-82a5-9d0f083f6317",
   "metadata": {},
   "outputs": [
    {
     "data": {
      "text/plain": [
       "'i'"
      ]
     },
     "execution_count": 3,
     "metadata": {},
     "output_type": "execute_result"
    }
   ],
   "source": [
    "ins[6]"
   ]
  },
  {
   "cell_type": "code",
   "execution_count": 4,
   "id": "22d27ba8-e8f6-46ad-aea1-2dd5fd179837",
   "metadata": {},
   "outputs": [
    {
     "data": {
      "text/plain": [
       "'a'"
      ]
     },
     "execution_count": 4,
     "metadata": {},
     "output_type": "execute_result"
    }
   ],
   "source": [
    "ins[-22]"
   ]
  },
  {
   "cell_type": "code",
   "execution_count": 5,
   "id": "1c4e0c0b-7f8b-48e6-99cc-6f41ad3d382e",
   "metadata": {},
   "outputs": [
    {
     "data": {
      "text/plain": [
       "-1"
      ]
     },
     "execution_count": 5,
     "metadata": {},
     "output_type": "execute_result"
    }
   ],
   "source": [
    "ins.find('z')"
   ]
  },
  {
   "cell_type": "code",
   "execution_count": 6,
   "id": "de20ba3c-7092-4f7c-8c52-3eb94333c740",
   "metadata": {},
   "outputs": [
    {
     "data": {
      "text/plain": [
       "6"
      ]
     },
     "execution_count": 6,
     "metadata": {},
     "output_type": "execute_result"
    }
   ],
   "source": [
    "ins.find(\"i\")"
   ]
  },
  {
   "cell_type": "code",
   "execution_count": 10,
   "id": "6931f138-46e6-4e6a-858b-d4eebf2962b8",
   "metadata": {},
   "outputs": [
    {
     "data": {
      "text/plain": [
       "13"
      ]
     },
     "execution_count": 10,
     "metadata": {},
     "output_type": "execute_result"
    }
   ],
   "source": [
    "ins.find(\"i\",7)"
   ]
  },
  {
   "cell_type": "code",
   "execution_count": 15,
   "id": "c7696d0f-7928-4681-8470-a2716fd42827",
   "metadata": {},
   "outputs": [
    {
     "data": {
      "text/plain": [
       "False"
      ]
     },
     "execution_count": 15,
     "metadata": {},
     "output_type": "execute_result"
    }
   ],
   "source": [
    "ins.endswith(\"t\")"
   ]
  },
  {
   "cell_type": "code",
   "execution_count": 16,
   "id": "015ac7ef-0f09-4ad9-9bf0-ae2b545504e0",
   "metadata": {},
   "outputs": [
    {
     "data": {
      "text/plain": [
       "'saylani mass information telecomunication'"
      ]
     },
     "execution_count": 16,
     "metadata": {},
     "output_type": "execute_result"
    }
   ],
   "source": [
    "ins.lstrip()"
   ]
  },
  {
   "cell_type": "code",
   "execution_count": 17,
   "id": "332819bd-c59e-4c47-8aaf-8f01fb7a101e",
   "metadata": {},
   "outputs": [
    {
     "data": {
      "text/plain": [
       "10"
      ]
     },
     "execution_count": 17,
     "metadata": {},
     "output_type": "execute_result"
    }
   ],
   "source": [
    "len(\"pakistan  \")"
   ]
  },
  {
   "cell_type": "code",
   "execution_count": 18,
   "id": "aae0db22-4ca3-4cd0-9b90-309596ddedbb",
   "metadata": {},
   "outputs": [
    {
     "data": {
      "text/plain": [
       "'pakistan'"
      ]
     },
     "execution_count": 18,
     "metadata": {},
     "output_type": "execute_result"
    }
   ],
   "source": [
    "'  pakistan'.lstrip()"
   ]
  },
  {
   "cell_type": "code",
   "execution_count": 19,
   "id": "5df21bd4-bf83-4bbf-afd3-2222c33b7866",
   "metadata": {},
   "outputs": [
    {
     "data": {
      "text/plain": [
       "'pakistan'"
      ]
     },
     "execution_count": 19,
     "metadata": {},
     "output_type": "execute_result"
    }
   ],
   "source": [
    "'pakistan   '.rstrip()"
   ]
  },
  {
   "cell_type": "code",
   "execution_count": 20,
   "id": "1c4e3371-ea7a-4045-9829-9bbbc7ed0ac7",
   "metadata": {},
   "outputs": [
    {
     "data": {
      "text/plain": [
       "'pakistan'"
      ]
     },
     "execution_count": 20,
     "metadata": {},
     "output_type": "execute_result"
    }
   ],
   "source": [
    "'   pakistan  '.strip()"
   ]
  },
  {
   "cell_type": "code",
   "execution_count": 21,
   "id": "84ed3bc1-7572-48b2-9f78-f37c3cd2b7d8",
   "metadata": {},
   "outputs": [
    {
     "data": {
      "text/plain": [
       "'saylani mass information telecomunication'"
      ]
     },
     "execution_count": 21,
     "metadata": {},
     "output_type": "execute_result"
    }
   ],
   "source": [
    "ins"
   ]
  },
  {
   "cell_type": "code",
   "execution_count": 22,
   "id": "df537ccf-a518-4c72-a5f6-1429a407c71f",
   "metadata": {},
   "outputs": [
    {
     "data": {
      "text/plain": [
       "'s'"
      ]
     },
     "execution_count": 22,
     "metadata": {},
     "output_type": "execute_result"
    }
   ],
   "source": [
    "ins[0]"
   ]
  },
  {
   "cell_type": "code",
   "execution_count": 24,
   "id": "36cb868d-b4e2-43ab-8220-e21b28b7d0db",
   "metadata": {},
   "outputs": [
    {
     "ename": "TypeError",
     "evalue": "'str' object does not support item assignment",
     "output_type": "error",
     "traceback": [
      "\u001b[1;31m---------------------------------------------------------------------------\u001b[0m",
      "\u001b[1;31mTypeError\u001b[0m                                 Traceback (most recent call last)",
      "Cell \u001b[1;32mIn[24], line 1\u001b[0m\n\u001b[1;32m----> 1\u001b[0m ins[\u001b[38;5;241m0\u001b[39m]\u001b[38;5;241m=\u001b[39m\u001b[38;5;124m\"\u001b[39m\u001b[38;5;124mS\u001b[39m\u001b[38;5;124m\"\u001b[39m\n",
      "\u001b[1;31mTypeError\u001b[0m: 'str' object does not support item assignment"
     ]
    }
   ],
   "source": [
    "ins[0]=\"S\"\n",
    "# immutable"
   ]
  },
  {
   "cell_type": "code",
   "execution_count": 25,
   "id": "48a31dd4-4b47-41d8-9d88-d4fbc472771c",
   "metadata": {},
   "outputs": [],
   "source": [
    "ins= ins.capitalize()"
   ]
  },
  {
   "cell_type": "code",
   "execution_count": 26,
   "id": "1b9c1216-08ac-4354-b513-5a934f67e609",
   "metadata": {},
   "outputs": [
    {
     "data": {
      "text/plain": [
       "'Saylani mass information telecomunication'"
      ]
     },
     "execution_count": 26,
     "metadata": {},
     "output_type": "execute_result"
    }
   ],
   "source": [
    "ins"
   ]
  },
  {
   "cell_type": "code",
   "execution_count": null,
   "id": "91aca6b4-9e70-43c2-aa04-7e00dee7ac83",
   "metadata": {},
   "outputs": [],
   "source": [
    "# If statments \n",
    "   - running a block of code specific condition is satisfied\n",
    "   - "
   ]
  },
  {
   "cell_type": "code",
   "execution_count": 27,
   "id": "8ac0391f-4203-492d-a0a9-a4dda25a3fa5",
   "metadata": {},
   "outputs": [
    {
     "name": "stdin",
     "output_type": "stream",
     "text": [
      "Enter age 23\n"
     ]
    },
    {
     "name": "stdout",
     "output_type": "stream",
     "text": [
      "young\n"
     ]
    }
   ],
   "source": [
    "age = int(input(\"Enter age\"))\n",
    "if age> 18:\n",
    "    print(\"young\")"
   ]
  },
  {
   "cell_type": "code",
   "execution_count": 29,
   "id": "b19761e1-365c-47ce-a158-fe1a9ee313da",
   "metadata": {},
   "outputs": [
    {
     "name": "stdin",
     "output_type": "stream",
     "text": [
      "Tamatar kia hisab hain 51\n"
     ]
    }
   ],
   "source": [
    "tomato_price = int(input(\"Tamatar kia hisab hain\"))\n",
    "if tomato_price <50:\n",
    "    print(\"give me 5kg\")"
   ]
  },
  {
   "cell_type": "markdown",
   "id": "bea7ed35-cecc-4d91-a6a7-e3a03fcbf42b",
   "metadata": {},
   "source": [
    "Else block"
   ]
  },
  {
   "cell_type": "code",
   "execution_count": 31,
   "id": "93063a0f-a790-46a4-9b7a-869b55a57b63",
   "metadata": {},
   "outputs": [
    {
     "name": "stdin",
     "output_type": "stream",
     "text": [
      "Tamatar kia hisab hain 60\n"
     ]
    },
    {
     "name": "stdout",
     "output_type": "stream",
     "text": [
      "2 kg\n"
     ]
    }
   ],
   "source": [
    "tomato_price = int(input(\"Tamatar kia hisab hain\"))\n",
    "if tomato_price <50:\n",
    "    print(\"give me 5kg\")\n",
    "else:\n",
    "    print(\"2 kg\")"
   ]
  },
  {
   "cell_type": "code",
   "execution_count": null,
   "id": "49cadaff-7f12-4d2e-970d-9092ae7d86e4",
   "metadata": {},
   "outputs": [],
   "source": []
  },
  {
   "cell_type": "code",
   "execution_count": null,
   "id": "55c92276-d668-4ef2-877b-ced7037136d8",
   "metadata": {},
   "outputs": [],
   "source": []
  },
  {
   "cell_type": "code",
   "execution_count": null,
   "id": "0d346b3a-1ed1-4264-868d-e51d79bdeb40",
   "metadata": {},
   "outputs": [],
   "source": []
  },
  {
   "cell_type": "code",
   "execution_count": null,
   "id": "10b5eceb-5e48-435c-a205-1285d9f943bb",
   "metadata": {},
   "outputs": [],
   "source": []
  },
  {
   "cell_type": "code",
   "execution_count": null,
   "id": "b72e603d-9164-4bbb-a7f5-570e0fb50011",
   "metadata": {},
   "outputs": [],
   "source": []
  }
 ],
 "metadata": {
  "kernelspec": {
   "display_name": "Python 3 (ipykernel)",
   "language": "python",
   "name": "python3"
  },
  "language_info": {
   "codemirror_mode": {
    "name": "ipython",
    "version": 3
   },
   "file_extension": ".py",
   "mimetype": "text/x-python",
   "name": "python",
   "nbconvert_exporter": "python",
   "pygments_lexer": "ipython3",
   "version": "3.11.7"
  }
 },
 "nbformat": 4,
 "nbformat_minor": 5
}
