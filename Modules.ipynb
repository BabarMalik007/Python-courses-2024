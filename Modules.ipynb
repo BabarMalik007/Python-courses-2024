{
 "cells": [
  {
   "cell_type": "code",
   "execution_count": 24,
   "id": "afc38653-5422-4e92-851a-3fd685fca056",
   "metadata": {},
   "outputs": [],
   "source": [
    "import car"
   ]
  },
  {
   "cell_type": "code",
   "execution_count": 25,
   "id": "35d7d06b-b6d2-4014-a9ff-42fd8ad382a5",
   "metadata": {},
   "outputs": [],
   "source": [
    "from car import Car , ElectricCar"
   ]
  },
  {
   "cell_type": "code",
   "execution_count": 22,
   "id": "358ae71e-952e-496d-85f4-17ec456b9aa2",
   "metadata": {},
   "outputs": [],
   "source": [
    "c1 = Car(\"honda\", 2025 , \"2025\")"
   ]
  },
  {
   "cell_type": "code",
   "execution_count": 6,
   "id": "6dca30aa-e463-4eaf-bb6b-b14053cdbdc9",
   "metadata": {},
   "outputs": [],
   "source": [
    "import math"
   ]
  },
  {
   "cell_type": "code",
   "execution_count": null,
   "id": "ca7e52e2-98cd-461c-913a-36bb5d566a53",
   "metadata": {},
   "outputs": [],
   "source": [
    "math."
   ]
  },
  {
   "cell_type": "code",
   "execution_count": 27,
   "id": "c8396f6d-7037-4904-8117-be949009dc02",
   "metadata": {},
   "outputs": [],
   "source": [
    "e1 = ElectricCar('bmw', '2027', '2026', \"excide\", 5000,200,27,70)"
   ]
  },
  {
   "cell_type": "code",
   "execution_count": 28,
   "id": "092267af-817d-4ee2-baf5-08d429940aaa",
   "metadata": {},
   "outputs": [
    {
     "data": {
      "text/plain": [
       "'bmw'"
      ]
     },
     "execution_count": 28,
     "metadata": {},
     "output_type": "execute_result"
    }
   ],
   "source": [
    "e1.make"
   ]
  },
  {
   "cell_type": "code",
   "execution_count": 29,
   "id": "2f8c58a1-0bb5-488c-b62a-242e7e1c3ac3",
   "metadata": {},
   "outputs": [
    {
     "data": {
      "text/plain": [
       "'2025 Honda 2025'"
      ]
     },
     "execution_count": 29,
     "metadata": {},
     "output_type": "execute_result"
    }
   ],
   "source": [
    "c1.get_descriptive_name()"
   ]
  },
  {
   "cell_type": "code",
   "execution_count": null,
   "id": "0bc85aa3-c205-4716-80f3-6b7a7d7d1da6",
   "metadata": {},
   "outputs": [],
   "source": []
  }
 ],
 "metadata": {
  "kernelspec": {
   "display_name": "Python 3 (ipykernel)",
   "language": "python",
   "name": "python3"
  },
  "language_info": {
   "codemirror_mode": {
    "name": "ipython",
    "version": 3
   },
   "file_extension": ".py",
   "mimetype": "text/x-python",
   "name": "python",
   "nbconvert_exporter": "python",
   "pygments_lexer": "ipython3",
   "version": "3.11.7"
  }
 },
 "nbformat": 4,
 "nbformat_minor": 5
}
